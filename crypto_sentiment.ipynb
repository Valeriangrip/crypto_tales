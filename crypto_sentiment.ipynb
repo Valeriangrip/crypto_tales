{
 "cells": [
  {
   "cell_type": "markdown",
   "metadata": {},
   "source": [
    "# Unit 12 - Tales from the Crypto\n",
    "\n",
    "---\n"
   ]
  },
  {
   "cell_type": "markdown",
   "metadata": {},
   "source": [
    "## 1. Sentiment Analysis\n",
    "\n",
    "Use the [newsapi](https://newsapi.org/) to pull the latest news articles for Bitcoin and Ethereum and create a DataFrame of sentiment scores for each coin.\n",
    "\n",
    "Use descriptive statistics to answer the following questions:\n",
    "1. Which coin had the highest mean positive score?\n",
    "2. Which coin had the highest negative score?\n",
    "3. Which coin had the highest positive score?"
   ]
  },
  {
   "cell_type": "code",
   "execution_count": 309,
   "metadata": {},
   "outputs": [
    {
     "name": "stderr",
     "output_type": "stream",
     "text": [
      "[nltk_data] Downloading package vader_lexicon to\n",
      "[nltk_data]     C:\\Users\\ironcommander\\AppData\\Roaming\\nltk_data...\n",
      "[nltk_data]   Package vader_lexicon is already up-to-date!\n"
     ]
    }
   ],
   "source": [
    "# Initial imports\n",
    "import os\n",
    "import pandas as pd\n",
    "from dotenv import load_dotenv\n",
    "import nltk as nltk\n",
    "nltk.download('vader_lexicon')  \n",
    "from nltk.sentiment.vader import SentimentIntensityAnalyzer\n",
    "analyzer = SentimentIntensityAnalyzer()\n",
    "from newsapi.newsapi_client import NewsApiClient\n",
    "from datetime import datetime, timedelta\n",
    "\n",
    "%matplotlib inline"
   ]
  },
  {
   "cell_type": "code",
   "execution_count": 310,
   "metadata": {},
   "outputs": [
    {
     "data": {
      "text/plain": [
       "True"
      ]
     },
     "execution_count": 310,
     "metadata": {},
     "output_type": "execute_result"
    }
   ],
   "source": [
    "# Read your api key environment variable\n",
    "load_dotenv()\n",
    "\n"
   ]
  },
  {
   "cell_type": "code",
   "execution_count": 311,
   "metadata": {},
   "outputs": [],
   "source": [
    "# Create a newsapi client\n",
    "newsapi = NewsApiClient(api_key=os.environ[\"NEWS_API_KEY\"])\n"
   ]
  },
  {
   "cell_type": "code",
   "execution_count": 312,
   "metadata": {},
   "outputs": [],
   "source": [
    "current_date = pd.Timestamp(datetime.now(), tz=\"America/New_York\").isoformat()\n",
    "past_date = pd.Timestamp(datetime.now()- timedelta(1), tz=\"America/New_York\").isoformat()\n",
    "\n",
    "# Instantiate SentimentIntensityAnalyzer\n",
    "sid = SentimentIntensityAnalyzer()\n"
   ]
  },
  {
   "cell_type": "code",
   "execution_count": 313,
   "metadata": {},
   "outputs": [],
   "source": [
    "def tokenizer(text):\n",
    "    \"\"\"Tokenizes text.\"\"\"\n",
    "    # Remove the punctuation from text\n",
    "    regex = re.compile(\"[^a-zA-Z ]\")\n",
    "    # Create a tokenized list of the words\n",
    "    re_clean = regex.sub('', text)\n",
    "    words = word_tokenize(re_clean)\n",
    "    # Lemmatize words into root words\n",
    "    lem = [lemmatizer.lemmatize(word) for word in words]\n",
    "    # Convert the words to lowercase & Remove the stop words\n",
    "    tokens = [word.lower() for word in lem if word.lower() not in sw]\n",
    "    return tokens\n"
   ]
  },
  {
   "cell_type": "code",
   "execution_count": 315,
   "metadata": {},
   "outputs": [],
   "source": [
    "# Use newsapi client to get most relevant 20 headlines per day in the past month\n",
    "# also calculates the vader of each article \n",
    "\n",
    "def get_headlines(keyword):\n",
    "    all_content=[]\n",
    "    all_description=[]\n",
    "    all_headlines=[]\n",
    "    all_dates = []    \n",
    "    date = datetime.strptime(current_date[:10], \"%Y-%m-%d\")\n",
    "    end_date = datetime.strptime(past_date[:10], \"%Y-%m-%d\")\n",
    "    print(f\"Fetching news about '{keyword}'\")\n",
    "    print(\"*\" * 30)\n",
    "    while date > end_date:\n",
    "        print(f\"retrieving news from: {date}\")\n",
    "        articles = newsapi.get_everything(\n",
    "            q=keyword,\n",
    "            from_param=str(date)[:10],\n",
    "            to=str(date)[:10],\n",
    "            language=\"en\",\n",
    "            sort_by=\"relevancy\",\n",
    "            page=1,\n",
    "        )\n",
    "        headlines = []\n",
    "        content = []\n",
    "        description = [] \n",
    "    \n",
    "        title_sent=[]\n",
    "        content_sent=[]\n",
    "        descript_sent=[]\n",
    "        all_title_sent=[]\n",
    "        all_content_sent=[]\n",
    "        all_descript_sent=[]\n",
    "        title_tokens=[]\n",
    "        content_tokens=[]\n",
    "        descript_tokens=[]\n",
    "        for i in range(0, len(articles[\"articles\"])):\n",
    "            headlines.append(articles[\"articles\"][i][\"title\"])\n",
    "            content.append(articles[\"articles\"][i][\"content\"])\n",
    "            description.append(articles[\"articles\"][i][\"description\"])\n",
    "        #vader sentiments\n",
    "        #for headlines\n",
    "            try:\n",
    "                \n",
    "                #title vader sentiments\n",
    "                text = articles[\"articles\"][i][\"title\"]\n",
    "                sentiment = analyzer.polarity_scores(text)\n",
    "                compound = sentiment[\"compound\"]\n",
    "                pos = sentiment[\"pos\"]\n",
    "                neu = sentiment[\"neu\"]\n",
    "                neg = sentiment[\"neg\"]\n",
    "        \n",
    "                title_sent.append({\n",
    "                    \"text_title\": text,\n",
    "                    \"date\": date,\n",
    "                    \"compound_title\": compound,\n",
    "                    \"positive_title\": pos,\n",
    "                    \"negative_title\": neg,\n",
    "                    \"neutral_title\": neu,\n",
    "                    \"title_tokens\":tokenizer(text)\n",
    "                })\n",
    "                all_title_sent.append(title_sent)\n",
    "\n",
    "\n",
    " #content vader sentiments\n",
    "                text = articles[\"articles\"][i][\"content\"]\n",
    "                sentiment = analyzer.polarity_scores(text)\n",
    "                compound = sentiment[\"compound\"]\n",
    "                pos = sentiment[\"pos\"]\n",
    "                neu = sentiment[\"neu\"]\n",
    "                neg = sentiment[\"neg\"]\n",
    "        \n",
    "                content_sent.append({\n",
    "                    \"text_content\": text,\n",
    "                    \n",
    "                    \"compound_cont\": compound,\n",
    "                    \"positive_cont\": pos,\n",
    "                    \"negative_cont\": neg,\n",
    "                    \"neutral_cont\": neu,\n",
    "                    \"content_tokens\":tokenizer(text)\n",
    "                })\n",
    "                all_content_sent.append(content.sent)\n",
    "\n",
    " #description vader sentiments\n",
    "                text = articles[\"articles\"][i][\"description\"]\n",
    "                \n",
    "                sentiment = analyzer.polarity_scores(text)\n",
    "                compound = sentiment[\"compound\"]\n",
    "                pos = sentiment[\"pos\"]\n",
    "                neu = sentiment[\"neu\"]\n",
    "                neg = sentiment[\"neg\"]\n",
    "        \n",
    "                descript_sent.append({\n",
    "                    \"text_descript\": text,\n",
    "\n",
    "                    \"compound_descript\": compound,\n",
    "                    \"positive_descript\": pos,\n",
    "                    \"negative_descript\": neg,\n",
    "                    \"neutral_descript\": neu,\n",
    "                    \"descript_tokens\":tokenizer(text)\n",
    "                })\n",
    "                all_descript_sent.append(descript_sent)\n",
    "\n",
    "\n",
    "            \n",
    "            except AttributeError:\n",
    "                pass\n",
    "    \n",
    "\n",
    "        all_headlines.append(headlines)\n",
    "        all_content.append(content)\n",
    "        all_description.append(description)\n",
    "        all_dates.append(date)\n",
    "        date = date - timedelta(days=1)\n",
    "\n",
    "         \n",
    "       # Create DataFrame\n",
    "    content_sentiment_df = pd.DataFrame(all_content_sent)\n",
    "    title_sentiment_df = pd.DataFrame(all_title_sent)\n",
    "    descript_sentiment_df = pd.DataFrame(all_descript_sent)\n",
    "    final_df = title_sentiment_df.join(content_sentiment_df).join(descript_sentiment_df)\n",
    "     # Reorder DataFrame columns\n",
    "    cols = [\"date\", \"text\", \"compound\", \"positive\", \"negative\", \"neutral\"]\n",
    "     #   df = df[cols]\n",
    "    \n",
    "\n",
    "\n",
    "\n",
    "    return all_headlines, all_dates, final_df\n",
    "    "
   ]
  },
  {
   "cell_type": "code",
   "execution_count": 316,
   "metadata": {},
   "outputs": [
    {
     "name": "stdout",
     "output_type": "stream",
     "text": [
      "Fetching news about 'bitcoin'\n",
      "******************************\n",
      "retrieving news from: 2022-02-12 00:00:00\n"
     ]
    },
    {
     "ename": "NewsAPIException",
     "evalue": "{'status': 'error', 'code': 'rateLimited', 'message': 'You have made too many requests recently. Developer accounts are limited to 100 requests over a 24 hour period (50 requests available every 12 hours). Please upgrade to a paid plan if you need more requests.'}",
     "output_type": "error",
     "traceback": [
      "\u001b[1;31m---------------------------------------------------------------------------\u001b[0m",
      "\u001b[1;31mNewsAPIException\u001b[0m                          Traceback (most recent call last)",
      "\u001b[1;32mC:\\Users\\IRONCO~2\\AppData\\Local\\Temp/ipykernel_3636/1230855302.py\u001b[0m in \u001b[0;36m<module>\u001b[1;34m\u001b[0m\n\u001b[0;32m      1\u001b[0m \u001b[1;31m# Fetch the Bitcoin news articles\u001b[0m\u001b[1;33m\u001b[0m\u001b[1;33m\u001b[0m\u001b[1;33m\u001b[0m\u001b[0m\n\u001b[1;32m----> 2\u001b[1;33m \u001b[0mbtc_headlines\u001b[0m\u001b[1;33m,\u001b[0m \u001b[0mbtc_dates\u001b[0m\u001b[1;33m,\u001b[0m \u001b[0mbtc_sentiments\u001b[0m \u001b[1;33m=\u001b[0m \u001b[0mget_headlines\u001b[0m\u001b[1;33m(\u001b[0m\u001b[1;34m\"bitcoin\"\u001b[0m\u001b[1;33m)\u001b[0m\u001b[1;33m\u001b[0m\u001b[1;33m\u001b[0m\u001b[0m\n\u001b[0m\u001b[0;32m      3\u001b[0m \u001b[0mprint\u001b[0m\u001b[1;33m(\u001b[0m\u001b[0mbtc_articles\u001b[0m\u001b[1;33m)\u001b[0m\u001b[1;33m\u001b[0m\u001b[1;33m\u001b[0m\u001b[0m\n",
      "\u001b[1;32mC:\\Users\\IRONCO~2\\AppData\\Local\\Temp/ipykernel_3636/3981755476.py\u001b[0m in \u001b[0;36mget_headlines\u001b[1;34m(keyword)\u001b[0m\n\u001b[0;32m     13\u001b[0m     \u001b[1;32mwhile\u001b[0m \u001b[0mdate\u001b[0m \u001b[1;33m>\u001b[0m \u001b[0mend_date\u001b[0m\u001b[1;33m:\u001b[0m\u001b[1;33m\u001b[0m\u001b[1;33m\u001b[0m\u001b[0m\n\u001b[0;32m     14\u001b[0m         \u001b[0mprint\u001b[0m\u001b[1;33m(\u001b[0m\u001b[1;34mf\"retrieving news from: {date}\"\u001b[0m\u001b[1;33m)\u001b[0m\u001b[1;33m\u001b[0m\u001b[1;33m\u001b[0m\u001b[0m\n\u001b[1;32m---> 15\u001b[1;33m         articles = newsapi.get_everything(\n\u001b[0m\u001b[0;32m     16\u001b[0m             \u001b[0mq\u001b[0m\u001b[1;33m=\u001b[0m\u001b[0mkeyword\u001b[0m\u001b[1;33m,\u001b[0m\u001b[1;33m\u001b[0m\u001b[1;33m\u001b[0m\u001b[0m\n\u001b[0;32m     17\u001b[0m             \u001b[0mfrom_param\u001b[0m\u001b[1;33m=\u001b[0m\u001b[0mstr\u001b[0m\u001b[1;33m(\u001b[0m\u001b[0mdate\u001b[0m\u001b[1;33m)\u001b[0m\u001b[1;33m[\u001b[0m\u001b[1;33m:\u001b[0m\u001b[1;36m10\u001b[0m\u001b[1;33m]\u001b[0m\u001b[1;33m,\u001b[0m\u001b[1;33m\u001b[0m\u001b[1;33m\u001b[0m\u001b[0m\n",
      "\u001b[1;32m~\\anaconda3\\lib\\site-packages\\newsapi\\newsapi_client.py\u001b[0m in \u001b[0;36mget_everything\u001b[1;34m(self, q, qintitle, sources, domains, exclude_domains, from_param, to, language, sort_by, page, page_size)\u001b[0m\n\u001b[0;32m    324\u001b[0m         \u001b[1;31m# Check Status of Request\u001b[0m\u001b[1;33m\u001b[0m\u001b[1;33m\u001b[0m\u001b[1;33m\u001b[0m\u001b[0m\n\u001b[0;32m    325\u001b[0m         \u001b[1;32mif\u001b[0m \u001b[0mr\u001b[0m\u001b[1;33m.\u001b[0m\u001b[0mstatus_code\u001b[0m \u001b[1;33m!=\u001b[0m \u001b[0mrequests\u001b[0m\u001b[1;33m.\u001b[0m\u001b[0mcodes\u001b[0m\u001b[1;33m.\u001b[0m\u001b[0mok\u001b[0m\u001b[1;33m:\u001b[0m\u001b[1;33m\u001b[0m\u001b[1;33m\u001b[0m\u001b[0m\n\u001b[1;32m--> 326\u001b[1;33m             \u001b[1;32mraise\u001b[0m \u001b[0mNewsAPIException\u001b[0m\u001b[1;33m(\u001b[0m\u001b[0mr\u001b[0m\u001b[1;33m.\u001b[0m\u001b[0mjson\u001b[0m\u001b[1;33m(\u001b[0m\u001b[1;33m)\u001b[0m\u001b[1;33m)\u001b[0m\u001b[1;33m\u001b[0m\u001b[1;33m\u001b[0m\u001b[0m\n\u001b[0m\u001b[0;32m    327\u001b[0m \u001b[1;33m\u001b[0m\u001b[0m\n\u001b[0;32m    328\u001b[0m         \u001b[1;32mreturn\u001b[0m \u001b[0mr\u001b[0m\u001b[1;33m.\u001b[0m\u001b[0mjson\u001b[0m\u001b[1;33m(\u001b[0m\u001b[1;33m)\u001b[0m\u001b[1;33m\u001b[0m\u001b[1;33m\u001b[0m\u001b[0m\n",
      "\u001b[1;31mNewsAPIException\u001b[0m: {'status': 'error', 'code': 'rateLimited', 'message': 'You have made too many requests recently. Developer accounts are limited to 100 requests over a 24 hour period (50 requests available every 12 hours). Please upgrade to a paid plan if you need more requests.'}"
     ]
    }
   ],
   "source": [
    "# Fetch the Bitcoin news articles\n",
    "btc_headlines, btc_dates, btc_sentiments = get_headlines(\"bitcoin\")\n",
    "print(btc_articles)"
   ]
  },
  {
   "cell_type": "code",
   "execution_count": null,
   "metadata": {},
   "outputs": [
    {
     "data": {
      "text/html": [
       "<div>\n",
       "<style scoped>\n",
       "    .dataframe tbody tr th:only-of-type {\n",
       "        vertical-align: middle;\n",
       "    }\n",
       "\n",
       "    .dataframe tbody tr th {\n",
       "        vertical-align: top;\n",
       "    }\n",
       "\n",
       "    .dataframe thead th {\n",
       "        text-align: right;\n",
       "    }\n",
       "</style>\n",
       "<table border=\"1\" class=\"dataframe\">\n",
       "  <thead>\n",
       "    <tr style=\"text-align: right;\">\n",
       "      <th></th>\n",
       "      <th>text_title</th>\n",
       "      <th>date</th>\n",
       "      <th>compound_title</th>\n",
       "      <th>positive_title</th>\n",
       "      <th>negative_title</th>\n",
       "      <th>neutral_title</th>\n",
       "      <th>text_content</th>\n",
       "      <th>compound_cont</th>\n",
       "      <th>positive_cont</th>\n",
       "      <th>negative_cont</th>\n",
       "      <th>neutral_cont</th>\n",
       "      <th>text_descript</th>\n",
       "      <th>compound_descript</th>\n",
       "      <th>positive_descript</th>\n",
       "      <th>negative_descript</th>\n",
       "      <th>neutral_descript</th>\n",
       "      <th>title_tokens</th>\n",
       "    </tr>\n",
       "  </thead>\n",
       "  <tbody>\n",
       "    <tr>\n",
       "      <th>0</th>\n",
       "      <td>Jack Dorsey’s Block is working to make Bitcoin...</td>\n",
       "      <td>2022-01-14</td>\n",
       "      <td>-0.0258</td>\n",
       "      <td>0.204</td>\n",
       "      <td>0.212</td>\n",
       "      <td>0.584</td>\n",
       "      <td>Were officially building an open Bitcoin minin...</td>\n",
       "      <td>-0.0258</td>\n",
       "      <td>0.204</td>\n",
       "      <td>0.212</td>\n",
       "      <td>0.584</td>\n",
       "      <td>Block is working on building an “open Bitcoin ...</td>\n",
       "      <td>0.3182</td>\n",
       "      <td>0.133</td>\n",
       "      <td>0.074</td>\n",
       "      <td>0.793</td>\n",
       "      <td>b</td>\n",
       "    </tr>\n",
       "    <tr>\n",
       "      <th>1</th>\n",
       "      <td>Block is officially building an 'open Bitcoin ...</td>\n",
       "      <td>2022-01-14</td>\n",
       "      <td>-0.4404</td>\n",
       "      <td>0.000</td>\n",
       "      <td>0.195</td>\n",
       "      <td>0.805</td>\n",
       "      <td>Block founder Jack Dorsey has announced on Twi...</td>\n",
       "      <td>-0.4404</td>\n",
       "      <td>0.000</td>\n",
       "      <td>0.195</td>\n",
       "      <td>0.805</td>\n",
       "      <td>Block founder Jack Dorsey has announced on Twi...</td>\n",
       "      <td>-0.4404</td>\n",
       "      <td>0.000</td>\n",
       "      <td>0.068</td>\n",
       "      <td>0.932</td>\n",
       "      <td>b</td>\n",
       "    </tr>\n",
       "    <tr>\n",
       "      <th>2</th>\n",
       "      <td>Musk says Tesla to accept dogecoin for merchan...</td>\n",
       "      <td>2022-01-14</td>\n",
       "      <td>0.3818</td>\n",
       "      <td>0.271</td>\n",
       "      <td>0.000</td>\n",
       "      <td>0.729</td>\n",
       "      <td>Tesla Inc (TSLA.O) will accept the meme-based ...</td>\n",
       "      <td>0.3818</td>\n",
       "      <td>0.271</td>\n",
       "      <td>0.000</td>\n",
       "      <td>0.729</td>\n",
       "      <td>&lt;table&gt;&lt;tr&gt;&lt;td&gt;&lt;/td&gt;&lt;/tr&gt;&lt;tr&gt;&lt;td&gt; Representati...</td>\n",
       "      <td>0.3818</td>\n",
       "      <td>0.094</td>\n",
       "      <td>0.000</td>\n",
       "      <td>0.906</td>\n",
       "      <td>b</td>\n",
       "    </tr>\n",
       "    <tr>\n",
       "      <th>3</th>\n",
       "      <td>Jack Dorsey says Block is building a bitcoin m...</td>\n",
       "      <td>2022-01-14</td>\n",
       "      <td>-0.2500</td>\n",
       "      <td>0.121</td>\n",
       "      <td>0.222</td>\n",
       "      <td>0.657</td>\n",
       "      <td>Jack Dorsey onstage at a bitcoin convention in...</td>\n",
       "      <td>-0.2500</td>\n",
       "      <td>0.121</td>\n",
       "      <td>0.222</td>\n",
       "      <td>0.657</td>\n",
       "      <td>Block is officially building a bitcoin mining ...</td>\n",
       "      <td>-0.4404</td>\n",
       "      <td>0.000</td>\n",
       "      <td>0.172</td>\n",
       "      <td>0.828</td>\n",
       "      <td>b</td>\n",
       "    </tr>\n",
       "    <tr>\n",
       "      <th>4</th>\n",
       "      <td>Anthony Scaramucci says he's not buying the di...</td>\n",
       "      <td>2022-01-14</td>\n",
       "      <td>0.0000</td>\n",
       "      <td>0.000</td>\n",
       "      <td>0.000</td>\n",
       "      <td>1.000</td>\n",
       "      <td>Former Trump White House communications direct...</td>\n",
       "      <td>0.0000</td>\n",
       "      <td>0.000</td>\n",
       "      <td>0.000</td>\n",
       "      <td>1.000</td>\n",
       "      <td>The bitcoin price is likely to consolidate for...</td>\n",
       "      <td>0.0000</td>\n",
       "      <td>0.000</td>\n",
       "      <td>0.000</td>\n",
       "      <td>1.000</td>\n",
       "      <td>b</td>\n",
       "    </tr>\n",
       "  </tbody>\n",
       "</table>\n",
       "</div>"
      ],
      "text/plain": [
       "                                          text_title       date  \\\n",
       "0  Jack Dorsey’s Block is working to make Bitcoin... 2022-01-14   \n",
       "1  Block is officially building an 'open Bitcoin ... 2022-01-14   \n",
       "2  Musk says Tesla to accept dogecoin for merchan... 2022-01-14   \n",
       "3  Jack Dorsey says Block is building a bitcoin m... 2022-01-14   \n",
       "4  Anthony Scaramucci says he's not buying the di... 2022-01-14   \n",
       "\n",
       "   compound_title  positive_title  negative_title  neutral_title  \\\n",
       "0         -0.0258           0.204           0.212          0.584   \n",
       "1         -0.4404           0.000           0.195          0.805   \n",
       "2          0.3818           0.271           0.000          0.729   \n",
       "3         -0.2500           0.121           0.222          0.657   \n",
       "4          0.0000           0.000           0.000          1.000   \n",
       "\n",
       "                                        text_content  compound_cont  \\\n",
       "0  Were officially building an open Bitcoin minin...        -0.0258   \n",
       "1  Block founder Jack Dorsey has announced on Twi...        -0.4404   \n",
       "2  Tesla Inc (TSLA.O) will accept the meme-based ...         0.3818   \n",
       "3  Jack Dorsey onstage at a bitcoin convention in...        -0.2500   \n",
       "4  Former Trump White House communications direct...         0.0000   \n",
       "\n",
       "   positive_cont  negative_cont  neutral_cont  \\\n",
       "0          0.204          0.212         0.584   \n",
       "1          0.000          0.195         0.805   \n",
       "2          0.271          0.000         0.729   \n",
       "3          0.121          0.222         0.657   \n",
       "4          0.000          0.000         1.000   \n",
       "\n",
       "                                       text_descript  compound_descript  \\\n",
       "0  Block is working on building an “open Bitcoin ...             0.3182   \n",
       "1  Block founder Jack Dorsey has announced on Twi...            -0.4404   \n",
       "2  <table><tr><td></td></tr><tr><td> Representati...             0.3818   \n",
       "3  Block is officially building a bitcoin mining ...            -0.4404   \n",
       "4  The bitcoin price is likely to consolidate for...             0.0000   \n",
       "\n",
       "   positive_descript  negative_descript  neutral_descript title_tokens  \n",
       "0              0.133              0.074             0.793            b  \n",
       "1              0.000              0.068             0.932            b  \n",
       "2              0.094              0.000             0.906            b  \n",
       "3              0.000              0.172             0.828            b  \n",
       "4              0.000              0.000             1.000            b  "
      ]
     },
     "execution_count": 308,
     "metadata": {},
     "output_type": "execute_result"
    }
   ],
   "source": [
    "btc_sentiments.head()"
   ]
  },
  {
   "cell_type": "markdown",
   "metadata": {},
   "source": []
  },
  {
   "cell_type": "code",
   "execution_count": null,
   "metadata": {},
   "outputs": [
    {
     "name": "stdout",
     "output_type": "stream",
     "text": [
      "Fetching news about 'ethereum'\n",
      "******************************\n",
      "retrieving news from: 2022-02-11 00:00:00\n",
      "retrieving news from: 2022-02-10 00:00:00\n",
      "retrieving news from: 2022-02-09 00:00:00\n"
     ]
    },
    {
     "ename": "KeyboardInterrupt",
     "evalue": "",
     "output_type": "error",
     "traceback": [
      "\u001b[1;31m---------------------------------------------------------------------------\u001b[0m",
      "\u001b[1;31mKeyboardInterrupt\u001b[0m                         Traceback (most recent call last)",
      "\u001b[1;32mC:\\Users\\IRONCO~2\\AppData\\Local\\Temp/ipykernel_32804/817894670.py\u001b[0m in \u001b[0;36m<module>\u001b[1;34m\u001b[0m\n\u001b[0;32m      1\u001b[0m \u001b[1;31m# Fetch the Ethereum news articles\u001b[0m\u001b[1;33m\u001b[0m\u001b[1;33m\u001b[0m\u001b[1;33m\u001b[0m\u001b[0m\n\u001b[1;32m----> 2\u001b[1;33m \u001b[0meth_headlines\u001b[0m\u001b[1;33m,\u001b[0m \u001b[0meth_dates\u001b[0m \u001b[1;33m=\u001b[0m \u001b[0mget_headlines\u001b[0m\u001b[1;33m(\u001b[0m\u001b[1;34m\"ethereum\"\u001b[0m\u001b[1;33m)\u001b[0m\u001b[1;33m\u001b[0m\u001b[1;33m\u001b[0m\u001b[0m\n\u001b[0m",
      "\u001b[1;32mC:\\Users\\IRONCO~2\\AppData\\Local\\Temp/ipykernel_32804/1202312939.py\u001b[0m in \u001b[0;36mget_headlines\u001b[1;34m(keyword)\u001b[0m\n\u001b[0;32m     12\u001b[0m     \u001b[1;32mwhile\u001b[0m \u001b[0mdate\u001b[0m \u001b[1;33m>\u001b[0m \u001b[0mend_date\u001b[0m\u001b[1;33m:\u001b[0m\u001b[1;33m\u001b[0m\u001b[1;33m\u001b[0m\u001b[0m\n\u001b[0;32m     13\u001b[0m         \u001b[0mprint\u001b[0m\u001b[1;33m(\u001b[0m\u001b[1;34mf\"retrieving news from: {date}\"\u001b[0m\u001b[1;33m)\u001b[0m\u001b[1;33m\u001b[0m\u001b[1;33m\u001b[0m\u001b[0m\n\u001b[1;32m---> 14\u001b[1;33m         articles = newsapi.get_everything(\n\u001b[0m\u001b[0;32m     15\u001b[0m             \u001b[0mq\u001b[0m\u001b[1;33m=\u001b[0m\u001b[0mkeyword\u001b[0m\u001b[1;33m,\u001b[0m\u001b[1;33m\u001b[0m\u001b[1;33m\u001b[0m\u001b[0m\n\u001b[0;32m     16\u001b[0m             \u001b[0mfrom_param\u001b[0m\u001b[1;33m=\u001b[0m\u001b[0mstr\u001b[0m\u001b[1;33m(\u001b[0m\u001b[0mdate\u001b[0m\u001b[1;33m)\u001b[0m\u001b[1;33m[\u001b[0m\u001b[1;33m:\u001b[0m\u001b[1;36m10\u001b[0m\u001b[1;33m]\u001b[0m\u001b[1;33m,\u001b[0m\u001b[1;33m\u001b[0m\u001b[1;33m\u001b[0m\u001b[0m\n",
      "\u001b[1;32m~\\anaconda3\\lib\\site-packages\\newsapi\\newsapi_client.py\u001b[0m in \u001b[0;36mget_everything\u001b[1;34m(self, q, qintitle, sources, domains, exclude_domains, from_param, to, language, sort_by, page, page_size)\u001b[0m\n\u001b[0;32m    320\u001b[0m \u001b[1;33m\u001b[0m\u001b[0m\n\u001b[0;32m    321\u001b[0m         \u001b[1;31m# Send Request\u001b[0m\u001b[1;33m\u001b[0m\u001b[1;33m\u001b[0m\u001b[1;33m\u001b[0m\u001b[0m\n\u001b[1;32m--> 322\u001b[1;33m         \u001b[0mr\u001b[0m \u001b[1;33m=\u001b[0m \u001b[0mself\u001b[0m\u001b[1;33m.\u001b[0m\u001b[0mrequest_method\u001b[0m\u001b[1;33m.\u001b[0m\u001b[0mget\u001b[0m\u001b[1;33m(\u001b[0m\u001b[0mconst\u001b[0m\u001b[1;33m.\u001b[0m\u001b[0mEVERYTHING_URL\u001b[0m\u001b[1;33m,\u001b[0m \u001b[0mauth\u001b[0m\u001b[1;33m=\u001b[0m\u001b[0mself\u001b[0m\u001b[1;33m.\u001b[0m\u001b[0mauth\u001b[0m\u001b[1;33m,\u001b[0m \u001b[0mtimeout\u001b[0m\u001b[1;33m=\u001b[0m\u001b[1;36m30\u001b[0m\u001b[1;33m,\u001b[0m \u001b[0mparams\u001b[0m\u001b[1;33m=\u001b[0m\u001b[0mpayload\u001b[0m\u001b[1;33m)\u001b[0m\u001b[1;33m\u001b[0m\u001b[1;33m\u001b[0m\u001b[0m\n\u001b[0m\u001b[0;32m    323\u001b[0m \u001b[1;33m\u001b[0m\u001b[0m\n\u001b[0;32m    324\u001b[0m         \u001b[1;31m# Check Status of Request\u001b[0m\u001b[1;33m\u001b[0m\u001b[1;33m\u001b[0m\u001b[1;33m\u001b[0m\u001b[0m\n",
      "\u001b[1;32m~\\anaconda3\\lib\\site-packages\\requests\\api.py\u001b[0m in \u001b[0;36mget\u001b[1;34m(url, params, **kwargs)\u001b[0m\n\u001b[0;32m     73\u001b[0m     \"\"\"\n\u001b[0;32m     74\u001b[0m \u001b[1;33m\u001b[0m\u001b[0m\n\u001b[1;32m---> 75\u001b[1;33m     \u001b[1;32mreturn\u001b[0m \u001b[0mrequest\u001b[0m\u001b[1;33m(\u001b[0m\u001b[1;34m'get'\u001b[0m\u001b[1;33m,\u001b[0m \u001b[0murl\u001b[0m\u001b[1;33m,\u001b[0m \u001b[0mparams\u001b[0m\u001b[1;33m=\u001b[0m\u001b[0mparams\u001b[0m\u001b[1;33m,\u001b[0m \u001b[1;33m**\u001b[0m\u001b[0mkwargs\u001b[0m\u001b[1;33m)\u001b[0m\u001b[1;33m\u001b[0m\u001b[1;33m\u001b[0m\u001b[0m\n\u001b[0m\u001b[0;32m     76\u001b[0m \u001b[1;33m\u001b[0m\u001b[0m\n\u001b[0;32m     77\u001b[0m \u001b[1;33m\u001b[0m\u001b[0m\n",
      "\u001b[1;32m~\\anaconda3\\lib\\site-packages\\requests\\api.py\u001b[0m in \u001b[0;36mrequest\u001b[1;34m(method, url, **kwargs)\u001b[0m\n\u001b[0;32m     59\u001b[0m     \u001b[1;31m# cases, and look like a memory leak in others.\u001b[0m\u001b[1;33m\u001b[0m\u001b[1;33m\u001b[0m\u001b[1;33m\u001b[0m\u001b[0m\n\u001b[0;32m     60\u001b[0m     \u001b[1;32mwith\u001b[0m \u001b[0msessions\u001b[0m\u001b[1;33m.\u001b[0m\u001b[0mSession\u001b[0m\u001b[1;33m(\u001b[0m\u001b[1;33m)\u001b[0m \u001b[1;32mas\u001b[0m \u001b[0msession\u001b[0m\u001b[1;33m:\u001b[0m\u001b[1;33m\u001b[0m\u001b[1;33m\u001b[0m\u001b[0m\n\u001b[1;32m---> 61\u001b[1;33m         \u001b[1;32mreturn\u001b[0m \u001b[0msession\u001b[0m\u001b[1;33m.\u001b[0m\u001b[0mrequest\u001b[0m\u001b[1;33m(\u001b[0m\u001b[0mmethod\u001b[0m\u001b[1;33m=\u001b[0m\u001b[0mmethod\u001b[0m\u001b[1;33m,\u001b[0m \u001b[0murl\u001b[0m\u001b[1;33m=\u001b[0m\u001b[0murl\u001b[0m\u001b[1;33m,\u001b[0m \u001b[1;33m**\u001b[0m\u001b[0mkwargs\u001b[0m\u001b[1;33m)\u001b[0m\u001b[1;33m\u001b[0m\u001b[1;33m\u001b[0m\u001b[0m\n\u001b[0m\u001b[0;32m     62\u001b[0m \u001b[1;33m\u001b[0m\u001b[0m\n\u001b[0;32m     63\u001b[0m \u001b[1;33m\u001b[0m\u001b[0m\n",
      "\u001b[1;32m~\\anaconda3\\lib\\site-packages\\requests\\sessions.py\u001b[0m in \u001b[0;36mrequest\u001b[1;34m(self, method, url, params, data, headers, cookies, files, auth, timeout, allow_redirects, proxies, hooks, stream, verify, cert, json)\u001b[0m\n\u001b[0;32m    527\u001b[0m         }\n\u001b[0;32m    528\u001b[0m         \u001b[0msend_kwargs\u001b[0m\u001b[1;33m.\u001b[0m\u001b[0mupdate\u001b[0m\u001b[1;33m(\u001b[0m\u001b[0msettings\u001b[0m\u001b[1;33m)\u001b[0m\u001b[1;33m\u001b[0m\u001b[1;33m\u001b[0m\u001b[0m\n\u001b[1;32m--> 529\u001b[1;33m         \u001b[0mresp\u001b[0m \u001b[1;33m=\u001b[0m \u001b[0mself\u001b[0m\u001b[1;33m.\u001b[0m\u001b[0msend\u001b[0m\u001b[1;33m(\u001b[0m\u001b[0mprep\u001b[0m\u001b[1;33m,\u001b[0m \u001b[1;33m**\u001b[0m\u001b[0msend_kwargs\u001b[0m\u001b[1;33m)\u001b[0m\u001b[1;33m\u001b[0m\u001b[1;33m\u001b[0m\u001b[0m\n\u001b[0m\u001b[0;32m    530\u001b[0m \u001b[1;33m\u001b[0m\u001b[0m\n\u001b[0;32m    531\u001b[0m         \u001b[1;32mreturn\u001b[0m \u001b[0mresp\u001b[0m\u001b[1;33m\u001b[0m\u001b[1;33m\u001b[0m\u001b[0m\n",
      "\u001b[1;32m~\\anaconda3\\lib\\site-packages\\requests\\sessions.py\u001b[0m in \u001b[0;36msend\u001b[1;34m(self, request, **kwargs)\u001b[0m\n\u001b[0;32m    643\u001b[0m \u001b[1;33m\u001b[0m\u001b[0m\n\u001b[0;32m    644\u001b[0m         \u001b[1;31m# Send the request\u001b[0m\u001b[1;33m\u001b[0m\u001b[1;33m\u001b[0m\u001b[1;33m\u001b[0m\u001b[0m\n\u001b[1;32m--> 645\u001b[1;33m         \u001b[0mr\u001b[0m \u001b[1;33m=\u001b[0m \u001b[0madapter\u001b[0m\u001b[1;33m.\u001b[0m\u001b[0msend\u001b[0m\u001b[1;33m(\u001b[0m\u001b[0mrequest\u001b[0m\u001b[1;33m,\u001b[0m \u001b[1;33m**\u001b[0m\u001b[0mkwargs\u001b[0m\u001b[1;33m)\u001b[0m\u001b[1;33m\u001b[0m\u001b[1;33m\u001b[0m\u001b[0m\n\u001b[0m\u001b[0;32m    646\u001b[0m \u001b[1;33m\u001b[0m\u001b[0m\n\u001b[0;32m    647\u001b[0m         \u001b[1;31m# Total elapsed time of the request (approximately)\u001b[0m\u001b[1;33m\u001b[0m\u001b[1;33m\u001b[0m\u001b[1;33m\u001b[0m\u001b[0m\n",
      "\u001b[1;32m~\\anaconda3\\lib\\site-packages\\requests\\adapters.py\u001b[0m in \u001b[0;36msend\u001b[1;34m(self, request, stream, timeout, verify, cert, proxies)\u001b[0m\n\u001b[0;32m    438\u001b[0m         \u001b[1;32mtry\u001b[0m\u001b[1;33m:\u001b[0m\u001b[1;33m\u001b[0m\u001b[1;33m\u001b[0m\u001b[0m\n\u001b[0;32m    439\u001b[0m             \u001b[1;32mif\u001b[0m \u001b[1;32mnot\u001b[0m \u001b[0mchunked\u001b[0m\u001b[1;33m:\u001b[0m\u001b[1;33m\u001b[0m\u001b[1;33m\u001b[0m\u001b[0m\n\u001b[1;32m--> 440\u001b[1;33m                 resp = conn.urlopen(\n\u001b[0m\u001b[0;32m    441\u001b[0m                     \u001b[0mmethod\u001b[0m\u001b[1;33m=\u001b[0m\u001b[0mrequest\u001b[0m\u001b[1;33m.\u001b[0m\u001b[0mmethod\u001b[0m\u001b[1;33m,\u001b[0m\u001b[1;33m\u001b[0m\u001b[1;33m\u001b[0m\u001b[0m\n\u001b[0;32m    442\u001b[0m                     \u001b[0murl\u001b[0m\u001b[1;33m=\u001b[0m\u001b[0murl\u001b[0m\u001b[1;33m,\u001b[0m\u001b[1;33m\u001b[0m\u001b[1;33m\u001b[0m\u001b[0m\n",
      "\u001b[1;32m~\\anaconda3\\lib\\site-packages\\urllib3\\connectionpool.py\u001b[0m in \u001b[0;36murlopen\u001b[1;34m(self, method, url, body, headers, retries, redirect, assert_same_host, timeout, pool_timeout, release_conn, chunked, body_pos, **response_kw)\u001b[0m\n\u001b[0;32m    701\u001b[0m \u001b[1;33m\u001b[0m\u001b[0m\n\u001b[0;32m    702\u001b[0m             \u001b[1;31m# Make the request on the httplib connection object.\u001b[0m\u001b[1;33m\u001b[0m\u001b[1;33m\u001b[0m\u001b[1;33m\u001b[0m\u001b[0m\n\u001b[1;32m--> 703\u001b[1;33m             httplib_response = self._make_request(\n\u001b[0m\u001b[0;32m    704\u001b[0m                 \u001b[0mconn\u001b[0m\u001b[1;33m,\u001b[0m\u001b[1;33m\u001b[0m\u001b[1;33m\u001b[0m\u001b[0m\n\u001b[0;32m    705\u001b[0m                 \u001b[0mmethod\u001b[0m\u001b[1;33m,\u001b[0m\u001b[1;33m\u001b[0m\u001b[1;33m\u001b[0m\u001b[0m\n",
      "\u001b[1;32m~\\anaconda3\\lib\\site-packages\\urllib3\\connectionpool.py\u001b[0m in \u001b[0;36m_make_request\u001b[1;34m(self, conn, method, url, timeout, chunked, **httplib_request_kw)\u001b[0m\n\u001b[0;32m    447\u001b[0m                     \u001b[1;31m# Python 3 (including for exceptions like SystemExit).\u001b[0m\u001b[1;33m\u001b[0m\u001b[1;33m\u001b[0m\u001b[1;33m\u001b[0m\u001b[0m\n\u001b[0;32m    448\u001b[0m                     \u001b[1;31m# Otherwise it looks like a bug in the code.\u001b[0m\u001b[1;33m\u001b[0m\u001b[1;33m\u001b[0m\u001b[1;33m\u001b[0m\u001b[0m\n\u001b[1;32m--> 449\u001b[1;33m                     \u001b[0msix\u001b[0m\u001b[1;33m.\u001b[0m\u001b[0mraise_from\u001b[0m\u001b[1;33m(\u001b[0m\u001b[0me\u001b[0m\u001b[1;33m,\u001b[0m \u001b[1;32mNone\u001b[0m\u001b[1;33m)\u001b[0m\u001b[1;33m\u001b[0m\u001b[1;33m\u001b[0m\u001b[0m\n\u001b[0m\u001b[0;32m    450\u001b[0m         \u001b[1;32mexcept\u001b[0m \u001b[1;33m(\u001b[0m\u001b[0mSocketTimeout\u001b[0m\u001b[1;33m,\u001b[0m \u001b[0mBaseSSLError\u001b[0m\u001b[1;33m,\u001b[0m \u001b[0mSocketError\u001b[0m\u001b[1;33m)\u001b[0m \u001b[1;32mas\u001b[0m \u001b[0me\u001b[0m\u001b[1;33m:\u001b[0m\u001b[1;33m\u001b[0m\u001b[1;33m\u001b[0m\u001b[0m\n\u001b[0;32m    451\u001b[0m             \u001b[0mself\u001b[0m\u001b[1;33m.\u001b[0m\u001b[0m_raise_timeout\u001b[0m\u001b[1;33m(\u001b[0m\u001b[0merr\u001b[0m\u001b[1;33m=\u001b[0m\u001b[0me\u001b[0m\u001b[1;33m,\u001b[0m \u001b[0murl\u001b[0m\u001b[1;33m=\u001b[0m\u001b[0murl\u001b[0m\u001b[1;33m,\u001b[0m \u001b[0mtimeout_value\u001b[0m\u001b[1;33m=\u001b[0m\u001b[0mread_timeout\u001b[0m\u001b[1;33m)\u001b[0m\u001b[1;33m\u001b[0m\u001b[1;33m\u001b[0m\u001b[0m\n",
      "\u001b[1;32m~\\anaconda3\\lib\\site-packages\\urllib3\\packages\\six.py\u001b[0m in \u001b[0;36mraise_from\u001b[1;34m(value, from_value)\u001b[0m\n",
      "\u001b[1;32m~\\anaconda3\\lib\\site-packages\\urllib3\\connectionpool.py\u001b[0m in \u001b[0;36m_make_request\u001b[1;34m(self, conn, method, url, timeout, chunked, **httplib_request_kw)\u001b[0m\n\u001b[0;32m    442\u001b[0m                 \u001b[1;31m# Python 3\u001b[0m\u001b[1;33m\u001b[0m\u001b[1;33m\u001b[0m\u001b[1;33m\u001b[0m\u001b[0m\n\u001b[0;32m    443\u001b[0m                 \u001b[1;32mtry\u001b[0m\u001b[1;33m:\u001b[0m\u001b[1;33m\u001b[0m\u001b[1;33m\u001b[0m\u001b[0m\n\u001b[1;32m--> 444\u001b[1;33m                     \u001b[0mhttplib_response\u001b[0m \u001b[1;33m=\u001b[0m \u001b[0mconn\u001b[0m\u001b[1;33m.\u001b[0m\u001b[0mgetresponse\u001b[0m\u001b[1;33m(\u001b[0m\u001b[1;33m)\u001b[0m\u001b[1;33m\u001b[0m\u001b[1;33m\u001b[0m\u001b[0m\n\u001b[0m\u001b[0;32m    445\u001b[0m                 \u001b[1;32mexcept\u001b[0m \u001b[0mBaseException\u001b[0m \u001b[1;32mas\u001b[0m \u001b[0me\u001b[0m\u001b[1;33m:\u001b[0m\u001b[1;33m\u001b[0m\u001b[1;33m\u001b[0m\u001b[0m\n\u001b[0;32m    446\u001b[0m                     \u001b[1;31m# Remove the TypeError from the exception chain in\u001b[0m\u001b[1;33m\u001b[0m\u001b[1;33m\u001b[0m\u001b[1;33m\u001b[0m\u001b[0m\n",
      "\u001b[1;32m~\\anaconda3\\lib\\http\\client.py\u001b[0m in \u001b[0;36mgetresponse\u001b[1;34m(self)\u001b[0m\n\u001b[0;32m   1345\u001b[0m         \u001b[1;32mtry\u001b[0m\u001b[1;33m:\u001b[0m\u001b[1;33m\u001b[0m\u001b[1;33m\u001b[0m\u001b[0m\n\u001b[0;32m   1346\u001b[0m             \u001b[1;32mtry\u001b[0m\u001b[1;33m:\u001b[0m\u001b[1;33m\u001b[0m\u001b[1;33m\u001b[0m\u001b[0m\n\u001b[1;32m-> 1347\u001b[1;33m                 \u001b[0mresponse\u001b[0m\u001b[1;33m.\u001b[0m\u001b[0mbegin\u001b[0m\u001b[1;33m(\u001b[0m\u001b[1;33m)\u001b[0m\u001b[1;33m\u001b[0m\u001b[1;33m\u001b[0m\u001b[0m\n\u001b[0m\u001b[0;32m   1348\u001b[0m             \u001b[1;32mexcept\u001b[0m \u001b[0mConnectionError\u001b[0m\u001b[1;33m:\u001b[0m\u001b[1;33m\u001b[0m\u001b[1;33m\u001b[0m\u001b[0m\n\u001b[0;32m   1349\u001b[0m                 \u001b[0mself\u001b[0m\u001b[1;33m.\u001b[0m\u001b[0mclose\u001b[0m\u001b[1;33m(\u001b[0m\u001b[1;33m)\u001b[0m\u001b[1;33m\u001b[0m\u001b[1;33m\u001b[0m\u001b[0m\n",
      "\u001b[1;32m~\\anaconda3\\lib\\http\\client.py\u001b[0m in \u001b[0;36mbegin\u001b[1;34m(self)\u001b[0m\n\u001b[0;32m    305\u001b[0m         \u001b[1;31m# read until we get a non-100 response\u001b[0m\u001b[1;33m\u001b[0m\u001b[1;33m\u001b[0m\u001b[1;33m\u001b[0m\u001b[0m\n\u001b[0;32m    306\u001b[0m         \u001b[1;32mwhile\u001b[0m \u001b[1;32mTrue\u001b[0m\u001b[1;33m:\u001b[0m\u001b[1;33m\u001b[0m\u001b[1;33m\u001b[0m\u001b[0m\n\u001b[1;32m--> 307\u001b[1;33m             \u001b[0mversion\u001b[0m\u001b[1;33m,\u001b[0m \u001b[0mstatus\u001b[0m\u001b[1;33m,\u001b[0m \u001b[0mreason\u001b[0m \u001b[1;33m=\u001b[0m \u001b[0mself\u001b[0m\u001b[1;33m.\u001b[0m\u001b[0m_read_status\u001b[0m\u001b[1;33m(\u001b[0m\u001b[1;33m)\u001b[0m\u001b[1;33m\u001b[0m\u001b[1;33m\u001b[0m\u001b[0m\n\u001b[0m\u001b[0;32m    308\u001b[0m             \u001b[1;32mif\u001b[0m \u001b[0mstatus\u001b[0m \u001b[1;33m!=\u001b[0m \u001b[0mCONTINUE\u001b[0m\u001b[1;33m:\u001b[0m\u001b[1;33m\u001b[0m\u001b[1;33m\u001b[0m\u001b[0m\n\u001b[0;32m    309\u001b[0m                 \u001b[1;32mbreak\u001b[0m\u001b[1;33m\u001b[0m\u001b[1;33m\u001b[0m\u001b[0m\n",
      "\u001b[1;32m~\\anaconda3\\lib\\http\\client.py\u001b[0m in \u001b[0;36m_read_status\u001b[1;34m(self)\u001b[0m\n\u001b[0;32m    266\u001b[0m \u001b[1;33m\u001b[0m\u001b[0m\n\u001b[0;32m    267\u001b[0m     \u001b[1;32mdef\u001b[0m \u001b[0m_read_status\u001b[0m\u001b[1;33m(\u001b[0m\u001b[0mself\u001b[0m\u001b[1;33m)\u001b[0m\u001b[1;33m:\u001b[0m\u001b[1;33m\u001b[0m\u001b[1;33m\u001b[0m\u001b[0m\n\u001b[1;32m--> 268\u001b[1;33m         \u001b[0mline\u001b[0m \u001b[1;33m=\u001b[0m \u001b[0mstr\u001b[0m\u001b[1;33m(\u001b[0m\u001b[0mself\u001b[0m\u001b[1;33m.\u001b[0m\u001b[0mfp\u001b[0m\u001b[1;33m.\u001b[0m\u001b[0mreadline\u001b[0m\u001b[1;33m(\u001b[0m\u001b[0m_MAXLINE\u001b[0m \u001b[1;33m+\u001b[0m \u001b[1;36m1\u001b[0m\u001b[1;33m)\u001b[0m\u001b[1;33m,\u001b[0m \u001b[1;34m\"iso-8859-1\"\u001b[0m\u001b[1;33m)\u001b[0m\u001b[1;33m\u001b[0m\u001b[1;33m\u001b[0m\u001b[0m\n\u001b[0m\u001b[0;32m    269\u001b[0m         \u001b[1;32mif\u001b[0m \u001b[0mlen\u001b[0m\u001b[1;33m(\u001b[0m\u001b[0mline\u001b[0m\u001b[1;33m)\u001b[0m \u001b[1;33m>\u001b[0m \u001b[0m_MAXLINE\u001b[0m\u001b[1;33m:\u001b[0m\u001b[1;33m\u001b[0m\u001b[1;33m\u001b[0m\u001b[0m\n\u001b[0;32m    270\u001b[0m             \u001b[1;32mraise\u001b[0m \u001b[0mLineTooLong\u001b[0m\u001b[1;33m(\u001b[0m\u001b[1;34m\"status line\"\u001b[0m\u001b[1;33m)\u001b[0m\u001b[1;33m\u001b[0m\u001b[1;33m\u001b[0m\u001b[0m\n",
      "\u001b[1;32m~\\anaconda3\\lib\\socket.py\u001b[0m in \u001b[0;36mreadinto\u001b[1;34m(self, b)\u001b[0m\n\u001b[0;32m    667\u001b[0m         \u001b[1;32mwhile\u001b[0m \u001b[1;32mTrue\u001b[0m\u001b[1;33m:\u001b[0m\u001b[1;33m\u001b[0m\u001b[1;33m\u001b[0m\u001b[0m\n\u001b[0;32m    668\u001b[0m             \u001b[1;32mtry\u001b[0m\u001b[1;33m:\u001b[0m\u001b[1;33m\u001b[0m\u001b[1;33m\u001b[0m\u001b[0m\n\u001b[1;32m--> 669\u001b[1;33m                 \u001b[1;32mreturn\u001b[0m \u001b[0mself\u001b[0m\u001b[1;33m.\u001b[0m\u001b[0m_sock\u001b[0m\u001b[1;33m.\u001b[0m\u001b[0mrecv_into\u001b[0m\u001b[1;33m(\u001b[0m\u001b[0mb\u001b[0m\u001b[1;33m)\u001b[0m\u001b[1;33m\u001b[0m\u001b[1;33m\u001b[0m\u001b[0m\n\u001b[0m\u001b[0;32m    670\u001b[0m             \u001b[1;32mexcept\u001b[0m \u001b[0mtimeout\u001b[0m\u001b[1;33m:\u001b[0m\u001b[1;33m\u001b[0m\u001b[1;33m\u001b[0m\u001b[0m\n\u001b[0;32m    671\u001b[0m                 \u001b[0mself\u001b[0m\u001b[1;33m.\u001b[0m\u001b[0m_timeout_occurred\u001b[0m \u001b[1;33m=\u001b[0m \u001b[1;32mTrue\u001b[0m\u001b[1;33m\u001b[0m\u001b[1;33m\u001b[0m\u001b[0m\n",
      "\u001b[1;32m~\\anaconda3\\lib\\ssl.py\u001b[0m in \u001b[0;36mrecv_into\u001b[1;34m(self, buffer, nbytes, flags)\u001b[0m\n\u001b[0;32m   1239\u001b[0m                   \u001b[1;34m\"non-zero flags not allowed in calls to recv_into() on %s\"\u001b[0m \u001b[1;33m%\u001b[0m\u001b[1;33m\u001b[0m\u001b[1;33m\u001b[0m\u001b[0m\n\u001b[0;32m   1240\u001b[0m                   self.__class__)\n\u001b[1;32m-> 1241\u001b[1;33m             \u001b[1;32mreturn\u001b[0m \u001b[0mself\u001b[0m\u001b[1;33m.\u001b[0m\u001b[0mread\u001b[0m\u001b[1;33m(\u001b[0m\u001b[0mnbytes\u001b[0m\u001b[1;33m,\u001b[0m \u001b[0mbuffer\u001b[0m\u001b[1;33m)\u001b[0m\u001b[1;33m\u001b[0m\u001b[1;33m\u001b[0m\u001b[0m\n\u001b[0m\u001b[0;32m   1242\u001b[0m         \u001b[1;32melse\u001b[0m\u001b[1;33m:\u001b[0m\u001b[1;33m\u001b[0m\u001b[1;33m\u001b[0m\u001b[0m\n\u001b[0;32m   1243\u001b[0m             \u001b[1;32mreturn\u001b[0m \u001b[0msuper\u001b[0m\u001b[1;33m(\u001b[0m\u001b[1;33m)\u001b[0m\u001b[1;33m.\u001b[0m\u001b[0mrecv_into\u001b[0m\u001b[1;33m(\u001b[0m\u001b[0mbuffer\u001b[0m\u001b[1;33m,\u001b[0m \u001b[0mnbytes\u001b[0m\u001b[1;33m,\u001b[0m \u001b[0mflags\u001b[0m\u001b[1;33m)\u001b[0m\u001b[1;33m\u001b[0m\u001b[1;33m\u001b[0m\u001b[0m\n",
      "\u001b[1;32m~\\anaconda3\\lib\\ssl.py\u001b[0m in \u001b[0;36mread\u001b[1;34m(self, len, buffer)\u001b[0m\n\u001b[0;32m   1097\u001b[0m         \u001b[1;32mtry\u001b[0m\u001b[1;33m:\u001b[0m\u001b[1;33m\u001b[0m\u001b[1;33m\u001b[0m\u001b[0m\n\u001b[0;32m   1098\u001b[0m             \u001b[1;32mif\u001b[0m \u001b[0mbuffer\u001b[0m \u001b[1;32mis\u001b[0m \u001b[1;32mnot\u001b[0m \u001b[1;32mNone\u001b[0m\u001b[1;33m:\u001b[0m\u001b[1;33m\u001b[0m\u001b[1;33m\u001b[0m\u001b[0m\n\u001b[1;32m-> 1099\u001b[1;33m                 \u001b[1;32mreturn\u001b[0m \u001b[0mself\u001b[0m\u001b[1;33m.\u001b[0m\u001b[0m_sslobj\u001b[0m\u001b[1;33m.\u001b[0m\u001b[0mread\u001b[0m\u001b[1;33m(\u001b[0m\u001b[0mlen\u001b[0m\u001b[1;33m,\u001b[0m \u001b[0mbuffer\u001b[0m\u001b[1;33m)\u001b[0m\u001b[1;33m\u001b[0m\u001b[1;33m\u001b[0m\u001b[0m\n\u001b[0m\u001b[0;32m   1100\u001b[0m             \u001b[1;32melse\u001b[0m\u001b[1;33m:\u001b[0m\u001b[1;33m\u001b[0m\u001b[1;33m\u001b[0m\u001b[0m\n\u001b[0;32m   1101\u001b[0m                 \u001b[1;32mreturn\u001b[0m \u001b[0mself\u001b[0m\u001b[1;33m.\u001b[0m\u001b[0m_sslobj\u001b[0m\u001b[1;33m.\u001b[0m\u001b[0mread\u001b[0m\u001b[1;33m(\u001b[0m\u001b[0mlen\u001b[0m\u001b[1;33m)\u001b[0m\u001b[1;33m\u001b[0m\u001b[1;33m\u001b[0m\u001b[0m\n",
      "\u001b[1;31mKeyboardInterrupt\u001b[0m: "
     ]
    }
   ],
   "source": [
    "# Fetch the Ethereum news articles\n",
    "eth_headlines, eth_dates = get_headlines(\"ethereum\")"
   ]
  },
  {
   "cell_type": "code",
   "execution_count": null,
   "metadata": {},
   "outputs": [
    {
     "data": {
      "text/plain": [
       "'With Valentine’s Day Approaching, the FBI Warns Issues a Scammer Alert'"
      ]
     },
     "execution_count": 118,
     "metadata": {},
     "output_type": "execute_result"
    }
   ],
   "source": [
    "btc_headlines[0][19]"
   ]
  },
  {
   "cell_type": "code",
   "execution_count": null,
   "metadata": {},
   "outputs": [],
   "source": []
  },
  {
   "cell_type": "code",
   "execution_count": null,
   "metadata": {},
   "outputs": [
    {
     "data": {
      "text/plain": [
       "20"
      ]
     },
     "execution_count": 119,
     "metadata": {},
     "output_type": "execute_result"
    }
   ],
   "source": [
    "len(btc_headlines[20])"
   ]
  },
  {
   "cell_type": "code",
   "execution_count": null,
   "metadata": {},
   "outputs": [],
   "source": [
    "eth_df.head()"
   ]
  },
  {
   "cell_type": "code",
   "execution_count": null,
   "metadata": {},
   "outputs": [
    {
     "data": {
      "text/html": [
       "<div>\n",
       "<style scoped>\n",
       "    .dataframe tbody tr th:only-of-type {\n",
       "        vertical-align: middle;\n",
       "    }\n",
       "\n",
       "    .dataframe tbody tr th {\n",
       "        vertical-align: top;\n",
       "    }\n",
       "\n",
       "    .dataframe thead th {\n",
       "        text-align: right;\n",
       "    }\n",
       "</style>\n",
       "<table border=\"1\" class=\"dataframe\">\n",
       "  <thead>\n",
       "    <tr style=\"text-align: right;\">\n",
       "      <th></th>\n",
       "      <th>compound_title</th>\n",
       "      <th>positive_title</th>\n",
       "      <th>negative_title</th>\n",
       "      <th>neutral_title</th>\n",
       "      <th>compound_cont</th>\n",
       "      <th>positive_cont</th>\n",
       "      <th>negative_cont</th>\n",
       "      <th>neutral_cont</th>\n",
       "      <th>compound_descript</th>\n",
       "      <th>positive_descript</th>\n",
       "      <th>negative_descript</th>\n",
       "      <th>neutral_descript</th>\n",
       "    </tr>\n",
       "  </thead>\n",
       "  <tbody>\n",
       "    <tr>\n",
       "      <th>count</th>\n",
       "      <td>20.000000</td>\n",
       "      <td>20.00000</td>\n",
       "      <td>20.000000</td>\n",
       "      <td>20.000000</td>\n",
       "      <td>20.000000</td>\n",
       "      <td>20.00000</td>\n",
       "      <td>20.000000</td>\n",
       "      <td>20.000000</td>\n",
       "      <td>20.00000</td>\n",
       "      <td>20.000000</td>\n",
       "      <td>20.000000</td>\n",
       "      <td>20.000000</td>\n",
       "    </tr>\n",
       "    <tr>\n",
       "      <th>mean</th>\n",
       "      <td>0.040480</td>\n",
       "      <td>0.11000</td>\n",
       "      <td>0.085250</td>\n",
       "      <td>0.804750</td>\n",
       "      <td>0.040480</td>\n",
       "      <td>0.11000</td>\n",
       "      <td>0.085250</td>\n",
       "      <td>0.804750</td>\n",
       "      <td>0.02287</td>\n",
       "      <td>0.074450</td>\n",
       "      <td>0.060200</td>\n",
       "      <td>0.865350</td>\n",
       "    </tr>\n",
       "    <tr>\n",
       "      <th>std</th>\n",
       "      <td>0.305733</td>\n",
       "      <td>0.11134</td>\n",
       "      <td>0.105671</td>\n",
       "      <td>0.131597</td>\n",
       "      <td>0.305733</td>\n",
       "      <td>0.11134</td>\n",
       "      <td>0.105671</td>\n",
       "      <td>0.131597</td>\n",
       "      <td>0.47172</td>\n",
       "      <td>0.082575</td>\n",
       "      <td>0.074619</td>\n",
       "      <td>0.102381</td>\n",
       "    </tr>\n",
       "    <tr>\n",
       "      <th>min</th>\n",
       "      <td>-0.440400</td>\n",
       "      <td>0.00000</td>\n",
       "      <td>0.000000</td>\n",
       "      <td>0.552000</td>\n",
       "      <td>-0.440400</td>\n",
       "      <td>0.00000</td>\n",
       "      <td>0.000000</td>\n",
       "      <td>0.552000</td>\n",
       "      <td>-0.83600</td>\n",
       "      <td>0.000000</td>\n",
       "      <td>0.000000</td>\n",
       "      <td>0.693000</td>\n",
       "    </tr>\n",
       "    <tr>\n",
       "      <th>25%</th>\n",
       "      <td>-0.250000</td>\n",
       "      <td>0.00000</td>\n",
       "      <td>0.000000</td>\n",
       "      <td>0.728500</td>\n",
       "      <td>-0.250000</td>\n",
       "      <td>0.00000</td>\n",
       "      <td>0.000000</td>\n",
       "      <td>0.728500</td>\n",
       "      <td>-0.44040</td>\n",
       "      <td>0.000000</td>\n",
       "      <td>0.000000</td>\n",
       "      <td>0.782000</td>\n",
       "    </tr>\n",
       "    <tr>\n",
       "      <th>50%</th>\n",
       "      <td>0.000000</td>\n",
       "      <td>0.12750</td>\n",
       "      <td>0.000000</td>\n",
       "      <td>0.800500</td>\n",
       "      <td>0.000000</td>\n",
       "      <td>0.12750</td>\n",
       "      <td>0.000000</td>\n",
       "      <td>0.800500</td>\n",
       "      <td>0.00000</td>\n",
       "      <td>0.058500</td>\n",
       "      <td>0.000000</td>\n",
       "      <td>0.873500</td>\n",
       "    </tr>\n",
       "    <tr>\n",
       "      <th>75%</th>\n",
       "      <td>0.323650</td>\n",
       "      <td>0.20575</td>\n",
       "      <td>0.188250</td>\n",
       "      <td>0.864750</td>\n",
       "      <td>0.323650</td>\n",
       "      <td>0.20575</td>\n",
       "      <td>0.188250</td>\n",
       "      <td>0.864750</td>\n",
       "      <td>0.34530</td>\n",
       "      <td>0.123250</td>\n",
       "      <td>0.134750</td>\n",
       "      <td>0.940750</td>\n",
       "    </tr>\n",
       "    <tr>\n",
       "      <th>max</th>\n",
       "      <td>0.542300</td>\n",
       "      <td>0.27300</td>\n",
       "      <td>0.293000</td>\n",
       "      <td>1.000000</td>\n",
       "      <td>0.542300</td>\n",
       "      <td>0.27300</td>\n",
       "      <td>0.293000</td>\n",
       "      <td>1.000000</td>\n",
       "      <td>0.92170</td>\n",
       "      <td>0.307000</td>\n",
       "      <td>0.210000</td>\n",
       "      <td>1.000000</td>\n",
       "    </tr>\n",
       "  </tbody>\n",
       "</table>\n",
       "</div>"
      ],
      "text/plain": [
       "       compound_title  positive_title  negative_title  neutral_title  \\\n",
       "count       20.000000        20.00000       20.000000      20.000000   \n",
       "mean         0.040480         0.11000        0.085250       0.804750   \n",
       "std          0.305733         0.11134        0.105671       0.131597   \n",
       "min         -0.440400         0.00000        0.000000       0.552000   \n",
       "25%         -0.250000         0.00000        0.000000       0.728500   \n",
       "50%          0.000000         0.12750        0.000000       0.800500   \n",
       "75%          0.323650         0.20575        0.188250       0.864750   \n",
       "max          0.542300         0.27300        0.293000       1.000000   \n",
       "\n",
       "       compound_cont  positive_cont  negative_cont  neutral_cont  \\\n",
       "count      20.000000       20.00000      20.000000     20.000000   \n",
       "mean        0.040480        0.11000       0.085250      0.804750   \n",
       "std         0.305733        0.11134       0.105671      0.131597   \n",
       "min        -0.440400        0.00000       0.000000      0.552000   \n",
       "25%        -0.250000        0.00000       0.000000      0.728500   \n",
       "50%         0.000000        0.12750       0.000000      0.800500   \n",
       "75%         0.323650        0.20575       0.188250      0.864750   \n",
       "max         0.542300        0.27300       0.293000      1.000000   \n",
       "\n",
       "       compound_descript  positive_descript  negative_descript  \\\n",
       "count           20.00000          20.000000          20.000000   \n",
       "mean             0.02287           0.074450           0.060200   \n",
       "std              0.47172           0.082575           0.074619   \n",
       "min             -0.83600           0.000000           0.000000   \n",
       "25%             -0.44040           0.000000           0.000000   \n",
       "50%              0.00000           0.058500           0.000000   \n",
       "75%              0.34530           0.123250           0.134750   \n",
       "max              0.92170           0.307000           0.210000   \n",
       "\n",
       "       neutral_descript  \n",
       "count         20.000000  \n",
       "mean           0.865350  \n",
       "std            0.102381  \n",
       "min            0.693000  \n",
       "25%            0.782000  \n",
       "50%            0.873500  \n",
       "75%            0.940750  \n",
       "max            1.000000  "
      ]
     },
     "execution_count": 122,
     "metadata": {},
     "output_type": "execute_result"
    }
   ],
   "source": [
    "# Describe the Bitcoin Sentiment\n",
    "btc_sentiments.describe()"
   ]
  },
  {
   "cell_type": "code",
   "execution_count": null,
   "metadata": {},
   "outputs": [],
   "source": [
    "# Describe the Ethereum Sentiment\n",
    "eth_df.describe()"
   ]
  },
  {
   "cell_type": "markdown",
   "metadata": {},
   "source": [
    "### Questions:\n",
    "\n",
    "Q: Which coin had the highest mean positive score?\n",
    "\n",
    "A: \n",
    "\n",
    "Q: Which coin had the highest compound score?\n",
    "\n",
    "A: \n",
    "\n",
    "Q. Which coin had the highest positive score?\n",
    "\n",
    "A: "
   ]
  },
  {
   "cell_type": "markdown",
   "metadata": {},
   "source": [
    "---"
   ]
  },
  {
   "cell_type": "markdown",
   "metadata": {},
   "source": [
    "## 2. Natural Language Processing\n",
    "---\n",
    "###   Tokenizer\n",
    "\n",
    "In this section, you will use NLTK and Python to tokenize the text for each coin. Be sure to:\n",
    "1. Lowercase each word.\n",
    "2. Remove Punctuation.\n",
    "3. Remove Stopwords."
   ]
  },
  {
   "cell_type": "code",
   "execution_count": null,
   "metadata": {},
   "outputs": [],
   "source": [
    "from nltk.tokenize import word_tokenize, sent_tokenize\n",
    "from nltk.corpus import stopwords\n",
    "from nltk.stem import WordNetLemmatizer, PorterStemmer\n",
    "from string import punctuation\n",
    "import re"
   ]
  },
  {
   "cell_type": "code",
   "execution_count": null,
   "metadata": {},
   "outputs": [],
   "source": [
    "# Instantiate the lemmatizer\n",
    "lemmatizer = WordNetLemmatizer()\n",
    "\n",
    "# Create a list of stopwords\n",
    "sw = set(stopwords.words('english'))\n",
    "\n",
    "# Expand the default stopwords list if necessary\n",
    "# YOUR CODE HERE!"
   ]
  },
  {
   "cell_type": "code",
   "execution_count": null,
   "metadata": {},
   "outputs": [],
   "source": [
    "# Complete the tokenizer function\n",
    "def tokenizer(text):\n",
    "    \"\"\"Tokenizes text.\"\"\"\n",
    "    # Remove the punctuation from text\n",
    "    regex = re.compile(\"[^a-zA-Z ]\")\n",
    "    # Create a tokenized list of the words\n",
    "    re_clean = regex.sub('', text)\n",
    "    words = word_tokenize(re_clean)\n",
    "    # Lemmatize words into root words\n",
    "    lem = [lemmatizer.lemmatize(word) for word in words]\n",
    "    # Convert the words to lowercase & Remove the stop words\n",
    "    tokens = [word.lower() for word in lem if word.lower() not in sw]\n",
    "    return tokens\n",
    "\n"
   ]
  },
  {
   "cell_type": "code",
   "execution_count": 358,
   "metadata": {},
   "outputs": [
    {
     "name": "stdout",
     "output_type": "stream",
     "text": [
      "['took', 'days', 'netflix', 'order', 'docuseries', 'bonnie', 'clyde', 'crypto', 'world', 'bitcoin', 'paradise', 'briton', 'creates', 'crypto', 'utopia', 'south', 'pacific', 'cia', 'secretly', 'run', 'bulk', 'collection', 'program', 'youtube', 'exploring', 'web', 'onlyfans', 'debuts', 'nft', 'profile', 'pictures', 'weeks', 'business', 'crypto', 'roundup', 'obj', 'hope', 'come', 'rams', 'drake', 'uber', 'ceo', 'says', 'app', 'absolutely', 'accept', 'crypto', 'payment', 'future', 'galaxy', 'ha', 'builtin', 'cryptocurrency', 'wallet', 'bitcoin', 'v', 'sp', 'better', 'first', 'investment', 'crypto', 'suddenly', 'braced', 'huge', 'trillion', 'earthquake', 'extreme', 'volatility', 'hits', 'price', 'bitcoin', 'ethereum', 'bnb', 'solana', 'cardano', 'xrp', 'ui', 'business', 'alum', 'donates', 'bitcoin', 'fund', 'blockchain', 'education', 'champaignurbana', 'newsgazette', 'crypto', 'recovering', 'time', 'invest', 'bitcoin', 'hodler', 'accumulation', 'increasing', 'nationstate', 'bitcoin', 'strategies', 'envisioned', 'peter', 'thiel', 'searches', 'realitybending', 'secrets', 'solo', 'mine', 'bitcoin', 'using', 'blockstream', 'satellite', 'fed', 'monetary', 'policy', 'geopolitics', 'sink', 'bitcoin', 'btc', 'bitcoin', 'annuities', 'revitalize', 'poor', 'value', 'many', 'lives', 'cryptos', 'notorious', 'couple', 'chinese', 'bitcoin', 'miner', 'exodus', 'face', 'hurdle', 'equipment', 'remains', 'stuck', 'shipment', 'delay', 'tariff', 'legal', 'quagmire', 'valentines', 'day', 'approaching', 'fbi', 'warns', 'issues', 'scammer', 'alert', 'netflix', 'already', 'making', 'docuseries', 'alleged', 'billiondollar', 'bitcoin', 'launderers', 'wall', 'st', 'week', 'ahead', 'crypto', 'investor', 'face', 'uncertainty', 'rocky', 'start', 'reuters', 'intel', 'launch', 'blockchain', 'chip', 'tap', 'crypto', 'boom', 'reuters', 'twitter', 'aim', 'edge', 'big', 'techs', 'crypto', 'contest', 'opennode', 'investment', 'beginners', 'guide', 'learning', 'trade', 'bitcoin', 'us', 'dollar', 'net', 'long', 'bet', 'skid', 'lowest', 'since', 'midaugust', 'cftc', 'reuters', 'reuters', 'top', 'ten', 'weekend', 'read', 'inflation', 'fear', 'opportunity', 'investor', 'dapper', 'labs', 'minting', 'nfts', 'flow', 'take', 'le', 'energy', 'google', 'search', 'dow', 'fall', 'point', 'russiaukraine', 'tension', 'rise', 'robinhood', 'planning', 'go', 'crypto', 'first', 'global', 'expansion', 'meet', 'guy', 'went', 'viral', 'explaining', 'nfts', 'poverty', 'trap', 'techcrunch', 'roundup', 'investor', 'warning', 'sign', 'chinas', 'av', 'frenzy', 'insurtech', 'trend', 'course', 'netflix', 'ordered', 'movie', 'big', 'crypto', 'scandal', 'rapper', 'drake', 'turns', 'bitcoin', 'milliondollar', 'bet', 'jpmorgan', 'reveals', 'bitcoins', 'biggest', 'challengealong', 'surprise', 'bitcoin', 'price', 'fair', 'value', 'profile', 'couple', 'accused', 'conspiring', 'launder', 'around', 'b', 'stolen', 'bitcoin', 'pieced', 'together', 'source', 'filing', 'voluminous', 'online', 'record', 'tim', 'marchmanvice', 'intel', 'ship', 'bonanza', 'mine', 'chip', 'year', 'enters', 'bitcoin', 'mining', 'market', 'creates', 'custom', 'compute', 'group', 'design', 'build', 'blockchain', 'hardware', 'paul', 'alcorntoms', 'hardware', 'wild', 'story', 'hipster', 'rapper', 'alleged', 'bitcoin', 'bandits', 'set', 'netflix', 'doc', 'series', 'personal', 'finance', 'daily', 'green', 'super', 'bowl', 'oceanfriendly', 'straw', 'nikolas', 'hydrogen', 'beer', 'truck', 'try', 'lower', 'nfl', 'championship', 'carbon', 'footprint', 'valentines', 'day', 'could', 'billion', 'gift', 'restaurant', 'retailer', 'cities', 'turning', 'crypto', 'grassroots', 'fundraising', 'playing', 'crypto', 'youll', 'need', 'wallet', 'several', 'privacy', 'coin', 'cryptocurrencies', 'traded', 'anonymously', 'inside', 'chess', 'match', 'led', 'feds', 'billion', 'stolen', 'bitcoin', 'someone', 'bought', 'nfts', 'accused', 'bitcoin', 'launderer', 'theyre', 'pissed', 'dont', 'bother', 'investing', 'crypto', 'youre', 'ignoring', 'k', 'match', 'say', 'yearold', 'millionaire', 'used', 'work', 'wall', 'street', 'cryptos', 'bonnie', 'clyde', 'love', 'story', 'told', 'social', 'medium', 'crypto', 'exchange', 'binance', 'make', 'investment', 'forbes', 'crypto', 'bitcoin', 'slump', 'news', 'us', 'inflation', 'rose', 'january', 'better', 'risk', 'sentiment', 'help', 'antipodeans', 'trader', 'wait', 'us', 'inflation', 'data', 'reuters', 'hampshire', 'tinder', 'fraudster', 'jailed', 'conning', 'woman', 'wwf', 'debacle', 'make', 'clear', 'ecofriendly', 'nfts', 'dont', 'really', 'exist', 'bitcoin', 'payment', 'processor', 'opennode', 'raise', 'series', 'led', 'kingsway', 'valuation', 'twitter', 'tim', 'draper', 'avon', 'ventures', 'also', 'invested', 'marc', 'wojnozdnet', 'parody', 'rapper', 'arrested', 'lesser', 'crime', 'allegedly', 'colaundering', 'billion', 'bitcoin', 'hacker', 'hunting', 'lost', 'bitcoin', 'billion', 'ontario', 'court', 'freeze', 'access', 'givesendgo', 'donation', 'trucker', 'protest', 'globe', 'mail', 'ontario', 'court', 'freeze', 'access', 'donation', 'trucker', 'protest', 'givesendgo', 'cp', 'torontos', 'breaking', 'news', 'inflation', 'disney', 'bitcoin', 'k', 'quicktake', 'stock', 'cryptocurrency', 'attracting', 'black', 'latino', 'investor', 'fan', 'business', 'week', 'get', 'bn', 'bitcoin', 'us', 'seized', 'bitfinex', 'hack', 'crypto', 'bubble', 'going', 'burst', 'ilya', 'lichtenstein', 'heather', 'morgan', 'charged', 'bitcoin', 'case', 'doj', 'tout', 'seizure', 'billion', 'stolen', 'bitcoin', 'reuters', 'breakingviews', 'spending', 'bitcoin', 'harder', 'stealing', 'reuters', 'bitcoin', 'billionaire', 'mike', 'novogratz', 'say', 'billion', 'bitfinex', 'hack', 'recovery', 'bullish', 'crypto', 'show', 'strength', 'blockchain', 'moneywatch', 'super', 'bowl', 'sport', 'betting', 'stolen', 'bitcoin', 'seized', 'earned', 'income', 'tax', 'credit', 'dojs', 'b', 'seizure', 'shows', 'hard', 'launder', 'crypto', 'nft', 'accounts', 'couple', 'allegedly', 'tried', 'launder', 'billion', 'stolen', 'crypto', 'disappeared', 'gofundme', 'proved', 'bitcoins', 'use', 'case', 'global', 'regulator', 'going', 'full', 'steam', 'tame', 'crypto', 'currency', 'reuters', 'tesla', 'owns', 'billion', 'usd', 'bitcoin', 'digital', 'broker', 'expand', 'offering', 'revive', 'retail', 'investor', 'buzz', 'uk', 'us', 'australia', 'issue', 'joint', 'advisory', 'ransomwareasaservice', 'loose', 'critical', 'national', 'infrastructure', 'affected', 'personal', 'finance', 'daily', 'workers', 'burned', 'want', 'flexibility', 'remote', 'work', 'may', 'cure', 'survey', 'say', 'way', 'cybercriminals', 'use', 'employee', 'attack', 'office', 'equipment', 'malware', 'meet', 'heather', 'morgan', 'ilya', 'lichtenstein', 'couple', 'arrested', 'laundering', 'billion', 'crypto', 'department', 'justice', 'recovers', 'billion', 'usd', 'bitcoin', 'stolen', 'bitfinex', 'hack', 'kpmg', 'canada', 'adds', 'bitcoin', 'ethereum', 'corporate', 'balance', 'sheet', 'us', 'seizes', 'billion', 'stolen', 'bitcoin', 'solving', 'bitcoin', 'scam', 'helps', 'institutionalize', 'crypto', 'us', 'judge', 'halt', 'bail', 'crypto', 'couple', 'bn', 'bitcoin', 'hack', 'justice', 'dept', 'seizes', 'billion', 'bitcoin', 'arrests', 'married', 'couple', 'cryptoverseafter', 'bitcoin', 'winter', 'investor', 'hunt', 'risk', 'virtual', 'world', 'reuters', 'crypto', 'donation', 'soar', 'group', 'backing', 'ukraines', 'government', 'report', 'reuters', 'doj', 'arrest', 'new', 'york', 'couple', 'seizes', 'billion', 'bitcoin', 'related', 'hack', 'selfproclaimed', 'crocodile', 'wall', 'street', 'snagged', 'big', 'bitcoin', 'bust', 'reuters', 'us', 'married', 'couple', 'arrested', 'allegedly', 'conspiring', 'launder', 'bn', 'bitcoin', 'hash', 'rate', 'measure', 'computing', 'power', 'cryptocurrency', 'network', 'key', 'security', 'indicator', 'us', 'arrest', 'couple', 'allegedly', 'laundering', 'bln', 'crypto', 'tied', 'bitfinex', 'hack', 'reuters', 'euro', 'bounce', 'pause', 'ahead', 'us', 'inflation', 'reuters', 'canadas', 'tmx', 'group', 'plan', 'cryptocurrency', 'future', 'product', 'institutional', 'investor', 'reuters', 'yearold', 'ceo', 'pushing', 'crypto', 'super', 'bowl', 'giving', 'away', 'millions', 'bitcoin', 'cryptocurrency', 'trading', 'boom', 'creating', 'new', 'generation', 'addict', 'new', 'etf', 'iwin', 'fight', 'inflation', 'hits', 'market', 'recordhigh', 'seizure', 'bn', 'stolen', 'bitcoin', 'feds', 'arrest', 'couple', 'seize', 'b', 'hacked', 'bitcoin', 'fund', 'doj', 'announces', 'arrest', 'alleged', 'billion', 'cryptocurrency', 'laundering', 'scheme', 'financial', 'crime', 'new', 'york', 'hipster', 'duo', 'charged', 'mega', 'bitcoin', 'heist', 'serial', 'entrepreneur', 'used', 'startup', 'launder', 'money', 'prosecutor', 'say', 'defi', 'help', 'women', 'take', 'back', 'control', 'finances', 'close', 'wealth', 'gap', 'ny', 'couple', 'charged', 'conspiring', 'launder', 'crypto', 'billion', 'business', 'updates', 'softbank', 'edges', 'back', 'profitability', 'tech', 'sector', 'suffers', 'banks', 'froze', 'accounts', 'adult', 'entertainers', 'turned', 'cryptocurrencies', 'us', 'stock', 'future', 'dip', 'investor', 'look', 'toward', 'key', 'inflation', 'data', 'bitcoin', 'jump', 'ted', 'cruz', 'bitcoin', 'booster', 'bought', 'bunch', 'bitcoin', 'sec', 'subpoenaed', 'tesla', 'november', 'elon', 'musk', 'tweet', 'filing', 'reveals', 'play', 'wordle', 'game', 'boy', 'analogue', 'pocket', 'us', 'stock', 'close', 'mostly', 'lower', 'investor', 'weigh', 'inflation', 'concern', 'earnings', 'strength', 'shiba', 'inu', 'rally', 'new', 'high', 'meme', 'coin', 'soar', 'grain', 'digital', 'platform', 'covantis', 'add', 'north', 'america', 'crop', 'reuters', 'crypto', 'firm', 'launch', 'coalition', 'promote', 'market', 'integrity', 'reuters', 'cant', 'bitcoin', 'staked', 'bitcoin', 'switch', 'pos', 'peloton', 'spirit', 'airlines', 'tyson', 'foods', 'reuters', 'need', 'know', 'crypto', 'like', 'hydrogen', 'jpmorgan', 'strategist', 'say', 'valuation', 'ahead', 'reality', 'crypto', 'crypto', 'volatile', 'kpmg', 'canada', 'added', 'bitcoin', 'ether', 'balance', 'sheet', 'heres', 'crypto', 'bitcoin', 'could', 'see', 'gain', 'reaching', 'say', 'technical', 'analyst', 'ensure', 'heirs', 'access', 'bitcoin', 'crypto', 'firms', 'launch', 'coalition', 'promote', 'market', 'integrity', 'ottawa', 'protest', 'rally', 'vaccine', 'mandate', 'begin', 'whats', 'next', 'crypto', 'spring', 'bitcoin', 'hit', 'gain', 'five', 'straight', 'day', 'bitcoinlinked', 'stocks', 'rocketing', 'higher', 'today', 'americas', 'bitcoin', 'miners', 'georgia', 'minds', 'frequently', 'asked', 'questions', 'nftsnonfungible', 'tokens', 'buy', 'bitcoin', 'coinbase', 'let', 'receive', 'tax', 'refund', 'cryptocurrency', 'addressing', 'bitcoin', 'energy', 'fud', 'showing', 'mirror', 'bitcoin', 'becoming', 'another', 'tech', 'stock', 'forbes', 'corporate', 'argument', 'bitcoin', 'best', 'stocks', 'crypto', 'etfs', 'watch', 'disney', 'twitter', 'bitcoin', 'bonds', 'focus', 'tech', 'week', 'el', 'salvador', 'reject', 'imf', 'call', 'drop', 'bitcoin', 'use', 'euronews', 'bitcoin', 'btc', 'consolidates', 'fridays', 'breakout', 'hold', 'investing', 'cryptocurrencies', 'blockchain', 'safe', 'bet', 'florida', 'go', 'ahead', 'receive', 'state', 'fees', 'crypto', 'bitcoin', 'accounting', 'rule', 'make', 'better', 'invest', 'stack', 'comic', 'book', 'web', 'doesnt', 'care', 'privacy', 'bitcoin', 'notification', 'system', 'guidelines', 'trading', 'cryptocurrency', 'blockchain', 'bitcoin', 'rejected', 'attacking', 'k', 'trader', 'say', 'btc', 'price', 'impulse', 'move', 'done', 'yet', 'lost', 'bitcoin', 'may', 'donation', 'hindering', 'adoption', 'best', 'yet', 'come', 'coinbase', 'dave', 'portnoy', 'bitcoiner', 'thinks', 'youre', 'idiot', 'dont', 'hold', 'crypto', 'power', 'future', 'work', 'people', 'color', 'bitcoin', 'technically', 'religion', 'scholar', 'investigates', 'linus', 'torvalds', 'bitcoin', 'creator', 'satoshi', 'nakamoto', 'bitcoins', 'fungibility', 'graveyard', 'best', 'cryptocurrency', 'payment', 'gateways', 'billionaire', 'michael', 'saylor', 'winklevoss', 'bros', 'celebrate', 'bitcoin', 'rebound', 'thestreet', 'growing', 'russian', 'ransomware', 'threat', 'costing', 'company', 'dear', 'heres', 'cathie', 'wood', 'bullish', 'bitcoin', 'im', 'advocate', 'inclusive', 'capitalism', 'heres', 'im', 'intrigued', 'web', 'bitcoin', 'ethereum', 'polkadot', 'solana', 'jumped', 'weekend', 'bitcoin', 'climbs', 'biggest', 'rally', 'months', 'bitcoin', 'powered', 'ubi', 'heres', 'jack', 'dorsey', 'plan', 'solveincome', 'inequality', 'quantum', 'computer', 'may', 'able', 'break', 'bitcoin', 'sooner', 'think', 'trio', 'tier', 'cryptos', 'every', 'newbie', 'congress', 'introduces', 'radical', 'crypto', 'bill', 'unleash', 'innovation', 'price', 'bitcoin', 'ethereum', 'suddenly', 'soar', 'cryptocurrencies', 'avoid', 'matter', 'bitcoin', 'hit', 'twoweek', 'high', 'solana', 'ethereum', 'dogecoin', 'jump', 'boston', 'fed', 'mit', 'release', 'first', 'result', 'cbdc', 'research', 'cryptoslate', 'bitcoin', 'begin', 'climb', 'bitcoin', 'downslope', 'network', 'effects', 'growing', 'bitcoin', 'development', 'ecosystem', 'africa', 'bitcoin', 'surge', 'reuters', 'texas', 'bitcoin', 'miners', 'shutting', 'help', 'power', 'grid', 'survive', 'winter', 'storm', 'crypto', 'trading', 'platform', 'says', 'owning', 'crypto', 'totally', 'get', 'laid', 'conversation', 'people', 'call', 'bitcoin', 'religion', 'crypto', 'bitcoin', 'rallying', 'friday', 'crypto', 'clamber', 'perch', 'following', 'job', 'report', 'bitcoin', 'posts', 'biggest', 'jump', 'since', 'october', 'proof', 'stake', 'pos', 'heres', 'need', 'know', 'bitcoin', 'mining', 'stocks', 'soared', 'friday', 'bitcoin', 'buy', 'taproot', 'upgrade', 'people', 'really', 'really', 'hate', 'future', 'internet', 'bitcoin', 'ethereum', 'solana', 'absolutely', 'skyrocketed', 'today', 'bitcoin', 'loyalty', 'programs', 'trend', 'future', 'attack', 'market', 'wrap', 'bitcoin', 'rallies', 'altcoins', 'take', 'lead', 'coindesk', 'bitcoin', 'jump', 'climb', 'past', 'first', 'time', 'week', 'expect', 'indictment', 'nft', 'space', 'soon', 'reuters', 'financial', 'technology', 'companies', 'changing', 'handle', 'assets', 'coinbase', 'give', 'tax', 'refunds', 'cryptocurrency', 'interest', 'digital', 'currencies', 'grows', 'even', 'governments', 'remain', 'wary', 'buy', 'bitcoin', 'cryptocurrency', 'dubai', 'leading', 'exchange', 'investorfocused', 'social', 'medium', 'firm', 'stocktwits', 'roll', 'crypto', 'trading', 'reuters', 'biggest', 'bitcoin', 'miner', 'texas', 'shutting', 'ahead', 'blast', 'winter', 'weather', 'state', 'crypto', 'network', 'wormhole', 'hit', 'possible', 'mln', 'hack', 'reuters', 'ransomware', 'wants', 'like', 'subscribe', 'else', 'metaverse', 'stock', 'nvidia', 'roblox', 'fall', 'facebook', 'parent', 'metas', 'web', 'business', 'report', 'massive', 'loss', 'analysis', 'us', 'ipo', 'slowdown', 'slam', 'door', 'tech', 'unicorn', 'looking', 'cash', 'reuters', 'analysisus', 'ipo', 'slowdown', 'slam', 'door', 'tech', 'unicorn', 'looking', 'cash', 'reuterscom', 'web', 'going', 'change', 'world', 'el', 'salvador', 'revamps', 'bitcoin', 'wallet', 'complaint', 'theft', 'fraud', 'ahead', 'expected', 'icy', 'weather', 'riot', 'blockchain', 'largest', 'bitcoin', 'mining', 'company', 'texas', 'reduces', 'power', 'consumption', 'whinstone', 'facility', 'michael', 'smithbloomberg', 'move', 'toward', 'digital', 'dollar', 'gain', 'steam', 'boston', 'fed', 'say', 'prototype', 'handle', 'million', 'transaction', 'per', 'second', 'meld', 'launch', 'decentralized', 'lending', 'cardano', 'unbanked', 'bitcoin', 'using', 'lot', 'energy', 'actually', 'good', 'thing', 'could', 'bitcoin', 'hit', 'trillion', 'jack', 'dorseys', 'opinion', 'bitcoin', 'scares', 'bitcoin', 'veteran', 'raises', 'million', 'bring', 'daos', 'nfts', 'first', 'cryptocurrency', 'etf', 'wrap', 'facebook', 'parent', 'stock', 'plunge', 'spotlight', 'peril', 'etf', 'investor', 'big', 'singlestock', 'exposure', 'problem', 'nfts', 'crypto', 'expert', 'responds', 'viral', 'takedown', 'bitcoin', 'doesnt', 'offer', 'staking', 'still', 'buy', 'bitcoin', 'ethereum', 'dogecoin', 'dropped', 'today', 'year', 'elon', 'musks', 'tesla', 'bought', 'bitcoin', 'risk', 'company', 'take', 'putting', 'balance', 'sheet', 'investment', 'strategy', 'say', 'microstrategy', 'reported', 'million', 'impairment', 'charge', 'related', 'bitcoin', 'holding', 'th', 'quarter', 'el', 'salvador', 'angrily', 'rejects', 'imf', 'call', 'drop', 'bitcoin', 'use', 'bitcoin', 'price', 'golden', 'period', 'hit', 'volatility', 'say', 'thailands', 'largest', 'digital', 'asset', 'exchange', 'acquisition', 'completed', 'block', 'make', 'afterpay', 'available', 'seller', 'microstrategy', 'ceo', 'view', 'stock', 'favorably', 'bitcoin', 'play', 'say', 'clearly', 'valued', 'software', 'business', 'us', 'stock', 'continue', 'rebound', 'investor', 'cheer', 'strong', 'earnings', 'big', 'tech', 'name', 'us', 'stock', 'extend', 'gain', 'streak', 'strong', 'corporate', 'earnings', 'tech', 'giant', 'bitcoin', 'falls', 'ahead', 'dire', 'jobs', 'report', 'bitcoin', 'bull', 'v', 'bear', 'best', 'laptop', 'mining', 'cryptocurrency', 'facebooks', 'cryptocurrency', 'dream', 'started', 'metas', 'diem', 'wa', 'waste', 'time', 'shouldve', 'focused', 'bitcoin', 'jack', 'dorsey', 'bitcoin', 'miners', 'like', 'riot', 'blockchain', 'fell', 'today', 'bitcoin', 'ethereum', 'coinbase', 'sinking', 'today', 'voltus', 'lines', 'megawatt', 'bitcoin', 'mine', 'provide', 'capacity', 'pjm', 'grid', 'microstrategy', 'mstr', 'q', 'earnings', 'call', 'transcript', 'silvergate', 'capital', 'missed', 'estimates', 'q', 'earnings', 'report', 'internet', 'value', 'controversies', 'opportunities', 'crypto', 'technologies', 'matt', 'damon', 'shilling', 'crypto', 'cryptoversebitcoin', 'squeeze', 'smaller', 'rival', 'crown', 'reuters', 'heres', 'know', 'bitcoinlinked', 'etfs', 'slowly', 'making', 'way', 'market', 'dorsey', 'says', 'zuckerberg', 'focused', 'bitcoin', 'diem', 'india', 'launch', 'digital', 'rupee', 'next', 'year', 'plan', 'tax', 'cryptorelated', 'income', 'according', 'finance', 'minister', 'outside', 'box', 'sec', 'illogical', 'continued', 'refusal', 'ok', 'bitcoin', 'etf', 'reddit', 'cofounder', 'ohanians', 'venture', 'capital', 'firm', 'raise', 'mln', 'reuters', 'reddit', 'cofounder', 'ohanians', 'venture', 'capital', 'firm', 'raise', 'mln', 'reuterscom', 'crypto', 'investors', 'handling', 'plunging', 'prices', 'exxon', 'mobil', 'xometry', 'gannett', 'reuters', 'bitcoin', 'nation', 'el', 'salvador', 'ambitious', 'plans', 'cryptocurrency', 'cedar', 'fair', 'pge', 'corp', 'chevron', 'corp', 'reuters', 'us', 'future', 'sink', 'investor', 'sell', 'latejanuary', 'rally', 'strong', 'q', 'earnings', 'see', 'european', 'stock', 'surge', 'elon', 'musk', 'hints', 'potential', 'future', 'acquisition', 'major', 'tv', 'network', 'thing', 'opening', 'bell', 'crypto', 'breakthrough', 'western', 'state', 'consider', 'taking', 'digital', 'currency', 'get', 'paid', 'crypto', 'green', 'bitcoin', 'miners', 'etf', 'coming', 'need', 'know', 'metaverse', 'affect', 'business', 'important', 'risk', 'bitcoin', 'investors', 'focus', 'project', 'syndicate', 'fed', 'cautious', 'digital', 'dollar', 'nonchalant', 'private', 'cryptocurrencies', 'wikimedia', 'foundation', 'urged', 'stop', 'accepting', 'cryptocurrency', 'donations', 'cryptocurrency', 'nfts', 'football', 'football', 'weekly', 'thai', 'cafe', 'serf', 'crypto', 'advice', 'coffee', 'cake', 'reuters', 'crypto', 'exchange', 'ftx', 'valued', 'bln', 'softbank', 'invests', 'reuters', 'turkish', 'crypto', 'company', 'bitci', 'open', 'exchange', 'brazil', 'spain', 'ceo', 'reuters', 'dollar', 'near', 'month', 'high', 'ahead', 'bumper', 'central', 'bank', 'week', 'reuters', 'canadas', 'wealthsimple', 'aim', 'realworld', 'cryptocurrency', 'use', 'look', 'beyond', 'trading', 'reuters', 'bitcoin', 'track', 'worst', 'january', 'since', 'crypto', 'winter', 'futures', 'movers', 'stock', 'future', 'slip', 'sunday', 'wild', 'week', 'wall', 'street', 'reasons', 'bitcoin', 'ethereum', 'solana', 'dropped', 'today', 'worried', 'crypto', 'crash', 'avoid', 'crypto', 'miners', 'sec', 'objects', 'microstrategy', 'accurately', 'valuing', 'billiondollar', 'bitcoin', 'stash', 'deepdotweb', 'news', 'site', 'operator', 'sentenced', 'years', 'money', 'laundering', 'goldmans', 'bitcoin', 'skepticism', 'warning', 'asian', 'banks', 'secs', 'bitcoin', 'etf', 'standoff', 'january', 'selloff', 'wiped', 'billion', 'crypto', 'market', 'cap', 'monero', 'could', 'uncertainty', 'hedge', 'crypto', 'world', 'right', 'ftx', 'ha', 'completed', 'another', 'funding', 'round', 'value', 'whopping', 'billion', 'ceo', 'sam', 'bankmanfried', 'say', 'expects', 'longterm', 'crypto', 'winter', 'plan', 'put', 'bitcoin', 'mouse', 'dna', 'genetically', 'engineered', 'virus', 'top', 'cryptocurrency', 'price', 'today', 'bitcoin', 'dogecoin', 'shib', 'terra', 'tank', 'odell', 'beckham', 'jr', 'leading', 'new', 'class', 'athlete', 'getting', 'paid', 'bitcoin', 'heres', 'highprofile', 'athlete', 'taking', 'highupside', 'risk', 'crypto', 'pay', 'china', 'selects', 'pilot', 'zone', 'application', 'area', 'blockchain', 'project', 'reuters', 'strip', 'club', 'crazy', 'horse', 'accepting', 'bitcoin', 'lap', 'dances', 'case', 'bitcoin', 'inflation', 'hedge', 'crumbled', 'thank', 'bitcoin', 'making', 'stock', 'cheap', 'bidens', 'bitcoin', 'regulations', 'threat', 'higher', 'taxes', 'crypto', 'matter', 'national', 'securityreports', 'reveal', 'joe', 'bidens', 'surprise', 'bitcoin', 'ethereum', 'nft', 'plan', 'extreme', 'price', 'swings', 'solve', 'bitcoins', 'carbon', 'problem', 'links', 'people', 'working', 'bitcoin', 'cryptocurrency', 'exchanges', 'earn', 'one', 'million', 'dollars', 'year', 'sports', 'stars', 'politicians', 'taking', 'pay', 'bitcoin', 'cryptocurrencies', 'would', 'quantum', 'computers', 'could', 'crack', 'bitcoin', 'heres', 'would', 'take', 'stocks', 'generating', 'sales', 'growth', 'bitcoin', 'different', 'types', 'uncertaintyrisk', 'bitcoin', 'tether', 'poking', 'financial', 'beast', 'bitcoin', 'adoption', 'could', 'bring', 'major', 'prosperity', 'puerto', 'rico', 'oreilly', 'reports', 'increasing', 'interest', 'cybersecurity', 'ai', 'go', 'rust', 'c', 'alts', 'underperforming', 'expectations', 'justin', 'bieber', 'enters', 'bored', 'ape', 'nft', 'chat', 'million', 'purchase', 'bitcoin', 'btc', 'inches', 'way', 'cancel', 'cryptocurrency', 'transaction', 'rising', 'crypto', 'star', 'sec', 'volatile', 'markets', 'way', 'colorado', 'governor', 'says', 'crypto', 'plan', 'withstands', 'market', 'selloff', 'cryptocurrencies', 'could', 'dwarf', 'bitcoin', 'laugh', 'sarah', 'palin', 'want', 'nothing', 'funny', 'role', 'dividing', 'us', 'arwa', 'mahdawi', 'imf', 'say', 'continues', 'strong', 'engagement', 'el', 'salvador', 'emboldened', 'crypto', 'industry', 'plot', 'legal', 'assault', 'sec', 'imf', 'urge', 'el', 'salvador', 'scale', 'back', 'bitcoin', 'push', 'imf', 'urge', 'el', 'salvador', 'scale', 'back', 'bitcoin', 'push', 'crypto', 'slide', 'puts', 'outlook', 'billion', 'investors', 'test', 'goldman', 'sachs', 'suddenly', 'issued', 'surprise', 'crypto', 'price', 'warning', 'huge', 'bitcoin', 'ethereum', 'bnb', 'solana', 'cardano', 'xrp', 'crash', 'better', 'buy', 'block', 'v', 'shopify', 'sell', 'shiba', 'inu', 'better', 'cryptocurrencies', 'buy', 'hold', 'sweatcoin', 'give', 'real', 'money', 'bitcoin', 'smallest', 'businesses', 'cantillon', 'effects', 'need', 'bitcoin', 'bitcoins', 'derivative', 'market', 'bulls', 'vanished', 'low', 'bitcoin', 'go', 'views', 'vary', 'apple', 'reports', 'record', 'revenue', 'diem', 'might', 'scale', 'back', 'weeks', 'business', 'crypto', 'roundup', 'us', 'state', 'may', 'make', 'bitcoin', 'legal', 'tender', 'embraces', 'bitcoin', 'nigeria', 'offers', 'lessons', 'developing', 'world', 'crypto', 'selloff', 'wiped', 'billion', 'corporate', 'balance', 'sheets', 'opinion', 'cryptocurrency', 'financial', 'promised', 'land', 'one', 'year', 'gamestop', 'frenzy', 'robinhood', 'hit', 'new', 'low', 'people', 'arent', 'trading', 'stock', 'much', 'anymore', 'john', 'terry', 'remove', 'premier', 'league', 'trophy', 'nfts', 'legal', 'intervention', 'biggest', 'corporate', 'holder', 'bitcoin', 'square', 'tesla', 'passive', 'income', 'stream', 'help', 'yearold', 'doctor', 'entrepreneur', 'make', 'extra', 'per', 'year', 'crypto', 'lebron', 'james', 'partner', 'cryptocom', 'teach', 'kid', 'blockchain', 'technology', 'qnap', 'warns', 'deadbolt', 'ransomware', 'targeting', 'internetfacing', 'nas', 'devices', 'source', 'white', 'house', 'readying', 'executive', 'action', 'task', 'federal', 'agency', 'regulating', 'bitcoin', 'cryptocurrencies', 'matter', 'national', 'security', 'daren', 'fondabarrons', 'online', 'better', 'buy', 'bitcoin', 'ethereum', 'unusual', 'danielle', 'collins', 'play', 'australian', 'open', 'final', 'without', 'shoe', 'clothing', 'sponsorship', 'quantum', 'computing', 'threatens', 'everything', 'could', 'worse', 'apocalypse', 'president', 'joe', 'biden', 'going', 'bitcoin', 'cryptocurrencies', 'nfts', 'goldman', 'says', 'crypto', 'mainstream', 'acceptance', 'may', 'boost', 'prices', 'retirement', 'weekly', 'news', 'analysis', 'planning', 'living', 'retirement', 'top', 'cryptocurrency', 'price', 'today', 'bitcoin', 'bnb', 'zoom', 'terra', 'bleeds', 'ubisofts', 'nft', 'boss', 'say', 'player', 'dont', 'get', 'tesla', 'major', 'public', 'company', 'sunk', 'billion', 'crypto', 'theyre', 'taking', 'big', 'hit', 'reminder', 'reject', 'financial', 'action', 'task', 'force', 'el', 'salvadors', 'chivo', 'wallet', 'keep', 'breaking', 'user', 'seeking', 'answer', 'block', 'crypto', 'deepdotweb', 'operator', 'sentenced', 'eight', 'year', 'money', 'laundering', 'us', 'sec', 'reject', 'fidelitys', 'wise', 'origin', 'spot', 'bitcoin', 'etf', 'reuterscom', 'el', 'salvador', 'bond', 'payment', 'peril', 'imf', 'relationship', 'sour', 'moodys', 'reuterscom', 'cathie', 'woods', 'ark', 'invest', 'expects', 'ether', 'soar', 'hit', 'trillion', 'market', 'cap', 'salvadorans', 'react', 'imf', 'urge', 'country', 'stop', 'using', 'bitcoin', 'end', 'day', 'metas', 'diem', 'cryptocurrency', 'need', 'know', 'cnet', 'quantum', 'apocalypse', 'scared', 'dollar', 'find', 'buyer', 'fed', 'flag', 'hike', 'reuters', 'facebooks', 'crypto', 'demise', 'missed', 'opportunity', 'reuters', 'crypto', 'giant', 'binance', 'hope', 'russia', 'help', 'regional', 'growth', 'reuters', 'brett', 'arendss', 'roi', 'easter', 'bunny', 'cartoon', 'cash', 'bill', 'maher', 'called', 'bitcoin', 'crash', 'wall', 'street', 'journal', 'facebooks', 'foray', 'crypto', 'quietly', 'ending', 'distributed', 'ledger', 'crypto', 'crash', 'mean', 'digital', 'asset', 'portfolio', 'business', 'business', 'analysis', 'investors', 'look', 'prune', 'portfolio', 'risk', 'fed', 'hawkishness', 'rule', 'market', 'reuters', 'hawkish', 'fed', 'proves', 'bitcoin', 'backers', 'right', 'crypto', 'selloff', 'wiped', 'billion', 'corporate', 'balance', 'sheet', 'bitcoin', 'crash', 'el', 'salvador', 'betting', 'economy', 'buying', 'dip', 'inflation', 'risk', 'business', 'doesnt', 'spell', 'doom', 'gibraltar', 'could', 'launch', 'worlds', 'first', 'crypto', 'stock', 'exchange', 'imf', 'urge', 'el', 'salvador', 'remove', 'bitcoin', 'legal', 'tender', 'factbox', 'imf', 'asks', 'el', 'salvador', 'drop', 'bitcoin', 'country', 'clamp', 'reuters', 'elon', 'musk', 'joked', 'mcdonalds', 'accept', 'dogecoin', 'heres', 'doesnt', 'make', 'sense', 'brief', 'history', 'el', 'salvadors', 'crypto', 'feud', 'imf', 'quantum', 'computers', 'million', 'times', 'small', 'hack', 'bitcoin', 'surprises', 'bitcoin', 'blockchain', 'stored', 'crypto', 'bitcoin', 'trade', 'briefly', 'near', 'federal', 'reserve', 'keep', 'interest', 'rate', 'near', 'zero', 'expects', 'hike', 'soon', 'imf', 'urges', 'el', 'salvador', 'drop', 'bitcoin', 'legal', 'tender', 'premier', 'league', 'uefa', 'taking', 'legal', 'advice', 'john', 'terrys', 'nft', 'ape', 'tweet', 'high', 'price', 'crypto', 'salary', 'imfs', 'board', 'urge', 'el', 'salvador', 'strip', 'bitcoin', 'status', 'legal', 'currency', 'due', 'large', 'risk', 'major', 'obstacle', 'country', 'b', 'loan', 'request', 'eric', 'martinbloomberg', 'techscape', 'everything', 'need', 'know', 'daos', 'el', 'salvadors', 'bitcoin', 'embrace', 'criticized', 'imf', 'markets', 'cooler', 'heads', 'prevailing', 'whos', 'afraid', 'hawkish', 'fed', 'stocks', 'buy', 'sale', 'bitcoin', 'mining', 'work', 'beatenup', 'growth', 'stocks', 'consider', 'longterm', 'buys', 'bit', 'digital', 'stock', 'plummeting', 'today', 'hacker', 'joe', 'grand', 'used', 'faultinjection', 'attack', 'crack', 'trezor', 'one', 'hardware', 'wallet', 'recover', 'cryptocurrency', 'two', 'friend', 'forgot', 'pin', 'kim', 'zetterthe', 'verge', 'international', 'monetary', 'fund', 'tell', 'el', 'salvador', 'shouldnt', 'use', 'bitcoin', 'legal', 'tender', 'cryptoverseteenage', 'bitcoin', 'throw', 'interest', 'rate', 'tantrum', 'reuters', 'update', 'imf', 'urged', 'el', 'salvador', 'remove', 'bitcoins', 'legal', 'tender', 'status', 'reuters', 'indonesia', 'regulator', 'says', 'financial', 'firms', 'banned', 'facilitating', 'crypto', 'sales', 'highend', 'pc', 'graphics', 'cards', 'get', 'little', 'cheaper', 'crypto', 'tanks', 'central', 'asia', 'blackout', 'leaf', 'million', 'without', 'power', 'russia', 'regulate', 'crypto', 'market', 'ban', 'say', 'finmin', 'official', 'reuters', 'bitcoin', 'operation', 'ignites', 'debate', 'around', 'waste', 'coal', 'mining', 'pennsylvania', 'thing', 'opening', 'bell', 'cryptos', 'gold', 'standard', 'claim', 'fading', 'fast', 'nix', 'bitcoin', 'legal', 'tender', 'imf', 'reportedly', 'tell', 'el', 'salvador', 'cnet', 'quantum', 'computer', 'million', 'time', 'small', 'hack', 'bitcoin', 'imagine', 'possession', 'beatles', 'memorabilia', 'virtually', 'auction', 'reuters', 'dollar', 'near', 'twoweek', 'high', 'amid', 'jitter', 'hawkish', 'fed', 'ukraine', 'tension', 'reuters', 'odell', 'beckham', 'jr', 'suffers', 'major', 'salary', 'loss', 'bitcoin', 'decline', 'billion', 'usd', 'wiped', 'crypto', 'market', 'coins', 'dip', 'imf', 'urge', 'el', 'salvador', 'strip', 'bitcoins', 'legal', 'tender', 'status', 'mcdonalds', 'job', 'applications', 'sold', 'opensea', 'nft', 'collection', 'fears', 'send', 'chills', 'battered', 'bitcoin', 'faithful', 'popular', 'etf', 'investment', 'themes', 'consider', 'cryptocurrency', 'find', 'sight', 'robust', 'regulation', 'reuters', 'bitcoin', 'tumble', 'sixmonth', 'low', 'ukraine', 'conflict', 'fear', 'shake', 'market', 'reuters', 'bitcoin', 'skid', 'sixmonth', 'low', 'fear', 'ukraine', 'shake', 'market', 'reuters', 'fears', 'feds', 'policy', 'changes', 'send', 'huge', 'losses', 'cryptocurrency', 'market', 'microstrategy', 'extends', 'day', 'decline', 'bitcoin', 'melt', 'sec', 'reject', 'crypto', 'accounting', 'bitcoin', 'bounce', 'six', 'month', 'low', 'buyer', 'step', 'reuters', 'update', 'bitcoin', 'bounce', 'six', 'month', 'low', 'buyer', 'step', 'reuterscom', 'cryptocurrencies', 'pause', 'weekend', 'battering', 'currency', 'wait', 'fed', 'reuters', 'bitcoin', 'fall', 'sixmonth', 'low', 'fear', 'ukraine', 'conflict', 'shake', 'market', 'globe', 'mail', 'cryptoland', 'dead', 'failing', 'buy', 'noncrypto', 'real', 'estate', 'buy', 'area', 'stock', 'market', 'load', 'hedge', 'market', 'whipsaw', 'say', 'jefferies', 'global', 'stock', 'head', 'us', 'stock', 'market', 'see', 'another', 'wild', 'day', 'amid', 'concern', 'fed', 'ukraine', 'thing', 'opening', 'bell', 'billion', 'wiped', 'crypto', 'markets', 'hours', 'crypto', 'nfls', 'odell', 'beckham', 'jr', 'took', 'salary', 'bitcoin', 'much', 'end', 'costing', 'googles', 'forming', 'blockchain', 'unit', 'looking', 'partner', 'crypto', 'live', 'markets', 'many', 'shade', 'market', 'stress', 'reuters', 'el', 'salvadors', 'president', 'adopts', 'mcdonalds', 'uniform', 'twitter', 'profile', 'bitcoin', 'plunge', 'bears', 'gate', 'reuters', 'crypto', 'investors', 'memeing', 'working', 'mcdonalds', 'brutal', 'crash', 'back', 'basic', 'point', 'decentralization', 'bubble', 'burst', 'bitcoin', 'chart', 'explain', 'stock', 'market', 'meltdown', 'bitcoins', 'slump', 'correlated', 'crypto', 'safehaven', 'asset', 'like', 'gold', 'crypto', 'miners', 'cheap', 'dangerous', 'buy', 'huge', 'bitcoin', 'ethereum', 'crypto', 'price', 'crash', 'coins', 'suddenly', 'soaring', 'bitcoin', 'vix', 'expected', 'inflation', 'blue', 'verification', 'checkmark', 'v', 'hexagonal', 'pfps', 'twitter', 'new', 'crypto', 'things', 'buy', 'youre', 'starting', 'see', 'hexagonal', 'profile', 'pictures', 'twitter', 'nation', 'state', 'hold', 'bitcoin', 'crypto', 'crash', 'rocks', 'coinbase', 'mainstream', 'investors', 'flee', 'bitcoin', 'bitcoin', 'price', 'fall', 'tandem', 'tech', 'selloff', 'fox', 'business', 'bitcoin', 'btc', 'heads', 'towards', 'sub', 'feds', 'january', 'policy', 'decision', 'nears', 'replacing', 'us', 'dollar', 'bitcoin', 'dismantling', 'fiat', 'architecture', 'january', 'historic', 'month', 'bitcoin', 'new', 'orleans', 'man', 'sentenced', 'defrauding', 'customers', 'unlicensed', 'bitcoin', 'business', 'lobservateur', 'lobservateur', 'tech', 'stocks', 'arent', 'driving', 'crypto', 'prices', 'coindesk', 'mayors', 'see', 'cryptocurrency', 'way', 'address', 'income', 'inequality', 'first', 'mover', 'asia', 'bitcoin', 'ether', 'regain', 'ground', 'sunday', 'early', 'weekend', 'battering', 'coindesk', 'bitcoin', 'opsec', 'tips', 'casa', 'keyfest', 'james', 'bond', 'bitcoin', 'extends', 'slide', 'fallen', 'record', 'high', 'bitcoin', 'value', 'tumble', 'almost', 'per', 'cent', 'since', 'record', 'november', 'ctv', 'news', 'bitcoin', 'pyramid', 'scheme', 'wreak', 'havoc', 'brazils', 'new', 'egypt', 'bitcoin', 'lost', 'half', 'value', 'since', 'hitting', 'record', 'high', 'crypto', 'bitcoin', 'slump', 'stock', 'time', 'high', 'bitcoin', 'pyramid', 'scheme', 'wreak', 'havoc', 'brazils', 'new', 'egypt', 'dangerous', 'game', 'football', 'club', 'look', 'mine', 'fan', 'cash', 'crypto', 'offering', 'bitcoin', 'ethereum', 'coins', 'fall', 'sharply', 'husband', 'told', 'put', 'money', 'crypto', 'high', 'interest', 'account', 'im', 'glad', 'ignored', 'advice', 'reason', 'bitcoin', 'extends', 'slide', 'fallen', 'record', 'high', 'heres', 'bitcoin', 'better', 'gold', 'heres', 'bitcoin', 'risky', 'bitcoin', 'ethereum', 'crypto', 'price', 'fall', 'amid', 'market', 'selloff', 'fed', 'digital', 'currency', 'report', 'washington', 'post', 'crypto', 'crash', 'cripples', 'bitcoin', 'ethereum', 'dogecoin', 'weekend', 'ether', 'solana', 'memecoins', 'get', 'crushed', 'crypto', 'market', 'rout', 'bloomberg', 'bitcoin', 'falls', 'selloff', 'nears', 'record', 'high', 'invest', 'el', 'salvador', 'buys', 'million', 'worth', 'bitcoin', 'really', 'cheap', 'president', 'crows', 'selloff', 'continues', 'crypto', 'collapse', 'tests', 'faithfuls', 'infinite', 'supply', 'optimism', 'like', 'crashnew', 'crypto', 'winter', 'warning', 'selloff', 'wipes', 'trillion', 'combined', 'bitcoin', 'ethereum', 'solana', 'bnb', 'cardano', 'xrp', 'price', 'robinhood', 'open', 'cryptocurrency', 'wallet', 'beta', 'tester', 'bitcoin', 'fall', 'reuters', 'el', 'salvador', 'partnering', 'solanabased', 'lending', 'company', 'offer', 'crypto', 'loan', 'business', 'report', 'say', 'us', 'dollar', 'net', 'long', 'bet', 'slide', 'lowest', 'since', 'midsept', 'cftc', 'reuters', 'data', 'reuters', 'new', 'york', 'city', 'mayor', 'eric', 'adams', 'convert', 'first', 'paycheck', 'cryptocurrency', 'netflix', 'streaming', 'co', 'oceanpal', 'crypto', 'stock', 'reuters', 'us', 'stock', 'fall', 'earnings', 'slump', 'riskoff', 'pivot', 'intensifies', 'ahead', 'rate', 'hike', 'peloton', 'energy', 'stock', 'streaming', 'co', 'reuters', 'twitter', 'debut', 'hexagonshaped', 'nft', 'profile', 'picture', 'reuters', 'brazilian', 'fintech', 'dock', 'use', 'crypto', 'international', 'remittance', 'reuters', 'crypto', 'bitcoin', 'drop', 'amid', 'crypto', 'slide', 'russia', 'proposes', 'ban', 'new', 'york', 'citys', 'mayor', 'getting', 'paid', 'cryptocurrency', 'bill', 'cant', 'pay', 'coingecko', 'total', 'market', 'cap', 'cryptocurrency', 'industry', 'fell', 'amidst', 'selloff', 'bitcoin', 'fell', 'k', 'ethereum', 'fell', 'k', 'tracy', 'wangcoindesk', 'normal', 'price', 'correction', 'gold', 'silver', 'bull', 'remain', 'strong', 'kitco', 'news', 'new', 'york', 'city', 'mayor', 'receive', 'first', 'paycheck', 'cryptocurrency', 'better', 'blockchain', 'stock', 'block', 'v', 'riot', 'blockchain', 'rise', 'numismatist', 'coin', 'collecting', 'versus', 'bitcoin', 'money', 'laundering', 'dirty', 'money', 'enters', 'financial', 'system', 'godfather', 'technical', 'analyst', 'say', 'stock', 'market', 'could', 'fall', 'dont', 'panic', 'market', 'really', 'really', 'unbelievable', 'month', 'could', 'nft', 'market', 'become', 'bigger', 'bitcoin', 'cryptocom', 'admits', 'million', 'stolen', 'hacker', 'eric', 'adams', 'taking', 'first', 'paycheck', 'crypto', 'russian', 'cbank', 'proposes', 'banning', 'cryptocurrencies', 'crypto', 'mining', 'cryptocom', 'finally', 'acknowledges', 'million', 'stolen', 'hackers', 'us', 'sec', 'reject', 'skybridge', 'spot', 'bitcoin', 'etf', 'latest', 'veto', 'reuters', 'nyc', 'mayor', 'eric', 'adams', 'receive', 'first', 'paycheck', 'cryptocurrency', 'via', 'coinbase', 'reuters', 'russian', 'cbank', 'proposes', 'banning', 'cryptocurrencies', 'crypto', 'mining', 'reuters', 'cryptocom', 'loses', 'million', 'hack', 'affected', 'account', 'mayor', 'adams', 'promotes', 'radically', 'practical', 'agenda', 'washington', 'weird', 'thing', 'people', 'transformed', 'crypto', 'miner', 'nyc', 'mayor', 'adams', 'convert', 'city', 'paycheck', 'cryptocurrency', 'via', 'coinbase', 'google', 'pay', 'might', 'bring', 'bitcoin', 'android', 'phone', 'intel', 'bitcoin', 'bonanza', 'latest', 'reported', 'chip', 'deal', 'race', 'dominate', 'defi', 'ecosystem', 'nycs', 'mayor', 'invests', 'first', 'paycheck', 'cryptocurrency', 'sec', 'block', 'anthony', 'scaramuccis', 'bitcoin', 'fund', 'jan', 'committee', 'subpoenas', 'white', 'nationalists', 'wanted', 'trump', 'rule', 'life', 'distributed', 'ledger', 'nft', 'market', 'boom', 'crypto', 'market', 'remains', 'sluggish', 'heres', 'white', 'nationalists', 'marched', 'charlottesville', 'hit', 'jan', 'subpoenas', 'crypto', 'selloff', 'things', 'theres', 'pain', 'store', 'eu', 'regulator', 'wants', 'ban', 'proof', 'work', 'crypto', 'mining', 'avoid', 'climate', 'disaster', 'stablecoin', 'payment', 'pick', 'challenging', 'bitcoin', 'dominant', 'payment', 'coin', 'hackers', 'launder', 'million', 'stolen', 'cryptocom', 'using', 'ethereum', 'mixer', 'crypto', 'exchange', 'shuts', 'withdrawals', 'hackers', 'reportedly', 'steal', 'million', 'bitcoin', 'ethereum', 'top', 'eu', 'regulator', 'urge', 'ban', 'crypto', 'mining', 'claim', 'sucking', 'renewable', 'energy', 'google', 'pay', 'may', 'add', 'crypto', 'card', 'attract', 'next', 'billion', 'users', 'francis', 'ngannou', 'take', 'half', 'ufc', 'purse', 'bitcoin', 'opera', 'launches', 'dedicated', 'crypto', 'browser', 'penny', 'stocks', 'watch', 'dwac', 'stock', 'wakes', 'small', 'caps', 'fastestscaling', 'cryptocurrencies', 'bitcoin', 'defi', 'short', 'years', 'jamaica', 'qualifying', 'fourman', 'bobsled', 'team', 'first', 'time', 'years', 'bitcoin', 'mining', 'startup', 'griid', 'ink', 'major', 'deal', 'intel', 'fox', 'business', 'bitcoins', 'tough', 'radio', 'fifa', 'fifpro', 'announce', 'world', 'crypto', 'atms', 'halted', 'singapore', 'marketing', 'clampdown', 'el', 'salvadors', 'plan', 'create', 'first', 'bitcoinpowered', 'nation', 'tanking', 'economyand', 'mess', 'every', 'measure', 'fortune', 'bitcoin', 'check', 'crypto', 'stocks', 'quickly', 'set', 'blockchaincom', 'wallet', 'crypto', 'related', 'job', 'posting', 'surged', 'per', 'cent', 'say', 'linkedin', 'spain', 'set', 'new', 'rule', 'influencers', 'promote', 'cryptocurrency', 'intel', 'unveil', 'ultra', 'lowvoltage', 'bitcoin', 'mining', 'asic', 'february', 'warren', 'buffetts', 'righthand', 'man', 'called', 'bitcoin', 'rat', 'poison', 'protect', 'casual', 'investor', 'crypto', 'loss', 'veteran', 'investor', 'guy', 'spier', 'say', 'el', 'salvador', 'president', 'meet', 'erdogan', 'turkey', 'week', 'reuters', 'treasury', 'plan', 'crackdown', 'misleading', 'cryptocurrency', 'ad', 'mozilla', 'stops', 'accepting', 'cryptocurrency', 'wikipedia', 'may', 'next', 'dollar', 'fails', 'catch', 'lift', 'higher', 'yield', 'bank', 'japan', 'focus', 'reuters', 'us', 'tech', 'stock', 'future', 'plunge', 'bond', 'yield', 'shoot', 'higher', 'oil', 'hit', 'year', 'high', 'nasdaq', 'fall', 'nearly', 'us', 'stock', 'plummet', 'interest', 'rate', 'worry', 'mine', 'ethereum', 'stepbystep', 'guide', 'holographic', 'display', 'concept', 'make', 'nft', 'art', 'buy', 'look', 'interesting', 'blocks', 'cash', 'app', 'adopts', 'lightning', 'network', 'free', 'bitcoin', 'payment', 'intel', 'tip', 'plan', 'bitcoin', 'mining', 'bonanza', 'chip', 'thing', 'opening', 'bell', 'bitcoin', 'ethereum', 'dogecoin', 'today', 'reasons', 'buy', 'block', 'reason', 'sell', 'stocks', 'drop', 'treasury', 'bond', 'yield', 'push', 'higher', 'new', 'law', 'tackle', 'misleading', 'cryptoasset', 'advert', 'top', 'cryptocurrency', 'price', 'today', 'bitcoin', 'ethereum', 'slip', 'cardano', 'zoom', 'ethereum', 'losing', 'steam', 'bitcoin', 'investor', 'dig', 'long', 'haul', 'staggering', 'shift', 'reuters', 'bitcoins', 'slump', 'could', 'start', 'crypto', 'winter', 'see', 'price', 'crash', 'ubs', 'say', 'three', 'reason', 'anatomy', 'bitcoin', 'price', 'manipulation', 'spain', 'move', 'rein', 'cryptoasset', 'advertising', 'reuters', 'metaverse', 'hooked', 'onto', 'blockchain', 'kosovo', 'suspends', 'cryptocurrency', 'mining', 'miners', 'scramble', 'sell', 'equipment', 'walmart', 'might', 'soon', 'rolling', 'cryptocurrency', 'bitpay', 'bitcoin', 'use', 'bitpay', 'merchant', 'dropped', 'crypto', 'payment', 'ether', 'purchase', 'rose', 'stablecoins', 'olga', 'kharifbloomberg', 'cardano', 'outperforming', 'rival', 'bitcoin', 'ether', 'dark', 'webs', 'largest', 'marketplace', 'stolen', 'credit', 'cards', 'shutting', 'unstoppable', 'stocks', 'beat', 'bitcoin', 'moment', 'reckoning', 'financial', 'literacy', 'top', 'cryptocurrency', 'price', 'today', 'bitcoin', 'ethereum', 'gain', 'cardano', 'zoom', 'kazakhstans', 'bitcoin', 'paradise', 'may', 'losing', 'lustre', 'new', 'apple', 'ipad', 'pro', 'rumored', 'feature', 'magsafe', 'charging', 'bitcoin', 'bonds', 'bividends', 'crypto', 'gone', 'mainstream', 'ukraine', 'blame', 'belarus', 'pcwiping', 'ransomware', 'ha', 'recovery', 'method', 'nuke', 'target', 'boxen', 'bitcoin', 'ethereum', 'dogecoin', 'continue', 'slide', 'economic', 'indicator', 'weigh', 'heavily', 'cryptocurrency', 'fox', 'business', 'cryptoland', 'quick', 'dive', 'crypto', 'enthusiasts', 'idea', 'utopia', 'bitcoin', 'ethereum', 'dogecoin', 'continue', 'slide', 'fox', 'business', 'bitcoins', 'dominance', 'crypto', 'payments', 'starting', 'erode', 'destructive', 'hacks', 'ukraine', 'echo', 'last', 'cyberwar', 'controversial', 'investment', 'guru', 'cathie', 'wood', 'wants', 'help', 'trust', 'stock', 'market', 'k', 'stolen', 'hour', 'youtube', 'crypto', 'giveaway', 'scam', 'control', 'bitcoin', 'crash', 'midterm', 'glitch', 'way', 'reverseengineering', 'glory', 'picoemp', 'race', 'power', 'defi', 'ecosystem', 'walmart', 'filings', 'reveal', 'plans', 'create', 'cryptocurrency', 'nfts', 'bitcoins', 'dominance', 'crypto', 'payments', 'starting', 'erode', 'bitcoin', 'almost', 'high', 'laptop', 'mine', 'bitcoin', 'definitely', 'wont', 'make', 'rich', 'undertheradar', 'cryptocurrency', 'stock', 'could', 'outpace', 'bitcoin', 'bitcoin', 'crypto', 'nfts', 'braced', 'big', 'week', 'extreme', 'price', 'swings', 'hit', 'ethereum', 'bnb', 'solana', 'cardano', 'xrp', 'north', 'korea', 'pulled', 'cryptocurrency', 'heist', 'last', 'year', 'report', 'bitcoin', 'monetary', 'chakras', 'crypto', 'crashing', 'invest', 'dogecoin', 'plummeting', 'today', 'habits', 'highly', 'effective', 'hodlers', 'ukraine', 'demonstrates', 'bitcoin', 'transform', 'developing', 'countries', 'value', 'dont', 'web', 'coinbase', 'curse', 'vcs', 'sell', 'crypto', 'retail', 'race', 'power', 'defi', 'ecosystem', 'blockchain', 'fulfil', 'democratic', 'promise', 'become', 'tool', 'big', 'tech', 'john', 'naughton', 'rio', 'de', 'janeiro', 'set', 'allocate', 'one', 'percent', 'treasury', 'bitcoin', 'bitcoin', 'miners', 'study', 'volatility', 'india', 'soon', 'get', 'exchangetraded', 'funds', 'bitcoin', 'ethereum', 'report', 'paypal', 'exploring', 'crypto', 'dogecoin', 'buy', 'tesla', 'merch', 'weeks', 'business', 'crypto', 'roundup', 'moneymaking', 'strategy', 'right', 'bitcoin', 'ethereum', 'cardano', 'continue', 'positive', 'push', 'weekend', 'crypto', 'enthusiasts', 'meet', 'match', 'angry', 'gamers', 'astonishingan', 'investment', 'giant', 'advised', 'countries', 'central', 'banks', 'buy', 'bitcoin', 'price', 'low', 'breakout', 'growth', 'stock', 'outpaced', 'bitcoin', 'surefire', 'buy', 'right', 'explained', 'live', 'bitcoin', 'much', 'political', 'movement', 'technological', 'one', 'trading', 'gambling', 'doubt', 'cryptocurrency', 'dealing', 'fuel', 'addiction', 'still', 'early', 'day', 'blockchain', 'bitcoin', 'price', 'outlook', 'goldman', 'sachs', 'jpmorgan', 'crypto', 'investing', 'analysis', 'business', 'insider', 'ransomware', 'group', 'revil', 'dismantled', 'raids', 'russia', 'says', 'bitcoin', 'hunter', 'begins', 'freeofcharge', 'cellular', 'phone', 'bitcoin', 'mining', 'service', 'race', 'fund', 'cryptos', 'future', 'sure', 'expensive', 'gamefi', 'cryptos', 'hot', 'new', 'thing', 'jack', 'dorseys', 'block', 'working', 'make', 'bitcoin', 'mining', 'easier', 'block', 'officially', 'building', 'open', 'bitcoin', 'mining', 'system', 'say', 'founder', 'jack', 'dorsey', 'musk', 'say', 'tesla', 'accept', 'dogecoin', 'merchandise', 'jack', 'dorsey', 'say', 'block', 'building', 'bitcoin', 'mining', 'system', 'anyone', 'easily', 'buy', 'rig', 'anthony', 'scaramucci', 'say', 'buying', 'dip', 'bitcoin', 'expects', 'sloppiness', 'volatility', 'kazakhstans', 'bitcoin', 'paradise', 'may', 'losing', 'lustre', 'reuters', 'global', 'crypto', 'fund', 'post', 'sharp', 'gain', 'barclayhedge', 'reuters', 'dogecoin', 'jumps', 'elon', 'musk', 'says', 'tesla', 'accept', 'meme', 'coin', 'merchandise', 'northwest', 'arkansas', 'pay', 'bitcoin', 'move', 'help', 'turn', 'crypto', 'hub', 'etfs', 'win', 'lose', 'hawkish', 'fed', 'minutes', 'revised', 'cryptocurrency', 'ad', 'reach', 'record', 'level', 'london', 'transport', 'consider', 'etf', 'strategies', 'tackle', 'hot', 'inflation', 'data', 'dogecoin', 'value', 'soar', 'elon', 'musk', 'say', 'accepted', 'tesla', 'good', 'tesla', 'accept', 'dogecoin', 'merchandise', 'musk', 'say', 'us', 'stock', 'whiplashed', 'bank', 'drop', 'earnings', 'result', 'bond', 'yield', 'surge', 'uk', 'us', 'stuck', 'cbdc', 'hypothetical', 'developing', 'nation', 'plow', 'ahead', 'testing', 'etf', 'market', 'outlook', 'picks', 'jack', 'dorseys', 'block', 'getting', 'bitcoin', 'mining', 'north', 'korean', 'hacker', 'stole', 'million', 'worth', 'crypto', 'tesla', 'take', 'dogecoin', 'payment', 'merch', 'car']\n"
     ]
    }
   ],
   "source": [
    "btc_tokens=[]\n",
    "for i in range(0,len(btc_headlines)):\n",
    "    for j in range(0,len(btc_headlines[i])):\n",
    "        btc_tokens=btc_tokens+tokenizer(btc_headlines[i][j])\n",
    "        \n",
    "print(btc_tokens)"
   ]
  },
  {
   "cell_type": "code",
   "execution_count": null,
   "metadata": {},
   "outputs": [
    {
     "ename": "AttributeError",
     "evalue": "'set' object has no attribute 'append'",
     "output_type": "error",
     "traceback": [
      "\u001b[1;31m---------------------------------------------------------------------------\u001b[0m",
      "\u001b[1;31mAttributeError\u001b[0m                            Traceback (most recent call last)",
      "\u001b[1;32mC:\\Users\\IRONCO~2\\AppData\\Local\\Temp/ipykernel_3636/2197392498.py\u001b[0m in \u001b[0;36m<module>\u001b[1;34m\u001b[0m\n\u001b[0;32m      1\u001b[0m \u001b[1;31m# Create a new tokens column for Bitcoin\u001b[0m\u001b[1;33m\u001b[0m\u001b[1;33m\u001b[0m\u001b[1;33m\u001b[0m\u001b[0m\n\u001b[1;32m----> 2\u001b[1;33m \u001b[0mbtc_token\u001b[0m\u001b[1;33m.\u001b[0m\u001b[0mappend\u001b[0m\u001b[1;33m(\u001b[0m\u001b[0mset\u001b[0m\u001b[1;33m(\u001b[0m\u001b[0mtokenizer\u001b[0m\u001b[1;33m(\u001b[0m\u001b[0mbtc_headlines\u001b[0m\u001b[1;33m[\u001b[0m\u001b[1;36m0\u001b[0m\u001b[1;33m]\u001b[0m\u001b[1;33m[\u001b[0m\u001b[1;36m1\u001b[0m\u001b[1;33m]\u001b[0m\u001b[1;33m)\u001b[0m\u001b[1;33m)\u001b[0m\u001b[1;33m)\u001b[0m\u001b[1;33m\u001b[0m\u001b[1;33m\u001b[0m\u001b[0m\n\u001b[0m",
      "\u001b[1;31mAttributeError\u001b[0m: 'set' object has no attribute 'append'"
     ]
    }
   ],
   "source": [
    "# Create a new tokens column for Bitcoin\n"
   ]
  },
  {
   "cell_type": "code",
   "execution_count": null,
   "metadata": {},
   "outputs": [
    {
     "ename": "SyntaxError",
     "evalue": "unexpected EOF while parsing (Temp/ipykernel_28000/39349498.py, line 2)",
     "output_type": "error",
     "traceback": [
      "\u001b[1;36m  File \u001b[1;32m\"C:\\Users\\IRONCO~2\\AppData\\Local\\Temp/ipykernel_28000/39349498.py\"\u001b[1;36m, line \u001b[1;32m2\u001b[0m\n\u001b[1;33m    print(set(tokenizer(etc_headlines))\u001b[0m\n\u001b[1;37m                                       ^\u001b[0m\n\u001b[1;31mSyntaxError\u001b[0m\u001b[1;31m:\u001b[0m unexpected EOF while parsing\n"
     ]
    }
   ],
   "source": [
    "# Create a new tokens column for Ethereum\n",
    "eth_tokens=[]\n",
    "for i in range(0,len(eth_headlines)):\n",
    "    for j in range(0,len(eth_headlines[i])):\n",
    "        eth_tokens=eth_tokens+tokenizer(eth_headlines[i][j])\n",
    "        \n",
    "print(eth_tokens)"
   ]
  },
  {
   "cell_type": "markdown",
   "metadata": {},
   "source": [
    "---"
   ]
  },
  {
   "cell_type": "markdown",
   "metadata": {},
   "source": [
    "### NGrams and Frequency Analysis\n",
    "\n",
    "In this section you will look at the ngrams and word frequency for each coin. \n",
    "\n",
    "1. Use NLTK to produce the n-grams for N = 2. \n",
    "2. List the top 10 words for each coin. "
   ]
  },
  {
   "cell_type": "code",
   "execution_count": 346,
   "metadata": {},
   "outputs": [],
   "source": [
    "from collections import Counter\n",
    "from nltk import ngrams\n"
   ]
  },
  {
   "cell_type": "code",
   "execution_count": 359,
   "metadata": {},
   "outputs": [
    {
     "name": "stdout",
     "output_type": "stream",
     "text": [
      "{'took': 2, 'days': 1, 'netflix': 5, 'order': 1, 'docuseries': 2, 'bonnie': 2, 'clyde': 2, 'crypto': 142, 'world': 6, 'bitcoin': 261, 'paradise': 3, 'briton': 1, 'creates': 2, 'utopia': 2, 'south': 1, 'pacific': 1, 'cia': 1, 'secretly': 1, 'run': 1, 'bulk': 1, 'collection': 2, 'program': 1, 'youtube': 2, 'exploring': 2, 'web': 6, 'onlyfans': 1, 'debuts': 1, 'nft': 12, 'profile': 5, 'pictures': 2, 'weeks': 3, 'business': 19, 'roundup': 4, 'obj': 1, 'hope': 2, 'come': 2, 'rams': 1, 'drake': 2, 'uber': 1, 'ceo': 5, 'says': 8, 'app': 2, 'absolutely': 2, 'accept': 5, 'payment': 9, 'future': 11, 'galaxy': 1, 'ha': 3, 'builtin': 1, 'cryptocurrency': 49, 'wallet': 7, 'v': 5, 'sp': 1, 'better': 8, 'first': 14, 'investment': 7, 'suddenly': 4, 'braced': 2, 'huge': 4, 'trillion': 4, 'earthquake': 1, 'extreme': 3, 'volatility': 4, 'hits': 2, 'price': 22, 'ethereum': 30, 'bnb': 5, 'solana': 9, 'cardano': 9, 'xrp': 4, 'ui': 1, 'alum': 1, 'donates': 1, 'fund': 6, 'blockchain': 17, 'education': 1, 'champaignurbana': 1, 'newsgazette': 1, 'recovering': 1, 'time': 6, 'invest': 5, 'hodler': 1, 'accumulation': 1, 'increasing': 2, 'nationstate': 1, 'strategies': 2, 'envisioned': 1, 'peter': 1, 'thiel': 1, 'searches': 1, 'realitybending': 1, 'secrets': 1, 'solo': 1, 'mine': 6, 'using': 4, 'blockstream': 1, 'satellite': 1, 'fed': 13, 'monetary': 3, 'policy': 3, 'geopolitics': 1, 'sink': 2, 'btc': 5, 'annuities': 1, 'revitalize': 1, 'poor': 1, 'value': 8, 'many': 2, 'lives': 1, 'cryptos': 6, 'notorious': 1, 'couple': 11, 'chinese': 1, 'miner': 3, 'exodus': 1, 'face': 2, 'hurdle': 1, 'equipment': 3, 'remains': 2, 'stuck': 2, 'shipment': 1, 'delay': 1, 'tariff': 1, 'legal': 12, 'quagmire': 1, 'valentines': 2, 'day': 7, 'approaching': 1, 'fbi': 1, 'warns': 2, 'issues': 1, 'scammer': 1, 'alert': 1, 'already': 1, 'making': 3, 'alleged': 3, 'billiondollar': 2, 'launderers': 1, 'wall': 5, 'st': 1, 'week': 8, 'ahead': 10, 'investor': 15, 'uncertainty': 2, 'rocky': 1, 'start': 2, 'reuters': 65, 'intel': 6, 'launch': 6, 'chip': 4, 'tap': 1, 'boom': 3, 'twitter': 7, 'aim': 2, 'edge': 1, 'big': 8, 'techs': 1, 'contest': 1, 'opennode': 2, 'beginners': 1, 'guide': 2, 'learning': 1, 'trade': 2, 'us': 28, 'dollar': 9, 'net': 2, 'long': 3, 'bet': 4, 'skid': 2, 'lowest': 2, 'since': 6, 'midaugust': 1, 'cftc': 2, 'top': 6, 'ten': 1, 'weekend': 6, 'read': 1, 'inflation': 12, 'fear': 4, 'opportunity': 2, 'dapper': 1, 'labs': 1, 'minting': 1, 'nfts': 11, 'flow': 1, 'take': 7, 'le': 1, 'energy': 5, 'google': 3, 'search': 1, 'dow': 1, 'fall': 10, 'point': 2, 'russiaukraine': 1, 'tension': 2, 'rise': 2, 'robinhood': 3, 'planning': 2, 'go': 4, 'global': 4, 'expansion': 1, 'meet': 4, 'guy': 2, 'went': 1, 'viral': 2, 'explaining': 1, 'poverty': 1, 'trap': 1, 'techcrunch': 1, 'warning': 4, 'sign': 1, 'chinas': 1, 'av': 1, 'frenzy': 2, 'insurtech': 1, 'trend': 2, 'course': 1, 'ordered': 1, 'movie': 1, 'scandal': 1, 'rapper': 3, 'turns': 1, 'milliondollar': 1, 'jpmorgan': 3, 'reveals': 2, 'bitcoins': 12, 'biggest': 5, 'challengealong': 1, 'surprise': 3, 'fair': 2, 'accused': 2, 'conspiring': 3, 'launder': 7, 'around': 2, 'b': 4, 'stolen': 13, 'pieced': 1, 'together': 1, 'source': 2, 'filing': 2, 'voluminous': 1, 'online': 2, 'record': 8, 'tim': 2, 'marchmanvice': 1, 'ship': 1, 'bonanza': 3, 'year': 9, 'enters': 3, 'mining': 19, 'market': 32, 'custom': 1, 'compute': 1, 'group': 4, 'design': 1, 'build': 1, 'hardware': 3, 'paul': 1, 'alcorntoms': 1, 'wild': 3, 'story': 2, 'hipster': 2, 'bandits': 1, 'set': 4, 'doc': 1, 'series': 2, 'personal': 2, 'finance': 3, 'daily': 2, 'green': 2, 'super': 3, 'bowl': 3, 'oceanfriendly': 1, 'straw': 1, 'nikolas': 1, 'hydrogen': 2, 'beer': 1, 'truck': 1, 'try': 1, 'lower': 2, 'nfl': 1, 'championship': 1, 'carbon': 2, 'footprint': 1, 'could': 13, 'billion': 24, 'gift': 1, 'restaurant': 1, 'retailer': 1, 'cities': 1, 'turning': 1, 'grassroots': 1, 'fundraising': 1, 'playing': 1, 'youll': 1, 'need': 7, 'several': 1, 'privacy': 2, 'coin': 5, 'cryptocurrencies': 14, 'traded': 1, 'anonymously': 1, 'inside': 1, 'chess': 1, 'match': 3, 'led': 2, 'feds': 4, 'someone': 1, 'bought': 3, 'launderer': 1, 'theyre': 2, 'pissed': 1, 'dont': 6, 'bother': 1, 'investing': 3, 'youre': 3, 'ignoring': 1, 'k': 6, 'say': 27, 'yearold': 3, 'millionaire': 1, 'used': 3, 'work': 5, 'street': 4, 'love': 1, 'told': 2, 'social': 2, 'medium': 2, 'exchange': 7, 'binance': 2, 'make': 10, 'forbes': 2, 'slump': 5, 'news': 6, 'rose': 2, 'january': 5, 'risk': 8, 'sentiment': 1, 'help': 7, 'antipodeans': 1, 'trader': 2, 'wait': 2, 'data': 4, 'hampshire': 1, 'tinder': 1, 'fraudster': 1, 'jailed': 1, 'conning': 1, 'woman': 1, 'wwf': 1, 'debacle': 1, 'clear': 1, 'ecofriendly': 1, 'really': 6, 'exist': 1, 'processor': 1, 'raise': 3, 'kingsway': 1, 'valuation': 2, 'draper': 1, 'avon': 1, 'ventures': 1, 'also': 1, 'invested': 1, 'marc': 1, 'wojnozdnet': 1, 'parody': 1, 'arrested': 3, 'lesser': 1, 'crime': 2, 'allegedly': 4, 'colaundering': 1, 'hacker': 4, 'hunting': 1, 'lost': 3, 'ontario': 2, 'court': 2, 'freeze': 2, 'access': 3, 'givesendgo': 2, 'donation': 4, 'trucker': 2, 'protest': 3, 'globe': 2, 'mail': 2, 'cp': 1, 'torontos': 1, 'breaking': 2, 'disney': 2, 'quicktake': 1, 'stock': 32, 'attracting': 1, 'black': 1, 'latino': 1, 'fan': 2, 'get': 7, 'bn': 4, 'seized': 2, 'bitfinex': 4, 'hack': 10, 'bubble': 2, 'going': 4, 'burst': 2, 'ilya': 2, 'lichtenstein': 2, 'heather': 2, 'morgan': 2, 'charged': 3, 'case': 3, 'doj': 3, 'tout': 1, 'seizure': 3, 'breakingviews': 1, 'spending': 1, 'harder': 1, 'stealing': 1, 'billionaire': 2, 'mike': 1, 'novogratz': 1, 'recovery': 2, 'bullish': 2, 'show': 1, 'strength': 2, 'moneywatch': 1, 'sport': 1, 'betting': 2, 'earned': 1, 'income': 4, 'tax': 4, 'credit': 2, 'dojs': 1, 'shows': 1, 'hard': 1, 'accounts': 2, 'tried': 1, 'disappeared': 1, 'gofundme': 1, 'proved': 1, 'use': 8, 'regulator': 4, 'full': 1, 'steam': 3, 'tame': 1, 'currency': 5, 'tesla': 11, 'owns': 1, 'usd': 3, 'digital': 11, 'broker': 1, 'expand': 1, 'offering': 2, 'revive': 1, 'retail': 2, 'buzz': 1, 'uk': 2, 'australia': 1, 'issue': 1, 'joint': 1, 'advisory': 1, 'ransomwareasaservice': 1, 'loose': 1, 'critical': 1, 'national': 3, 'infrastructure': 1, 'affected': 2, 'workers': 1, 'burned': 1, 'want': 2, 'flexibility': 1, 'remote': 1, 'may': 9, 'cure': 1, 'survey': 1, 'way': 6, 'cybercriminals': 1, 'employee': 1, 'attack': 3, 'office': 1, 'malware': 1, 'laundering': 6, 'department': 1, 'justice': 2, 'recovers': 1, 'kpmg': 2, 'canada': 2, 'adds': 1, 'corporate': 6, 'balance': 5, 'sheet': 4, 'seizes': 3, 'solving': 1, 'scam': 2, 'helps': 1, 'institutionalize': 1, 'judge': 1, 'halt': 1, 'bail': 1, 'dept': 1, 'arrests': 1, 'married': 2, 'cryptoverseafter': 1, 'winter': 7, 'hunt': 1, 'virtual': 1, 'soar': 5, 'backing': 1, 'ukraines': 1, 'government': 1, 'report': 9, 'arrest': 4, 'new': 18, 'york': 5, 'related': 3, 'selfproclaimed': 1, 'crocodile': 1, 'snagged': 1, 'bust': 1, 'hash': 1, 'rate': 5, 'measure': 2, 'computing': 2, 'power': 7, 'network': 5, 'key': 2, 'security': 2, 'indicator': 2, 'bln': 2, 'tied': 1, 'euro': 1, 'bounce': 3, 'pause': 2, 'canadas': 2, 'tmx': 1, 'plan': 9, 'product': 1, 'institutional': 1, 'pushing': 1, 'giving': 1, 'away': 1, 'millions': 1, 'trading': 7, 'creating': 1, 'generation': 1, 'addict': 1, 'etf': 11, 'iwin': 1, 'fight': 1, 'recordhigh': 1, 'seize': 1, 'hacked': 1, 'announces': 1, 'scheme': 3, 'financial': 8, 'duo': 1, 'mega': 1, 'heist': 2, 'serial': 1, 'entrepreneur': 2, 'startup': 2, 'money': 7, 'prosecutor': 1, 'defi': 5, 'women': 1, 'back': 6, 'control': 2, 'finances': 1, 'close': 2, 'wealth': 1, 'gap': 1, 'ny': 1, 'updates': 1, 'softbank': 2, 'edges': 1, 'profitability': 1, 'tech': 11, 'sector': 1, 'suffers': 2, 'banks': 3, 'froze': 1, 'adult': 1, 'entertainers': 1, 'turned': 1, 'dip': 4, 'look': 5, 'toward': 2, 'jump': 4, 'ted': 1, 'cruz': 1, 'booster': 1, 'bunch': 1, 'sec': 9, 'subpoenaed': 1, 'november': 2, 'elon': 6, 'musk': 7, 'tweet': 2, 'play': 3, 'wordle': 1, 'game': 2, 'boy': 1, 'analogue': 1, 'pocket': 1, 'mostly': 1, 'weigh': 2, 'concern': 2, 'earnings': 8, 'shiba': 2, 'inu': 2, 'rally': 4, 'high': 13, 'meme': 2, 'grain': 1, 'platform': 2, 'covantis': 1, 'add': 2, 'north': 3, 'america': 1, 'crop': 1, 'firm': 4, 'coalition': 2, 'promote': 3, 'integrity': 2, 'cant': 2, 'staked': 1, 'switch': 1, 'pos': 2, 'peloton': 2, 'spirit': 1, 'airlines': 1, 'tyson': 1, 'foods': 1, 'know': 6, 'like': 5, 'strategist': 1, 'reality': 1, 'volatile': 2, 'added': 1, 'ether': 6, 'heres': 12, 'see': 6, 'gain': 6, 'reaching': 1, 'technical': 2, 'analyst': 2, 'ensure': 1, 'heirs': 1, 'firms': 2, 'ottawa': 1, 'vaccine': 1, 'mandate': 1, 'begin': 2, 'whats': 1, 'next': 4, 'spring': 1, 'hit': 11, 'five': 1, 'straight': 1, 'bitcoinlinked': 2, 'stocks': 11, 'rocketing': 1, 'higher': 5, 'today': 13, 'americas': 1, 'miners': 8, 'georgia': 1, 'minds': 1, 'frequently': 1, 'asked': 1, 'questions': 1, 'nftsnonfungible': 1, 'tokens': 1, 'buy': 18, 'coinbase': 8, 'let': 1, 'receive': 4, 'refund': 1, 'addressing': 1, 'fud': 1, 'showing': 1, 'mirror': 1, 'becoming': 1, 'another': 3, 'argument': 1, 'best': 4, 'etfs': 3, 'watch': 2, 'bonds': 2, 'focus': 3, 'el': 25, 'salvador': 20, 'reject': 5, 'imf': 15, 'call': 4, 'drop': 7, 'euronews': 1, 'consolidates': 1, 'fridays': 1, 'breakout': 2, 'hold': 4, 'safe': 1, 'florida': 1, 'state': 5, 'fees': 1, 'accounting': 2, 'rule': 4, 'stack': 1, 'comic': 1, 'book': 1, 'doesnt': 4, 'care': 1, 'notification': 1, 'system': 4, 'guidelines': 1, 'rejected': 1, 'attacking': 1, 'impulse': 1, 'move': 4, 'done': 1, 'yet': 2, 'hindering': 1, 'adoption': 2, 'dave': 1, 'portnoy': 1, 'bitcoiner': 1, 'thinks': 1, 'idiot': 1, 'people': 6, 'color': 1, 'technically': 1, 'religion': 2, 'scholar': 1, 'investigates': 1, 'linus': 1, 'torvalds': 1, 'creator': 1, 'satoshi': 1, 'nakamoto': 1, 'fungibility': 1, 'graveyard': 1, 'gateways': 1, 'michael': 2, 'saylor': 1, 'winklevoss': 1, 'bros': 1, 'celebrate': 1, 'rebound': 2, 'thestreet': 1, 'growing': 2, 'russian': 3, 'ransomware': 5, 'threat': 2, 'costing': 2, 'company': 6, 'dear': 1, 'cathie': 3, 'wood': 2, 'im': 3, 'advocate': 1, 'inclusive': 1, 'capitalism': 1, 'intrigued': 1, 'polkadot': 1, 'jumped': 1, 'climbs': 1, 'months': 1, 'powered': 1, 'ubi': 1, 'jack': 7, 'dorsey': 5, 'solveincome': 1, 'inequality': 2, 'quantum': 6, 'computer': 2, 'able': 1, 'break': 1, 'sooner': 1, 'think': 1, 'trio': 1, 'tier': 1, 'every': 2, 'newbie': 1, 'congress': 1, 'introduces': 1, 'radical': 1, 'bill': 3, 'unleash': 1, 'innovation': 1, 'avoid': 3, 'matter': 3, 'twoweek': 2, 'dogecoin': 15, 'boston': 2, 'mit': 1, 'release': 1, 'result': 2, 'cbdc': 2, 'research': 1, 'cryptoslate': 1, 'climb': 2, 'downslope': 1, 'effects': 2, 'development': 1, 'ecosystem': 4, 'africa': 1, 'surge': 3, 'texas': 3, 'shutting': 3, 'grid': 2, 'survive': 1, 'storm': 1, 'owning': 1, 'totally': 1, 'laid': 1, 'conversation': 1, 'rallying': 1, 'friday': 2, 'clamber': 1, 'perch': 1, 'following': 1, 'job': 3, 'posts': 1, 'october': 1, 'proof': 2, 'stake': 1, 'soared': 1, 'taproot': 1, 'upgrade': 1, 'hate': 1, 'internet': 2, 'skyrocketed': 1, 'loyalty': 1, 'programs': 1, 'wrap': 2, 'rallies': 1, 'altcoins': 1, 'lead': 1, 'coindesk': 3, 'past': 1, 'expect': 1, 'indictment': 1, 'space': 1, 'soon': 4, 'technology': 2, 'companies': 1, 'changing': 1, 'handle': 2, 'assets': 1, 'give': 2, 'refunds': 1, 'interest': 6, 'currencies': 1, 'grows': 1, 'even': 1, 'governments': 1, 'remain': 2, 'wary': 1, 'dubai': 1, 'leading': 2, 'investorfocused': 1, 'stocktwits': 1, 'roll': 1, 'blast': 1, 'weather': 2, 'wormhole': 1, 'possible': 1, 'mln': 3, 'wants': 3, 'subscribe': 1, 'else': 1, 'metaverse': 3, 'nvidia': 1, 'roblox': 1, 'facebook': 2, 'parent': 2, 'metas': 3, 'massive': 1, 'loss': 3, 'analysis': 4, 'ipo': 2, 'slowdown': 2, 'slam': 2, 'door': 2, 'unicorn': 2, 'looking': 3, 'cash': 5, 'analysisus': 1, 'reuterscom': 5, 'change': 1, 'revamps': 1, 'complaint': 1, 'theft': 1, 'fraud': 1, 'expected': 2, 'icy': 1, 'riot': 3, 'largest': 3, 'reduces': 1, 'consumption': 1, 'whinstone': 1, 'facility': 1, 'smithbloomberg': 1, 'prototype': 1, 'million': 15, 'transaction': 2, 'per': 4, 'second': 1, 'meld': 1, 'decentralized': 1, 'lending': 2, 'unbanked': 1, 'lot': 1, 'actually': 1, 'good': 2, 'thing': 7, 'dorseys': 3, 'opinion': 2, 'scares': 1, 'veteran': 2, 'raises': 1, 'bring': 3, 'daos': 2, 'plunge': 3, 'spotlight': 1, 'peril': 2, 'singlestock': 1, 'exposure': 1, 'problem': 2, 'expert': 1, 'responds': 1, 'takedown': 1, 'offer': 2, 'staking': 1, 'still': 2, 'dropped': 3, 'musks': 1, 'putting': 1, 'strategy': 2, 'microstrategy': 5, 'reported': 2, 'impairment': 1, 'charge': 1, 'holding': 1, 'th': 1, 'quarter': 1, 'angrily': 1, 'rejects': 1, 'golden': 1, 'period': 1, 'thailands': 1, 'asset': 3, 'acquisition': 2, 'completed': 2, 'block': 10, 'afterpay': 1, 'available': 1, 'seller': 1, 'view': 1, 'favorably': 1, 'clearly': 1, 'valued': 2, 'software': 1, 'continue': 4, 'cheer': 1, 'strong': 5, 'name': 1, 'extend': 1, 'streak': 1, 'giant': 3, 'falls': 2, 'dire': 1, 'jobs': 1, 'bull': 2, 'bear': 1, 'laptop': 2, 'facebooks': 3, 'dream': 1, 'started': 1, 'diem': 4, 'wa': 1, 'waste': 2, 'shouldve': 1, 'focused': 2, 'fell': 4, 'sinking': 1, 'voltus': 1, 'lines': 1, 'megawatt': 1, 'provide': 1, 'capacity': 1, 'pjm': 1, 'mstr': 1, 'q': 3, 'transcript': 1, 'silvergate': 1, 'capital': 3, 'missed': 2, 'estimates': 1, 'controversies': 1, 'opportunities': 1, 'technologies': 1, 'matt': 1, 'damon': 1, 'shilling': 1, 'cryptoversebitcoin': 1, 'squeeze': 1, 'smaller': 1, 'rival': 2, 'crown': 1, 'slowly': 1, 'zuckerberg': 1, 'india': 2, 'rupee': 1, 'cryptorelated': 1, 'according': 1, 'minister': 1, 'outside': 1, 'box': 1, 'illogical': 1, 'continued': 1, 'refusal': 1, 'ok': 1, 'reddit': 2, 'cofounder': 2, 'ohanians': 2, 'venture': 2, 'investors': 6, 'handling': 1, 'plunging': 1, 'prices': 3, 'exxon': 1, 'mobil': 1, 'xometry': 1, 'gannett': 1, 'nation': 4, 'ambitious': 1, 'plans': 2, 'cedar': 1, 'pge': 1, 'corp': 2, 'chevron': 1, 'sell': 5, 'latejanuary': 1, 'european': 1, 'hints': 1, 'potential': 1, 'major': 6, 'tv': 1, 'opening': 4, 'bell': 4, 'breakthrough': 1, 'western': 1, 'consider': 4, 'taking': 6, 'paid': 3, 'coming': 1, 'affect': 1, 'important': 1, 'project': 2, 'syndicate': 1, 'cautious': 1, 'nonchalant': 1, 'private': 1, 'wikimedia': 1, 'foundation': 1, 'urged': 2, 'stop': 2, 'accepting': 3, 'donations': 1, 'football': 3, 'weekly': 2, 'thai': 1, 'cafe': 1, 'serf': 1, 'advice': 3, 'coffee': 1, 'cake': 1, 'ftx': 2, 'invests': 2, 'turkish': 1, 'bitci': 1, 'open': 4, 'brazil': 1, 'spain': 3, 'near': 4, 'month': 5, 'bumper': 1, 'central': 3, 'bank': 3, 'wealthsimple': 1, 'realworld': 1, 'beyond': 1, 'track': 1, 'worst': 1, 'futures': 1, 'movers': 1, 'slip': 2, 'sunday': 2, 'reasons': 2, 'worried': 1, 'crash': 11, 'objects': 1, 'accurately': 1, 'valuing': 1, 'stash': 1, 'deepdotweb': 2, 'site': 1, 'operator': 2, 'sentenced': 3, 'years': 3, 'goldmans': 1, 'skepticism': 1, 'asian': 1, 'secs': 1, 'standoff': 1, 'selloff': 11, 'wiped': 5, 'cap': 3, 'monero': 1, 'hedge': 3, 'right': 4, 'funding': 1, 'round': 1, 'whopping': 1, 'sam': 1, 'bankmanfried': 1, 'expects': 4, 'longterm': 2, 'put': 2, 'mouse': 1, 'dna': 1, 'genetically': 1, 'engineered': 1, 'virus': 1, 'shib': 1, 'terra': 2, 'tank': 1, 'odell': 3, 'beckham': 3, 'jr': 3, 'class': 1, 'athlete': 2, 'getting': 3, 'highprofile': 1, 'highupside': 1, 'pay': 6, 'china': 1, 'selects': 1, 'pilot': 1, 'zone': 1, 'application': 1, 'area': 2, 'strip': 3, 'club': 2, 'crazy': 1, 'horse': 1, 'lap': 1, 'dances': 1, 'crumbled': 1, 'thank': 1, 'cheap': 3, 'bidens': 2, 'regulations': 1, 'taxes': 1, 'securityreports': 1, 'reveal': 2, 'joe': 3, 'swings': 2, 'solve': 1, 'links': 1, 'working': 3, 'exchanges': 1, 'earn': 1, 'one': 5, 'dollars': 1, 'sports': 1, 'stars': 1, 'politicians': 1, 'would': 2, 'computers': 2, 'crack': 2, 'generating': 1, 'sales': 2, 'growth': 4, 'different': 1, 'types': 1, 'uncertaintyrisk': 1, 'tether': 1, 'poking': 1, 'beast': 1, 'prosperity': 1, 'puerto': 1, 'rico': 1, 'oreilly': 1, 'reports': 2, 'cybersecurity': 1, 'ai': 1, 'rust': 1, 'c': 1, 'alts': 1, 'underperforming': 1, 'expectations': 1, 'justin': 1, 'bieber': 1, 'bored': 1, 'ape': 2, 'chat': 1, 'purchase': 2, 'inches': 1, 'cancel': 1, 'rising': 1, 'star': 1, 'markets': 4, 'colorado': 1, 'governor': 1, 'withstands': 1, 'dwarf': 1, 'laugh': 1, 'sarah': 1, 'palin': 1, 'nothing': 1, 'funny': 1, 'role': 1, 'dividing': 1, 'arwa': 1, 'mahdawi': 1, 'continues': 2, 'engagement': 1, 'emboldened': 1, 'industry': 2, 'plot': 1, 'assault': 1, 'urge': 7, 'scale': 3, 'push': 4, 'slide': 7, 'puts': 1, 'outlook': 3, 'test': 1, 'goldman': 3, 'sachs': 2, 'issued': 1, 'shopify': 1, 'sweatcoin': 1, 'real': 2, 'smallest': 1, 'businesses': 1, 'cantillon': 1, 'derivative': 1, 'bulls': 1, 'vanished': 1, 'low': 8, 'views': 1, 'vary': 1, 'apple': 2, 'revenue': 1, 'might': 3, 'tender': 7, 'embraces': 1, 'nigeria': 1, 'offers': 1, 'lessons': 1, 'developing': 3, 'sheets': 1, 'promised': 1, 'land': 1, 'gamestop': 1, 'arent': 2, 'much': 3, 'anymore': 1, 'john': 3, 'terry': 1, 'remove': 3, 'premier': 2, 'league': 2, 'trophy': 1, 'intervention': 1, 'holder': 1, 'square': 1, 'passive': 1, 'stream': 1, 'doctor': 1, 'extra': 1, 'lebron': 1, 'james': 2, 'partner': 2, 'cryptocom': 5, 'teach': 1, 'kid': 1, 'qnap': 1, 'deadbolt': 1, 'targeting': 1, 'internetfacing': 1, 'nas': 1, 'devices': 1, 'white': 3, 'house': 1, 'readying': 1, 'executive': 1, 'action': 2, 'task': 2, 'federal': 2, 'agency': 1, 'regulating': 1, 'daren': 1, 'fondabarrons': 1, 'unusual': 1, 'danielle': 1, 'collins': 1, 'australian': 1, 'final': 1, 'without': 2, 'shoe': 1, 'clothing': 1, 'sponsorship': 1, 'threatens': 1, 'everything': 2, 'worse': 1, 'apocalypse': 2, 'president': 4, 'biden': 1, 'mainstream': 3, 'acceptance': 1, 'boost': 1, 'retirement': 2, 'living': 1, 'zoom': 3, 'bleeds': 1, 'ubisofts': 1, 'boss': 1, 'player': 1, 'public': 1, 'sunk': 1, 'reminder': 1, 'force': 1, 'salvadors': 5, 'chivo': 1, 'keep': 2, 'user': 1, 'seeking': 1, 'answer': 1, 'eight': 1, 'fidelitys': 1, 'wise': 1, 'origin': 1, 'spot': 2, 'bond': 5, 'relationship': 1, 'sour': 1, 'moodys': 1, 'woods': 1, 'ark': 1, 'salvadorans': 1, 'react': 1, 'country': 3, 'end': 2, 'cnet': 2, 'scared': 1, 'find': 2, 'buyer': 3, 'flag': 1, 'hike': 3, 'demise': 1, 'russia': 4, 'regional': 1, 'brett': 1, 'arendss': 1, 'roi': 1, 'easter': 1, 'bunny': 1, 'cartoon': 1, 'maher': 1, 'called': 2, 'journal': 1, 'foray': 1, 'quietly': 1, 'ending': 1, 'distributed': 2, 'ledger': 2, 'mean': 1, 'portfolio': 2, 'prune': 1, 'hawkishness': 1, 'hawkish': 4, 'proves': 1, 'backers': 1, 'economy': 1, 'buying': 2, 'spell': 1, 'doom': 1, 'gibraltar': 1, 'worlds': 1, 'factbox': 1, 'asks': 1, 'clamp': 1, 'joked': 1, 'mcdonalds': 4, 'sense': 1, 'brief': 1, 'history': 1, 'feud': 1, 'times': 1, 'small': 3, 'surprises': 1, 'stored': 1, 'briefly': 1, 'reserve': 1, 'zero': 1, 'urges': 1, 'uefa': 1, 'terrys': 1, 'salary': 3, 'imfs': 1, 'board': 1, 'status': 3, 'due': 1, 'large': 1, 'obstacle': 1, 'loan': 2, 'request': 1, 'eric': 4, 'martinbloomberg': 1, 'techscape': 1, 'embrace': 1, 'criticized': 1, 'cooler': 1, 'heads': 2, 'prevailing': 1, 'whos': 1, 'afraid': 1, 'sale': 1, 'beatenup': 1, 'buys': 2, 'bit': 1, 'plummeting': 2, 'grand': 1, 'faultinjection': 1, 'trezor': 1, 'recover': 1, 'two': 1, 'friend': 1, 'forgot': 1, 'pin': 1, 'kim': 1, 'zetterthe': 1, 'verge': 1, 'international': 2, 'tell': 2, 'shouldnt': 1, 'cryptoverseteenage': 1, 'throw': 1, 'tantrum': 1, 'update': 2, 'indonesia': 1, 'banned': 1, 'facilitating': 1, 'highend': 1, 'pc': 1, 'graphics': 1, 'cards': 2, 'little': 1, 'cheaper': 1, 'tanks': 1, 'asia': 2, 'blackout': 1, 'leaf': 1, 'regulate': 1, 'ban': 4, 'finmin': 1, 'official': 1, 'operation': 1, 'ignites': 1, 'debate': 1, 'coal': 1, 'pennsylvania': 1, 'gold': 4, 'standard': 1, 'claim': 2, 'fading': 1, 'fast': 1, 'nix': 1, 'reportedly': 2, 'imagine': 1, 'possession': 1, 'beatles': 1, 'memorabilia': 1, 'virtually': 1, 'auction': 1, 'amid': 4, 'jitter': 1, 'ukraine': 8, 'decline': 2, 'coins': 3, 'applications': 1, 'sold': 1, 'opensea': 1, 'fears': 2, 'send': 2, 'chills': 1, 'battered': 1, 'faithful': 1, 'popular': 1, 'themes': 1, 'sight': 1, 'robust': 1, 'regulation': 1, 'tumble': 2, 'sixmonth': 3, 'conflict': 2, 'shake': 3, 'changes': 1, 'losses': 1, 'extends': 3, 'melt': 1, 'six': 2, 'step': 2, 'battering': 2, 'cryptoland': 2, 'dead': 1, 'failing': 1, 'noncrypto': 1, 'estate': 1, 'load': 1, 'whipsaw': 1, 'jefferies': 1, 'head': 1, 'hours': 1, 'nfls': 1, 'googles': 1, 'forming': 1, 'unit': 1, 'live': 2, 'shade': 1, 'stress': 1, 'adopts': 2, 'uniform': 1, 'bears': 1, 'gate': 1, 'memeing': 1, 'brutal': 1, 'basic': 1, 'decentralization': 1, 'chart': 1, 'explain': 1, 'meltdown': 1, 'correlated': 1, 'safehaven': 1, 'dangerous': 2, 'soaring': 1, 'vix': 1, 'blue': 1, 'verification': 1, 'checkmark': 1, 'hexagonal': 2, 'pfps': 1, 'things': 2, 'starting': 3, 'rocks': 1, 'flee': 1, 'tandem': 1, 'fox': 4, 'towards': 1, 'sub': 1, 'decision': 1, 'nears': 2, 'replacing': 1, 'dismantling': 1, 'fiat': 1, 'architecture': 1, 'historic': 1, 'orleans': 1, 'man': 2, 'defrauding': 1, 'customers': 1, 'unlicensed': 1, 'lobservateur': 2, 'driving': 1, 'mayors': 1, 'address': 1, 'mover': 1, 'regain': 1, 'ground': 1, 'early': 2, 'opsec': 1, 'tips': 1, 'casa': 1, 'keyfest': 1, 'fallen': 2, 'almost': 2, 'cent': 2, 'ctv': 1, 'pyramid': 2, 'wreak': 2, 'havoc': 2, 'brazils': 2, 'egypt': 2, 'half': 2, 'hitting': 1, 'sharply': 1, 'husband': 1, 'account': 2, 'glad': 1, 'ignored': 1, 'reason': 3, 'risky': 1, 'washington': 2, 'post': 2, 'cripples': 1, 'memecoins': 1, 'crushed': 1, 'rout': 1, 'bloomberg': 1, 'worth': 2, 'crows': 1, 'collapse': 1, 'tests': 1, 'faithfuls': 1, 'infinite': 1, 'supply': 1, 'optimism': 1, 'crashnew': 1, 'wipes': 1, 'combined': 1, 'beta': 1, 'tester': 1, 'partnering': 1, 'solanabased': 1, 'midsept': 1, 'city': 3, 'mayor': 7, 'adams': 5, 'convert': 2, 'paycheck': 6, 'streaming': 2, 'co': 2, 'oceanpal': 1, 'riskoff': 1, 'pivot': 1, 'intensifies': 1, 'debut': 1, 'hexagonshaped': 1, 'picture': 1, 'brazilian': 1, 'fintech': 1, 'dock': 1, 'remittance': 1, 'proposes': 3, 'citys': 1, 'coingecko': 1, 'total': 1, 'amidst': 1, 'tracy': 1, 'wangcoindesk': 1, 'normal': 1, 'correction': 1, 'silver': 1, 'kitco': 1, 'numismatist': 1, 'collecting': 1, 'versus': 1, 'dirty': 1, 'godfather': 1, 'panic': 1, 'unbelievable': 1, 'become': 2, 'bigger': 1, 'admits': 1, 'cbank': 2, 'banning': 2, 'finally': 1, 'acknowledges': 1, 'hackers': 3, 'skybridge': 1, 'latest': 2, 'veto': 1, 'nyc': 2, 'via': 2, 'loses': 1, 'promotes': 1, 'radically': 1, 'practical': 1, 'agenda': 1, 'weird': 1, 'transformed': 1, 'android': 1, 'phone': 2, 'deal': 2, 'race': 4, 'dominate': 1, 'nycs': 1, 'anthony': 2, 'scaramuccis': 1, 'jan': 2, 'committee': 1, 'subpoenas': 2, 'nationalists': 2, 'wanted': 1, 'trump': 1, 'life': 1, 'sluggish': 1, 'marched': 1, 'charlottesville': 1, 'theres': 1, 'pain': 1, 'store': 1, 'eu': 2, 'climate': 1, 'disaster': 1, 'stablecoin': 1, 'pick': 1, 'challenging': 1, 'dominant': 1, 'mixer': 1, 'shuts': 1, 'withdrawals': 1, 'steal': 1, 'sucking': 1, 'renewable': 1, 'card': 1, 'attract': 1, 'users': 1, 'francis': 1, 'ngannou': 1, 'ufc': 1, 'purse': 1, 'opera': 1, 'launches': 1, 'dedicated': 1, 'browser': 1, 'penny': 1, 'dwac': 1, 'wakes': 1, 'caps': 1, 'fastestscaling': 1, 'short': 1, 'jamaica': 1, 'qualifying': 1, 'fourman': 1, 'bobsled': 1, 'team': 1, 'griid': 1, 'ink': 1, 'tough': 1, 'radio': 1, 'fifa': 1, 'fifpro': 1, 'announce': 1, 'atms': 1, 'halted': 1, 'singapore': 1, 'marketing': 1, 'clampdown': 1, 'create': 2, 'bitcoinpowered': 1, 'tanking': 1, 'economyand': 1, 'mess': 1, 'fortune': 1, 'check': 1, 'quickly': 1, 'blockchaincom': 1, 'posting': 1, 'surged': 1, 'linkedin': 1, 'influencers': 1, 'unveil': 1, 'ultra': 1, 'lowvoltage': 1, 'asic': 1, 'february': 1, 'warren': 1, 'buffetts': 1, 'righthand': 1, 'rat': 1, 'poison': 1, 'protect': 1, 'casual': 1, 'spier': 1, 'erdogan': 1, 'turkey': 1, 'treasury': 3, 'crackdown': 1, 'misleading': 2, 'ad': 2, 'mozilla': 1, 'stops': 1, 'wikipedia': 1, 'fails': 1, 'catch': 1, 'lift': 1, 'yield': 4, 'japan': 1, 'shoot': 1, 'oil': 1, 'nasdaq': 1, 'nearly': 1, 'plummet': 1, 'worry': 1, 'stepbystep': 1, 'holographic': 1, 'display': 1, 'concept': 1, 'art': 1, 'interesting': 1, 'blocks': 1, 'lightning': 1, 'free': 1, 'tip': 1, 'law': 1, 'tackle': 2, 'cryptoasset': 2, 'advert': 1, 'losing': 3, 'dig': 1, 'haul': 1, 'staggering': 1, 'shift': 1, 'ubs': 1, 'three': 1, 'anatomy': 1, 'manipulation': 1, 'rein': 1, 'advertising': 1, 'hooked': 1, 'onto': 1, 'kosovo': 1, 'suspends': 1, 'scramble': 1, 'walmart': 2, 'rolling': 1, 'bitpay': 2, 'merchant': 1, 'stablecoins': 1, 'olga': 1, 'kharifbloomberg': 1, 'outperforming': 1, 'dark': 1, 'webs': 1, 'marketplace': 1, 'unstoppable': 1, 'beat': 1, 'moment': 1, 'reckoning': 1, 'literacy': 1, 'kazakhstans': 2, 'lustre': 2, 'ipad': 1, 'pro': 1, 'rumored': 1, 'feature': 1, 'magsafe': 1, 'charging': 1, 'bividends': 1, 'gone': 1, 'blame': 1, 'belarus': 1, 'pcwiping': 1, 'method': 1, 'nuke': 1, 'target': 1, 'boxen': 1, 'economic': 1, 'heavily': 1, 'quick': 1, 'dive': 1, 'enthusiasts': 2, 'idea': 1, 'dominance': 2, 'payments': 2, 'erode': 2, 'destructive': 1, 'hacks': 1, 'echo': 1, 'last': 2, 'cyberwar': 1, 'controversial': 1, 'guru': 1, 'trust': 1, 'hour': 1, 'giveaway': 1, 'midterm': 1, 'glitch': 1, 'reverseengineering': 1, 'glory': 1, 'picoemp': 1, 'filings': 1, 'definitely': 1, 'wont': 1, 'rich': 1, 'undertheradar': 1, 'outpace': 1, 'korea': 1, 'pulled': 1, 'chakras': 1, 'crashing': 1, 'habits': 1, 'highly': 1, 'effective': 1, 'hodlers': 1, 'demonstrates': 1, 'transform': 1, 'countries': 2, 'curse': 1, 'vcs': 1, 'fulfil': 1, 'democratic': 1, 'promise': 1, 'tool': 1, 'naughton': 1, 'rio': 1, 'de': 1, 'janeiro': 1, 'allocate': 1, 'percent': 1, 'study': 1, 'exchangetraded': 1, 'funds': 1, 'paypal': 1, 'merch': 2, 'moneymaking': 1, 'positive': 1, 'angry': 1, 'gamers': 1, 'astonishingan': 1, 'advised': 1, 'outpaced': 1, 'surefire': 1, 'explained': 1, 'political': 1, 'movement': 1, 'technological': 1, 'gambling': 1, 'doubt': 1, 'dealing': 1, 'fuel': 1, 'addiction': 1, 'insider': 1, 'revil': 1, 'dismantled': 1, 'raids': 1, 'hunter': 1, 'begins': 1, 'freeofcharge': 1, 'cellular': 1, 'service': 1, 'sure': 1, 'expensive': 1, 'gamefi': 1, 'hot': 2, 'easier': 1, 'officially': 1, 'building': 2, 'founder': 1, 'merchandise': 3, 'anyone': 1, 'easily': 1, 'rig': 1, 'scaramucci': 1, 'sloppiness': 1, 'sharp': 1, 'barclayhedge': 1, 'jumps': 1, 'northwest': 1, 'arkansas': 1, 'turn': 1, 'hub': 1, 'win': 1, 'lose': 1, 'minutes': 1, 'revised': 1, 'reach': 1, 'level': 1, 'london': 1, 'transport': 1, 'accepted': 1, 'whiplashed': 1, 'hypothetical': 1, 'plow': 1, 'testing': 1, 'picks': 1, 'korean': 1, 'stole': 1, 'car': 1}\n"
     ]
    }
   ],
   "source": [
    "word_counts=Counter(btc_tokens)\n",
    "print(dict(word_counts))"
   ]
  },
  {
   "cell_type": "code",
   "execution_count": 361,
   "metadata": {},
   "outputs": [
    {
     "name": "stdout",
     "output_type": "stream",
     "text": [
      "{('took', 'days'): 1, ('days', 'netflix'): 1, ('netflix', 'order'): 1, ('order', 'docuseries'): 1, ('docuseries', 'bonnie'): 1, ('bonnie', 'clyde'): 2, ('clyde', 'crypto'): 1, ('crypto', 'world'): 2, ('world', 'bitcoin'): 1, ('bitcoin', 'paradise'): 3, ('paradise', 'briton'): 1, ('briton', 'creates'): 1, ('creates', 'crypto'): 1, ('crypto', 'utopia'): 1, ('utopia', 'south'): 1, ('south', 'pacific'): 1, ('pacific', 'cia'): 1, ('cia', 'secretly'): 1, ('secretly', 'run'): 1, ('run', 'bulk'): 1, ('bulk', 'collection'): 1, ('collection', 'program'): 1, ('program', 'youtube'): 1, ('youtube', 'exploring'): 1, ('exploring', 'web'): 1, ('web', 'onlyfans'): 1, ('onlyfans', 'debuts'): 1, ('debuts', 'nft'): 1, ('nft', 'profile'): 2, ('profile', 'pictures'): 2, ('pictures', 'weeks'): 1, ('weeks', 'business'): 3, ('business', 'crypto'): 3, ('crypto', 'roundup'): 3, ('roundup', 'obj'): 1, ('obj', 'hope'): 1, ('hope', 'come'): 1, ('come', 'rams'): 1, ('rams', 'drake'): 1, ('drake', 'uber'): 1, ('uber', 'ceo'): 1, ('ceo', 'says'): 1, ('says', 'app'): 1, ('app', 'absolutely'): 1, ('absolutely', 'accept'): 1, ('accept', 'crypto'): 1, ('crypto', 'payment'): 2, ('payment', 'future'): 1, ('future', 'galaxy'): 1, ('galaxy', 'ha'): 1, ('ha', 'builtin'): 1, ('builtin', 'cryptocurrency'): 1, ('cryptocurrency', 'wallet'): 2, ('wallet', 'bitcoin'): 1, ('bitcoin', 'v'): 1, ('v', 'sp'): 1, ('sp', 'better'): 1, ('better', 'first'): 1, ('first', 'investment'): 1, ('investment', 'crypto'): 1, ('crypto', 'suddenly'): 1, ('suddenly', 'braced'): 1, ('braced', 'huge'): 1, ('huge', 'trillion'): 1, ('trillion', 'earthquake'): 1, ('earthquake', 'extreme'): 1, ('extreme', 'volatility'): 1, ('volatility', 'hits'): 1, ('hits', 'price'): 1, ('price', 'bitcoin'): 2, ('bitcoin', 'ethereum'): 24, ('ethereum', 'bnb'): 3, ('bnb', 'solana'): 3, ('solana', 'cardano'): 3, ('cardano', 'xrp'): 4, ('xrp', 'ui'): 1, ('ui', 'business'): 1, ('business', 'alum'): 1, ('alum', 'donates'): 1, ('donates', 'bitcoin'): 1, ('bitcoin', 'fund'): 3, ('fund', 'blockchain'): 1, ('blockchain', 'education'): 1, ('education', 'champaignurbana'): 1, ('champaignurbana', 'newsgazette'): 1, ('newsgazette', 'crypto'): 1, ('crypto', 'recovering'): 1, ('recovering', 'time'): 1, ('time', 'invest'): 1, ('invest', 'bitcoin'): 1, ('bitcoin', 'hodler'): 1, ('hodler', 'accumulation'): 1, ('accumulation', 'increasing'): 1, ('increasing', 'nationstate'): 1, ('nationstate', 'bitcoin'): 1, ('bitcoin', 'strategies'): 1, ('strategies', 'envisioned'): 1, ('envisioned', 'peter'): 1, ('peter', 'thiel'): 1, ('thiel', 'searches'): 1, ('searches', 'realitybending'): 1, ('realitybending', 'secrets'): 1, ('secrets', 'solo'): 1, ('solo', 'mine'): 1, ('mine', 'bitcoin'): 2, ('bitcoin', 'using'): 2, ('using', 'blockstream'): 1, ('blockstream', 'satellite'): 1, ('satellite', 'fed'): 1, ('fed', 'monetary'): 1, ('monetary', 'policy'): 1, ('policy', 'geopolitics'): 1, ('geopolitics', 'sink'): 1, ('sink', 'bitcoin'): 1, ('bitcoin', 'btc'): 4, ('btc', 'bitcoin'): 1, ('bitcoin', 'annuities'): 1, ('annuities', 'revitalize'): 1, ('revitalize', 'poor'): 1, ('poor', 'value'): 1, ('value', 'many'): 1, ('many', 'lives'): 1, ('lives', 'cryptos'): 1, ('cryptos', 'notorious'): 1, ('notorious', 'couple'): 1, ('couple', 'chinese'): 1, ('chinese', 'bitcoin'): 1, ('bitcoin', 'miner'): 2, ('miner', 'exodus'): 1, ('exodus', 'face'): 1, ('face', 'hurdle'): 1, ('hurdle', 'equipment'): 1, ('equipment', 'remains'): 1, ('remains', 'stuck'): 1, ('stuck', 'shipment'): 1, ('shipment', 'delay'): 1, ('delay', 'tariff'): 1, ('tariff', 'legal'): 1, ('legal', 'quagmire'): 1, ('quagmire', 'valentines'): 1, ('valentines', 'day'): 2, ('day', 'approaching'): 1, ('approaching', 'fbi'): 1, ('fbi', 'warns'): 1, ('warns', 'issues'): 1, ('issues', 'scammer'): 1, ('scammer', 'alert'): 1, ('alert', 'netflix'): 1, ('netflix', 'already'): 1, ('already', 'making'): 1, ('making', 'docuseries'): 1, ('docuseries', 'alleged'): 1, ('alleged', 'billiondollar'): 1, ('billiondollar', 'bitcoin'): 2, ('bitcoin', 'launderers'): 1, ('launderers', 'wall'): 1, ('wall', 'st'): 1, ('st', 'week'): 1, ('week', 'ahead'): 1, ('ahead', 'crypto'): 1, ('crypto', 'investor'): 1, ('investor', 'face'): 1, ('face', 'uncertainty'): 1, ('uncertainty', 'rocky'): 1, ('rocky', 'start'): 1, ('start', 'reuters'): 1, ('reuters', 'intel'): 1, ('intel', 'launch'): 1, ('launch', 'blockchain'): 1, ('blockchain', 'chip'): 1, ('chip', 'tap'): 1, ('tap', 'crypto'): 1, ('crypto', 'boom'): 1, ('boom', 'reuters'): 1, ('reuters', 'twitter'): 2, ('twitter', 'aim'): 1, ('aim', 'edge'): 1, ('edge', 'big'): 1, ('big', 'techs'): 1, ('techs', 'crypto'): 1, ('crypto', 'contest'): 1, ('contest', 'opennode'): 1, ('opennode', 'investment'): 1, ('investment', 'beginners'): 1, ('beginners', 'guide'): 1, ('guide', 'learning'): 1, ('learning', 'trade'): 1, ('trade', 'bitcoin'): 1, ('bitcoin', 'us'): 2, ('us', 'dollar'): 3, ('dollar', 'net'): 2, ('net', 'long'): 2, ('long', 'bet'): 2, ('bet', 'skid'): 1, ('skid', 'lowest'): 1, ('lowest', 'since'): 2, ('since', 'midaugust'): 1, ('midaugust', 'cftc'): 1, ('cftc', 'reuters'): 2, ('reuters', 'reuters'): 1, ('reuters', 'top'): 1, ('top', 'ten'): 1, ('ten', 'weekend'): 1, ('weekend', 'read'): 1, ('read', 'inflation'): 1, ('inflation', 'fear'): 1, ('fear', 'opportunity'): 1, ('opportunity', 'investor'): 1, ('investor', 'dapper'): 1, ('dapper', 'labs'): 1, ('labs', 'minting'): 1, ('minting', 'nfts'): 1, ('nfts', 'flow'): 1, ('flow', 'take'): 1, ('take', 'le'): 1, ('le', 'energy'): 1, ('energy', 'google'): 2, ('google', 'search'): 1, ('search', 'dow'): 1, ('dow', 'fall'): 1, ('fall', 'point'): 1, ('point', 'russiaukraine'): 1, ('russiaukraine', 'tension'): 1, ('tension', 'rise'): 1, ('rise', 'robinhood'): 1, ('robinhood', 'planning'): 1, ('planning', 'go'): 1, ('go', 'crypto'): 1, ('crypto', 'first'): 1, ('first', 'global'): 1, ('global', 'expansion'): 1, ('expansion', 'meet'): 1, ('meet', 'guy'): 1, ('guy', 'went'): 1, ('went', 'viral'): 1, ('viral', 'explaining'): 1, ('explaining', 'nfts'): 1, ('nfts', 'poverty'): 1, ('poverty', 'trap'): 1, ('trap', 'techcrunch'): 1, ('techcrunch', 'roundup'): 1, ('roundup', 'investor'): 1, ('investor', 'warning'): 1, ('warning', 'sign'): 1, ('sign', 'chinas'): 1, ('chinas', 'av'): 1, ('av', 'frenzy'): 1, ('frenzy', 'insurtech'): 1, ('insurtech', 'trend'): 1, ('trend', 'course'): 1, ('course', 'netflix'): 1, ('netflix', 'ordered'): 1, ('ordered', 'movie'): 1, ('movie', 'big'): 1, ('big', 'crypto'): 1, ('crypto', 'scandal'): 1, ('scandal', 'rapper'): 1, ('rapper', 'drake'): 1, ('drake', 'turns'): 1, ('turns', 'bitcoin'): 1, ('bitcoin', 'milliondollar'): 1, ('milliondollar', 'bet'): 1, ('bet', 'jpmorgan'): 1, ('jpmorgan', 'reveals'): 1, ('reveals', 'bitcoins'): 1, ('bitcoins', 'biggest'): 1, ('biggest', 'challengealong'): 1, ('challengealong', 'surprise'): 1, ('surprise', 'bitcoin'): 2, ('bitcoin', 'price'): 6, ('price', 'fair'): 1, ('fair', 'value'): 1, ('value', 'profile'): 1, ('profile', 'couple'): 1, ('couple', 'accused'): 1, ('accused', 'conspiring'): 1, ('conspiring', 'launder'): 3, ('launder', 'around'): 1, ('around', 'b'): 1, ('b', 'stolen'): 1, ('stolen', 'bitcoin'): 6, ('bitcoin', 'pieced'): 1, ('pieced', 'together'): 1, ('together', 'source'): 1, ('source', 'filing'): 1, ('filing', 'voluminous'): 1, ('voluminous', 'online'): 1, ('online', 'record'): 1, ('record', 'tim'): 1, ('tim', 'marchmanvice'): 1, ('marchmanvice', 'intel'): 1, ('intel', 'ship'): 1, ('ship', 'bonanza'): 1, ('bonanza', 'mine'): 1, ('mine', 'chip'): 1, ('chip', 'year'): 1, ('year', 'enters'): 1, ('enters', 'bitcoin'): 1, ('bitcoin', 'mining'): 12, ('mining', 'market'): 1, ('market', 'creates'): 1, ('creates', 'custom'): 1, ('custom', 'compute'): 1, ('compute', 'group'): 1, ('group', 'design'): 1, ('design', 'build'): 1, ('build', 'blockchain'): 1, ('blockchain', 'hardware'): 1, ('hardware', 'paul'): 1, ('paul', 'alcorntoms'): 1, ('alcorntoms', 'hardware'): 1, ('hardware', 'wild'): 1, ('wild', 'story'): 1, ('story', 'hipster'): 1, ('hipster', 'rapper'): 1, ('rapper', 'alleged'): 1, ('alleged', 'bitcoin'): 1, ('bitcoin', 'bandits'): 1, ('bandits', 'set'): 1, ('set', 'netflix'): 1, ('netflix', 'doc'): 1, ('doc', 'series'): 1, ('series', 'personal'): 1, ('personal', 'finance'): 2, ('finance', 'daily'): 2, ('daily', 'green'): 1, ('green', 'super'): 1, ('super', 'bowl'): 3, ('bowl', 'oceanfriendly'): 1, ('oceanfriendly', 'straw'): 1, ('straw', 'nikolas'): 1, ('nikolas', 'hydrogen'): 1, ('hydrogen', 'beer'): 1, ('beer', 'truck'): 1, ('truck', 'try'): 1, ('try', 'lower'): 1, ('lower', 'nfl'): 1, ('nfl', 'championship'): 1, ('championship', 'carbon'): 1, ('carbon', 'footprint'): 1, ('footprint', 'valentines'): 1, ('day', 'could'): 1, ('could', 'billion'): 1, ('billion', 'gift'): 1, ('gift', 'restaurant'): 1, ('restaurant', 'retailer'): 1, ('retailer', 'cities'): 1, ('cities', 'turning'): 1, ('turning', 'crypto'): 1, ('crypto', 'grassroots'): 1, ('grassroots', 'fundraising'): 1, ('fundraising', 'playing'): 1, ('playing', 'crypto'): 1, ('crypto', 'youll'): 1, ('youll', 'need'): 1, ('need', 'wallet'): 1, ('wallet', 'several'): 1, ('several', 'privacy'): 1, ('privacy', 'coin'): 1, ('coin', 'cryptocurrencies'): 1, ('cryptocurrencies', 'traded'): 1, ('traded', 'anonymously'): 1, ('anonymously', 'inside'): 1, ('inside', 'chess'): 1, ('chess', 'match'): 1, ('match', 'led'): 1, ('led', 'feds'): 1, ('feds', 'billion'): 1, ('billion', 'stolen'): 4, ('bitcoin', 'someone'): 1, ('someone', 'bought'): 1, ('bought', 'nfts'): 1, ('nfts', 'accused'): 1, ('accused', 'bitcoin'): 1, ('bitcoin', 'launderer'): 1, ('launderer', 'theyre'): 1, ('theyre', 'pissed'): 1, ('pissed', 'dont'): 1, ('dont', 'bother'): 1, ('bother', 'investing'): 1, ('investing', 'crypto'): 1, ('crypto', 'youre'): 1, ('youre', 'ignoring'): 1, ('ignoring', 'k'): 1, ('k', 'match'): 1, ('match', 'say'): 1, ('say', 'yearold'): 1, ('yearold', 'millionaire'): 1, ('millionaire', 'used'): 1, ('used', 'work'): 1, ('work', 'wall'): 1, ('wall', 'street'): 4, ('street', 'cryptos'): 1, ('cryptos', 'bonnie'): 1, ('clyde', 'love'): 1, ('love', 'story'): 1, ('story', 'told'): 1, ('told', 'social'): 1, ('social', 'medium'): 2, ('medium', 'crypto'): 1, ('crypto', 'exchange'): 3, ('exchange', 'binance'): 1, ('binance', 'make'): 1, ('make', 'investment'): 1, ('investment', 'forbes'): 1, ('forbes', 'crypto'): 1, ('crypto', 'bitcoin'): 7, ('bitcoin', 'slump'): 2, ('slump', 'news'): 1, ('news', 'us'): 1, ('us', 'inflation'): 3, ('inflation', 'rose'): 1, ('rose', 'january'): 1, ('january', 'better'): 1, ('better', 'risk'): 1, ('risk', 'sentiment'): 1, ('sentiment', 'help'): 1, ('help', 'antipodeans'): 1, ('antipodeans', 'trader'): 1, ('trader', 'wait'): 1, ('wait', 'us'): 1, ('inflation', 'data'): 3, ('data', 'reuters'): 2, ('reuters', 'hampshire'): 1, ('hampshire', 'tinder'): 1, ('tinder', 'fraudster'): 1, ('fraudster', 'jailed'): 1, ('jailed', 'conning'): 1, ('conning', 'woman'): 1, ('woman', 'wwf'): 1, ('wwf', 'debacle'): 1, ('debacle', 'make'): 1, ('make', 'clear'): 1, ('clear', 'ecofriendly'): 1, ('ecofriendly', 'nfts'): 1, ('nfts', 'dont'): 1, ('dont', 'really'): 1, ('really', 'exist'): 1, ('exist', 'bitcoin'): 1, ('bitcoin', 'payment'): 2, ('payment', 'processor'): 1, ('processor', 'opennode'): 1, ('opennode', 'raise'): 1, ('raise', 'series'): 1, ('series', 'led'): 1, ('led', 'kingsway'): 1, ('kingsway', 'valuation'): 1, ('valuation', 'twitter'): 1, ('twitter', 'tim'): 1, ('tim', 'draper'): 1, ('draper', 'avon'): 1, ('avon', 'ventures'): 1, ('ventures', 'also'): 1, ('also', 'invested'): 1, ('invested', 'marc'): 1, ('marc', 'wojnozdnet'): 1, ('wojnozdnet', 'parody'): 1, ('parody', 'rapper'): 1, ('rapper', 'arrested'): 1, ('arrested', 'lesser'): 1, ('lesser', 'crime'): 1, ('crime', 'allegedly'): 1, ('allegedly', 'colaundering'): 1, ('colaundering', 'billion'): 1, ('billion', 'bitcoin'): 3, ('bitcoin', 'hacker'): 1, ('hacker', 'hunting'): 1, ('hunting', 'lost'): 1, ('lost', 'bitcoin'): 2, ('bitcoin', 'billion'): 1, ('billion', 'ontario'): 1, ('ontario', 'court'): 2, ('court', 'freeze'): 2, ('freeze', 'access'): 2, ('access', 'givesendgo'): 1, ('givesendgo', 'donation'): 1, ('donation', 'trucker'): 2, ('trucker', 'protest'): 2, ('protest', 'globe'): 1, ('globe', 'mail'): 2, ('mail', 'ontario'): 1, ('access', 'donation'): 1, ('protest', 'givesendgo'): 1, ('givesendgo', 'cp'): 1, ('cp', 'torontos'): 1, ('torontos', 'breaking'): 1, ('breaking', 'news'): 1, ('news', 'inflation'): 1, ('inflation', 'disney'): 1, ('disney', 'bitcoin'): 1, ('bitcoin', 'k'): 1, ('k', 'quicktake'): 1, ('quicktake', 'stock'): 1, ('stock', 'cryptocurrency'): 1, ('cryptocurrency', 'attracting'): 1, ('attracting', 'black'): 1, ('black', 'latino'): 1, ('latino', 'investor'): 1, ('investor', 'fan'): 1, ('fan', 'business'): 1, ('business', 'week'): 1, ('week', 'get'): 1, ('get', 'bn'): 1, ('bn', 'bitcoin'): 3, ('us', 'seized'): 1, ('seized', 'bitfinex'): 1, ('bitfinex', 'hack'): 4, ('hack', 'crypto'): 1, ('crypto', 'bubble'): 1, ('bubble', 'going'): 1, ('going', 'burst'): 1, ('burst', 'ilya'): 1, ('ilya', 'lichtenstein'): 2, ('lichtenstein', 'heather'): 1, ('heather', 'morgan'): 2, ('morgan', 'charged'): 1, ('charged', 'bitcoin'): 1, ('bitcoin', 'case'): 1, ('case', 'doj'): 1, ('doj', 'tout'): 1, ('tout', 'seizure'): 1, ('seizure', 'billion'): 1, ('bitcoin', 'reuters'): 1, ('reuters', 'breakingviews'): 1, ('breakingviews', 'spending'): 1, ('spending', 'bitcoin'): 1, ('bitcoin', 'harder'): 1, ('harder', 'stealing'): 1, ('stealing', 'reuters'): 1, ('reuters', 'bitcoin'): 7, ('bitcoin', 'billionaire'): 1, ('billionaire', 'mike'): 1, ('mike', 'novogratz'): 1, ('novogratz', 'say'): 1, ('say', 'billion'): 1, ('billion', 'bitfinex'): 1, ('hack', 'recovery'): 1, ('recovery', 'bullish'): 1, ('bullish', 'crypto'): 1, ('crypto', 'show'): 1, ('show', 'strength'): 1, ('strength', 'blockchain'): 1, ('blockchain', 'moneywatch'): 1, ('moneywatch', 'super'): 1, ('bowl', 'sport'): 1, ('sport', 'betting'): 1, ('betting', 'stolen'): 1, ('bitcoin', 'seized'): 1, ('seized', 'earned'): 1, ('earned', 'income'): 1, ('income', 'tax'): 1, ('tax', 'credit'): 1, ('credit', 'dojs'): 1, ('dojs', 'b'): 1, ('b', 'seizure'): 1, ('seizure', 'shows'): 1, ('shows', 'hard'): 1, ('hard', 'launder'): 1, ('launder', 'crypto'): 2, ('crypto', 'nft'): 1, ('nft', 'accounts'): 1, ('accounts', 'couple'): 1, ('couple', 'allegedly'): 2, ('allegedly', 'tried'): 1, ('tried', 'launder'): 1, ('launder', 'billion'): 1, ('stolen', 'crypto'): 1, ('crypto', 'disappeared'): 1, ('disappeared', 'gofundme'): 1, ('gofundme', 'proved'): 1, ('proved', 'bitcoins'): 1, ('bitcoins', 'use'): 1, ('use', 'case'): 1, ('case', 'global'): 1, ('global', 'regulator'): 1, ('regulator', 'going'): 1, ('going', 'full'): 1, ('full', 'steam'): 1, ('steam', 'tame'): 1, ('tame', 'crypto'): 1, ('crypto', 'currency'): 1, ('currency', 'reuters'): 1, ('reuters', 'tesla'): 1, ('tesla', 'owns'): 1, ('owns', 'billion'): 1, ('billion', 'usd'): 3, ('usd', 'bitcoin'): 2, ('bitcoin', 'digital'): 1, ('digital', 'broker'): 1, ('broker', 'expand'): 1, ('expand', 'offering'): 1, ('offering', 'revive'): 1, ('revive', 'retail'): 1, ('retail', 'investor'): 1, ('investor', 'buzz'): 1, ('buzz', 'uk'): 1, ('uk', 'us'): 2, ('us', 'australia'): 1, ('australia', 'issue'): 1, ('issue', 'joint'): 1, ('joint', 'advisory'): 1, ('advisory', 'ransomwareasaservice'): 1, ('ransomwareasaservice', 'loose'): 1, ('loose', 'critical'): 1, ('critical', 'national'): 1, ('national', 'infrastructure'): 1, ('infrastructure', 'affected'): 1, ('affected', 'personal'): 1, ('daily', 'workers'): 1, ('workers', 'burned'): 1, ('burned', 'want'): 1, ('want', 'flexibility'): 1, ('flexibility', 'remote'): 1, ('remote', 'work'): 1, ('work', 'may'): 1, ('may', 'cure'): 1, ('cure', 'survey'): 1, ('survey', 'say'): 1, ('say', 'way'): 1, ('way', 'cybercriminals'): 1, ('cybercriminals', 'use'): 1, ('use', 'employee'): 1, ('employee', 'attack'): 1, ('attack', 'office'): 1, ('office', 'equipment'): 1, ('equipment', 'malware'): 1, ('malware', 'meet'): 1, ('meet', 'heather'): 1, ('morgan', 'ilya'): 1, ('lichtenstein', 'couple'): 1, ('couple', 'arrested'): 2, ('arrested', 'laundering'): 1, ('laundering', 'billion'): 1, ('billion', 'crypto'): 3, ('crypto', 'department'): 1, ('department', 'justice'): 1, ('justice', 'recovers'): 1, ('recovers', 'billion'): 1, ('bitcoin', 'stolen'): 1, ('stolen', 'bitfinex'): 1, ('hack', 'kpmg'): 1, ('kpmg', 'canada'): 2, ('canada', 'adds'): 1, ('adds', 'bitcoin'): 1, ('ethereum', 'corporate'): 1, ('corporate', 'balance'): 3, ('balance', 'sheet'): 4, ('sheet', 'us'): 1, ('us', 'seizes'): 1, ('seizes', 'billion'): 3, ('bitcoin', 'solving'): 1, ('solving', 'bitcoin'): 1, ('bitcoin', 'scam'): 1, ('scam', 'helps'): 1, ('helps', 'institutionalize'): 1, ('institutionalize', 'crypto'): 1, ('crypto', 'us'): 1, ('us', 'judge'): 1, ('judge', 'halt'): 1, ('halt', 'bail'): 1, ('bail', 'crypto'): 1, ('crypto', 'couple'): 1, ('couple', 'bn'): 1, ('bitcoin', 'hack'): 1, ('hack', 'justice'): 1, ('justice', 'dept'): 1, ('dept', 'seizes'): 1, ('bitcoin', 'arrests'): 1, ('arrests', 'married'): 1, ('married', 'couple'): 2, ('couple', 'cryptoverseafter'): 1, ('cryptoverseafter', 'bitcoin'): 1, ('bitcoin', 'winter'): 1, ('winter', 'investor'): 1, ('investor', 'hunt'): 1, ('hunt', 'risk'): 1, ('risk', 'virtual'): 1, ('virtual', 'world'): 1, ('world', 'reuters'): 1, ('reuters', 'crypto'): 6, ('crypto', 'donation'): 1, ('donation', 'soar'): 1, ('soar', 'group'): 1, ('group', 'backing'): 1, ('backing', 'ukraines'): 1, ('ukraines', 'government'): 1, ('government', 'report'): 1, ('report', 'reuters'): 1, ('reuters', 'doj'): 1, ('doj', 'arrest'): 1, ('arrest', 'new'): 1, ('new', 'york'): 5, ('york', 'couple'): 1, ('couple', 'seizes'): 1, ('bitcoin', 'related'): 1, ('related', 'hack'): 1, ('hack', 'selfproclaimed'): 1, ('selfproclaimed', 'crocodile'): 1, ('crocodile', 'wall'): 1, ('street', 'snagged'): 1, ('snagged', 'big'): 1, ('big', 'bitcoin'): 1, ('bitcoin', 'bust'): 1, ('bust', 'reuters'): 1, ('reuters', 'us'): 4, ('us', 'married'): 1, ('arrested', 'allegedly'): 1, ('allegedly', 'conspiring'): 1, ('launder', 'bn'): 1, ('bitcoin', 'hash'): 1, ('hash', 'rate'): 1, ('rate', 'measure'): 1, ('measure', 'computing'): 1, ('computing', 'power'): 1, ('power', 'cryptocurrency'): 1, ('cryptocurrency', 'network'): 1, ('network', 'key'): 1, ('key', 'security'): 1, ('security', 'indicator'): 1, ('indicator', 'us'): 1, ('us', 'arrest'): 1, ('arrest', 'couple'): 2, ('allegedly', 'laundering'): 1, ('laundering', 'bln'): 1, ('bln', 'crypto'): 1, ('crypto', 'tied'): 1, ('tied', 'bitfinex'): 1, ('hack', 'reuters'): 2, ('reuters', 'euro'): 1, ('euro', 'bounce'): 1, ('bounce', 'pause'): 1, ('pause', 'ahead'): 1, ('ahead', 'us'): 1, ('inflation', 'reuters'): 1, ('reuters', 'canadas'): 2, ('canadas', 'tmx'): 1, ('tmx', 'group'): 1, ('group', 'plan'): 1, ('plan', 'cryptocurrency'): 1, ('cryptocurrency', 'future'): 1, ('future', 'product'): 1, ('product', 'institutional'): 1, ('institutional', 'investor'): 1, ('investor', 'reuters'): 1, ('reuters', 'yearold'): 1, ('yearold', 'ceo'): 1, ('ceo', 'pushing'): 1, ('pushing', 'crypto'): 1, ('crypto', 'super'): 1, ('bowl', 'giving'): 1, ('giving', 'away'): 1, ('away', 'millions'): 1, ('millions', 'bitcoin'): 1, ('bitcoin', 'cryptocurrency'): 3, ('cryptocurrency', 'trading'): 1, ('trading', 'boom'): 1, ('boom', 'creating'): 1, ('creating', 'new'): 1, ('new', 'generation'): 1, ('generation', 'addict'): 1, ('addict', 'new'): 1, ('new', 'etf'): 1, ('etf', 'iwin'): 1, ('iwin', 'fight'): 1, ('fight', 'inflation'): 1, ('inflation', 'hits'): 1, ('hits', 'market'): 1, ('market', 'recordhigh'): 1, ('recordhigh', 'seizure'): 1, ('seizure', 'bn'): 1, ('bn', 'stolen'): 1, ('bitcoin', 'feds'): 1, ('feds', 'arrest'): 1, ('couple', 'seize'): 1, ('seize', 'b'): 1, ('b', 'hacked'): 1, ('hacked', 'bitcoin'): 1, ('fund', 'doj'): 1, ('doj', 'announces'): 1, ('announces', 'arrest'): 1, ('arrest', 'alleged'): 1, ('alleged', 'billion'): 1, ('billion', 'cryptocurrency'): 1, ('cryptocurrency', 'laundering'): 1, ('laundering', 'scheme'): 1, ('scheme', 'financial'): 1, ('financial', 'crime'): 1, ('crime', 'new'): 1, ('york', 'hipster'): 1, ('hipster', 'duo'): 1, ('duo', 'charged'): 1, ('charged', 'mega'): 1, ('mega', 'bitcoin'): 1, ('bitcoin', 'heist'): 1, ('heist', 'serial'): 1, ('serial', 'entrepreneur'): 1, ('entrepreneur', 'used'): 1, ('used', 'startup'): 1, ('startup', 'launder'): 1, ('launder', 'money'): 1, ('money', 'prosecutor'): 1, ('prosecutor', 'say'): 1, ('say', 'defi'): 1, ('defi', 'help'): 1, ('help', 'women'): 1, ('women', 'take'): 1, ('take', 'back'): 1, ('back', 'control'): 1, ('control', 'finances'): 1, ('finances', 'close'): 1, ('close', 'wealth'): 1, ('wealth', 'gap'): 1, ('gap', 'ny'): 1, ('ny', 'couple'): 1, ('couple', 'charged'): 1, ('charged', 'conspiring'): 1, ('crypto', 'billion'): 1, ('billion', 'business'): 1, ('business', 'updates'): 1, ('updates', 'softbank'): 1, ('softbank', 'edges'): 1, ('edges', 'back'): 1, ('back', 'profitability'): 1, ('profitability', 'tech'): 1, ('tech', 'sector'): 1, ('sector', 'suffers'): 1, ('suffers', 'banks'): 1, ('banks', 'froze'): 1, ('froze', 'accounts'): 1, ('accounts', 'adult'): 1, ('adult', 'entertainers'): 1, ('entertainers', 'turned'): 1, ('turned', 'cryptocurrencies'): 1, ('cryptocurrencies', 'us'): 1, ('us', 'stock'): 8, ('stock', 'future'): 3, ('future', 'dip'): 1, ('dip', 'investor'): 1, ('investor', 'look'): 1, ('look', 'toward'): 1, ('toward', 'key'): 1, ('key', 'inflation'): 1, ('data', 'bitcoin'): 1, ('bitcoin', 'jump'): 2, ('jump', 'ted'): 1, ('ted', 'cruz'): 1, ('cruz', 'bitcoin'): 1, ('bitcoin', 'booster'): 1, ('booster', 'bought'): 1, ('bought', 'bunch'): 1, ('bunch', 'bitcoin'): 1, ('bitcoin', 'sec'): 1, ('sec', 'subpoenaed'): 1, ('subpoenaed', 'tesla'): 1, ('tesla', 'november'): 1, ('november', 'elon'): 1, ('elon', 'musk'): 5, ('musk', 'tweet'): 1, ('tweet', 'filing'): 1, ('filing', 'reveals'): 1, ('reveals', 'play'): 1, ('play', 'wordle'): 1, ('wordle', 'game'): 1, ('game', 'boy'): 1, ('boy', 'analogue'): 1, ('analogue', 'pocket'): 1, ('pocket', 'us'): 1, ('stock', 'close'): 1, ('close', 'mostly'): 1, ('mostly', 'lower'): 1, ('lower', 'investor'): 1, ('investor', 'weigh'): 1, ('weigh', 'inflation'): 1, ('inflation', 'concern'): 1, ('concern', 'earnings'): 1, ('earnings', 'strength'): 1, ('strength', 'shiba'): 1, ('shiba', 'inu'): 2, ('inu', 'rally'): 1, ('rally', 'new'): 1, ('new', 'high'): 1, ('high', 'meme'): 1, ('meme', 'coin'): 2, ('coin', 'soar'): 1, ('soar', 'grain'): 1, ('grain', 'digital'): 1, ('digital', 'platform'): 1, ('platform', 'covantis'): 1, ('covantis', 'add'): 1, ('add', 'north'): 1, ('north', 'america'): 1, ('america', 'crop'): 1, ('crop', 'reuters'): 1, ('crypto', 'firm'): 1, ('firm', 'launch'): 1, ('launch', 'coalition'): 2, ('coalition', 'promote'): 2, ('promote', 'market'): 2, ('market', 'integrity'): 2, ('integrity', 'reuters'): 1, ('reuters', 'cant'): 1, ('cant', 'bitcoin'): 1, ('bitcoin', 'staked'): 1, ('staked', 'bitcoin'): 1, ('bitcoin', 'switch'): 1, ('switch', 'pos'): 1, ('pos', 'peloton'): 1, ('peloton', 'spirit'): 1, ('spirit', 'airlines'): 1, ('airlines', 'tyson'): 1, ('tyson', 'foods'): 1, ('foods', 'reuters'): 1, ('reuters', 'need'): 1, ('need', 'know'): 5, ('know', 'crypto'): 1, ('crypto', 'like'): 1, ('like', 'hydrogen'): 1, ('hydrogen', 'jpmorgan'): 1, ('jpmorgan', 'strategist'): 1, ('strategist', 'say'): 1, ('say', 'valuation'): 1, ('valuation', 'ahead'): 1, ('ahead', 'reality'): 1, ('reality', 'crypto'): 1, ('crypto', 'crypto'): 1, ('crypto', 'volatile'): 1, ('volatile', 'kpmg'): 1, ('canada', 'added'): 1, ('added', 'bitcoin'): 1, ('bitcoin', 'ether'): 3, ('ether', 'balance'): 1, ('sheet', 'heres'): 1, ('heres', 'crypto'): 1, ('bitcoin', 'could'): 1, ('could', 'see'): 1, ('see', 'gain'): 1, ('gain', 'reaching'): 1, ('reaching', 'say'): 1, ('say', 'technical'): 1, ('technical', 'analyst'): 2, ('analyst', 'ensure'): 1, ('ensure', 'heirs'): 1, ('heirs', 'access'): 1, ('access', 'bitcoin'): 1, ('bitcoin', 'crypto'): 3, ('crypto', 'firms'): 1, ('firms', 'launch'): 1, ('integrity', 'ottawa'): 1, ('ottawa', 'protest'): 1, ('protest', 'rally'): 1, ('rally', 'vaccine'): 1, ('vaccine', 'mandate'): 1, ('mandate', 'begin'): 1, ('begin', 'whats'): 1, ('whats', 'next'): 1, ('next', 'crypto'): 1, ('crypto', 'spring'): 1, ('spring', 'bitcoin'): 1, ('bitcoin', 'hit'): 3, ('hit', 'gain'): 1, ('gain', 'five'): 1, ('five', 'straight'): 1, ('straight', 'day'): 1, ('day', 'bitcoinlinked'): 1, ('bitcoinlinked', 'stocks'): 1, ('stocks', 'rocketing'): 1, ('rocketing', 'higher'): 1, ('higher', 'today'): 1, ('today', 'americas'): 1, ('americas', 'bitcoin'): 1, ('bitcoin', 'miners'): 5, ('miners', 'georgia'): 1, ('georgia', 'minds'): 1, ('minds', 'frequently'): 1, ('frequently', 'asked'): 1, ('asked', 'questions'): 1, ('questions', 'nftsnonfungible'): 1, ('nftsnonfungible', 'tokens'): 1, ('tokens', 'buy'): 1, ('buy', 'bitcoin'): 5, ('bitcoin', 'coinbase'): 1, ('coinbase', 'let'): 1, ('let', 'receive'): 1, ('receive', 'tax'): 1, ('tax', 'refund'): 1, ('refund', 'cryptocurrency'): 1, ('cryptocurrency', 'addressing'): 1, ('addressing', 'bitcoin'): 1, ('bitcoin', 'energy'): 1, ('energy', 'fud'): 1, ('fud', 'showing'): 1, ('showing', 'mirror'): 1, ('mirror', 'bitcoin'): 1, ('bitcoin', 'becoming'): 1, ('becoming', 'another'): 1, ('another', 'tech'): 1, ('tech', 'stock'): 2, ('stock', 'forbes'): 1, ('forbes', 'corporate'): 1, ('corporate', 'argument'): 1, ('argument', 'bitcoin'): 1, ('bitcoin', 'best'): 1, ('best', 'stocks'): 1, ('stocks', 'crypto'): 1, ('crypto', 'etfs'): 1, ('etfs', 'watch'): 1, ('watch', 'disney'): 1, ('disney', 'twitter'): 1, ('twitter', 'bitcoin'): 1, ('bitcoin', 'bonds'): 2, ('bonds', 'focus'): 1, ('focus', 'tech'): 1, ('tech', 'week'): 1, ('week', 'el'): 1, ('el', 'salvador'): 20, ('salvador', 'reject'): 1, ('reject', 'imf'): 1, ('imf', 'call'): 2, ('call', 'drop'): 2, ('drop', 'bitcoin'): 4, ('bitcoin', 'use'): 3, ('use', 'euronews'): 1, ('euronews', 'bitcoin'): 1, ('btc', 'consolidates'): 1, ('consolidates', 'fridays'): 1, ('fridays', 'breakout'): 1, ('breakout', 'hold'): 1, ('hold', 'investing'): 1, ('investing', 'cryptocurrencies'): 1, ('cryptocurrencies', 'blockchain'): 1, ('blockchain', 'safe'): 1, ('safe', 'bet'): 1, ('bet', 'florida'): 1, ('florida', 'go'): 1, ('go', 'ahead'): 1, ('ahead', 'receive'): 1, ('receive', 'state'): 1, ('state', 'fees'): 1, ('fees', 'crypto'): 1, ('bitcoin', 'accounting'): 1, ('accounting', 'rule'): 1, ('rule', 'make'): 1, ('make', 'better'): 1, ('better', 'invest'): 1, ('invest', 'stack'): 1, ('stack', 'comic'): 1, ('comic', 'book'): 1, ('book', 'web'): 1, ('web', 'doesnt'): 1, ('doesnt', 'care'): 1, ('care', 'privacy'): 1, ('privacy', 'bitcoin'): 1, ('bitcoin', 'notification'): 1, ('notification', 'system'): 1, ('system', 'guidelines'): 1, ('guidelines', 'trading'): 1, ('trading', 'cryptocurrency'): 1, ('cryptocurrency', 'blockchain'): 1, ('blockchain', 'bitcoin'): 2, ('bitcoin', 'rejected'): 1, ('rejected', 'attacking'): 1, ('attacking', 'k'): 1, ('k', 'trader'): 1, ('trader', 'say'): 1, ('say', 'btc'): 1, ('btc', 'price'): 1, ('price', 'impulse'): 1, ('impulse', 'move'): 1, ('move', 'done'): 1, ('done', 'yet'): 1, ('yet', 'lost'): 1, ('bitcoin', 'may'): 1, ('may', 'donation'): 1, ('donation', 'hindering'): 1, ('hindering', 'adoption'): 1, ('adoption', 'best'): 1, ('best', 'yet'): 1, ('yet', 'come'): 1, ('come', 'coinbase'): 1, ('coinbase', 'dave'): 1, ('dave', 'portnoy'): 1, ('portnoy', 'bitcoiner'): 1, ('bitcoiner', 'thinks'): 1, ('thinks', 'youre'): 1, ('youre', 'idiot'): 1, ('idiot', 'dont'): 1, ('dont', 'hold'): 1, ('hold', 'crypto'): 1, ('crypto', 'power'): 1, ('power', 'future'): 1, ('future', 'work'): 1, ('work', 'people'): 1, ('people', 'color'): 1, ('color', 'bitcoin'): 1, ('bitcoin', 'technically'): 1, ('technically', 'religion'): 1, ('religion', 'scholar'): 1, ('scholar', 'investigates'): 1, ('investigates', 'linus'): 1, ('linus', 'torvalds'): 1, ('torvalds', 'bitcoin'): 1, ('bitcoin', 'creator'): 1, ('creator', 'satoshi'): 1, ('satoshi', 'nakamoto'): 1, ('nakamoto', 'bitcoins'): 1, ('bitcoins', 'fungibility'): 1, ('fungibility', 'graveyard'): 1, ('graveyard', 'best'): 1, ('best', 'cryptocurrency'): 1, ('cryptocurrency', 'payment'): 1, ('payment', 'gateways'): 1, ('gateways', 'billionaire'): 1, ('billionaire', 'michael'): 1, ('michael', 'saylor'): 1, ('saylor', 'winklevoss'): 1, ('winklevoss', 'bros'): 1, ('bros', 'celebrate'): 1, ('celebrate', 'bitcoin'): 1, ('bitcoin', 'rebound'): 1, ('rebound', 'thestreet'): 1, ('thestreet', 'growing'): 1, ('growing', 'russian'): 1, ('russian', 'ransomware'): 1, ('ransomware', 'threat'): 1, ('threat', 'costing'): 1, ('costing', 'company'): 1, ('company', 'dear'): 1, ('dear', 'heres'): 1, ('heres', 'cathie'): 1, ('cathie', 'wood'): 2, ('wood', 'bullish'): 1, ('bullish', 'bitcoin'): 1, ('bitcoin', 'im'): 1, ('im', 'advocate'): 1, ('advocate', 'inclusive'): 1, ('inclusive', 'capitalism'): 1, ('capitalism', 'heres'): 1, ('heres', 'im'): 1, ('im', 'intrigued'): 1, ('intrigued', 'web'): 1, ('web', 'bitcoin'): 1, ('ethereum', 'polkadot'): 1, ('polkadot', 'solana'): 1, ('solana', 'jumped'): 1, ('jumped', 'weekend'): 1, ('weekend', 'bitcoin'): 1, ('bitcoin', 'climbs'): 1, ('climbs', 'biggest'): 1, ('biggest', 'rally'): 1, ('rally', 'months'): 1, ('months', 'bitcoin'): 1, ('bitcoin', 'powered'): 1, ('powered', 'ubi'): 1, ('ubi', 'heres'): 1, ('heres', 'jack'): 1, ('jack', 'dorsey'): 4, ('dorsey', 'plan'): 1, ('plan', 'solveincome'): 1, ('solveincome', 'inequality'): 1, ('inequality', 'quantum'): 1, ('quantum', 'computer'): 2, ('computer', 'may'): 1, ('may', 'able'): 1, ('able', 'break'): 1, ('break', 'bitcoin'): 1, ('bitcoin', 'sooner'): 1, ('sooner', 'think'): 1, ('think', 'trio'): 1, ('trio', 'tier'): 1, ('tier', 'cryptos'): 1, ('cryptos', 'every'): 1, ('every', 'newbie'): 1, ('newbie', 'congress'): 1, ('congress', 'introduces'): 1, ('introduces', 'radical'): 1, ('radical', 'crypto'): 1, ('crypto', 'bill'): 1, ('bill', 'unleash'): 1, ('unleash', 'innovation'): 1, ('innovation', 'price'): 1, ('ethereum', 'suddenly'): 1, ('suddenly', 'soar'): 1, ('soar', 'cryptocurrencies'): 1, ('cryptocurrencies', 'avoid'): 1, ('avoid', 'matter'): 1, ('matter', 'bitcoin'): 1, ('hit', 'twoweek'): 1, ('twoweek', 'high'): 2, ('high', 'solana'): 1, ('solana', 'ethereum'): 1, ('ethereum', 'dogecoin'): 6, ('dogecoin', 'jump'): 1, ('jump', 'boston'): 1, ('boston', 'fed'): 2, ('fed', 'mit'): 1, ('mit', 'release'): 1, ('release', 'first'): 1, ('first', 'result'): 1, ('result', 'cbdc'): 1, ('cbdc', 'research'): 1, ('research', 'cryptoslate'): 1, ('cryptoslate', 'bitcoin'): 1, ('bitcoin', 'begin'): 1, ('begin', 'climb'): 1, ('climb', 'bitcoin'): 1, ('bitcoin', 'downslope'): 1, ('downslope', 'network'): 1, ('network', 'effects'): 1, ('effects', 'growing'): 1, ('growing', 'bitcoin'): 1, ('bitcoin', 'development'): 1, ('development', 'ecosystem'): 1, ('ecosystem', 'africa'): 1, ('africa', 'bitcoin'): 1, ('bitcoin', 'surge'): 1, ('surge', 'reuters'): 1, ('reuters', 'texas'): 1, ('texas', 'bitcoin'): 1, ('miners', 'shutting'): 1, ('shutting', 'help'): 1, ('help', 'power'): 1, ('power', 'grid'): 1, ('grid', 'survive'): 1, ('survive', 'winter'): 1, ('winter', 'storm'): 1, ('storm', 'crypto'): 1, ('crypto', 'trading'): 2, ('trading', 'platform'): 1, ('platform', 'says'): 1, ('says', 'owning'): 1, ('owning', 'crypto'): 1, ('crypto', 'totally'): 1, ('totally', 'get'): 1, ('get', 'laid'): 1, ('laid', 'conversation'): 1, ('conversation', 'people'): 1, ('people', 'call'): 1, ('call', 'bitcoin'): 1, ('bitcoin', 'religion'): 1, ('religion', 'crypto'): 1, ('bitcoin', 'rallying'): 1, ('rallying', 'friday'): 1, ('friday', 'crypto'): 1, ('crypto', 'clamber'): 1, ('clamber', 'perch'): 1, ('perch', 'following'): 1, ('following', 'job'): 1, ('job', 'report'): 1, ('report', 'bitcoin'): 3, ('bitcoin', 'posts'): 1, ('posts', 'biggest'): 1, ('biggest', 'jump'): 1, ('jump', 'since'): 1, ('since', 'october'): 1, ('october', 'proof'): 1, ('proof', 'stake'): 1, ('stake', 'pos'): 1, ('pos', 'heres'): 1, ('heres', 'need'): 1, ('know', 'bitcoin'): 1, ('mining', 'stocks'): 1, ('stocks', 'soared'): 1, ('soared', 'friday'): 1, ('friday', 'bitcoin'): 1, ('bitcoin', 'buy'): 1, ('buy', 'taproot'): 1, ('taproot', 'upgrade'): 1, ('upgrade', 'people'): 1, ('people', 'really'): 1, ('really', 'really'): 2, ('really', 'hate'): 1, ('hate', 'future'): 1, ('future', 'internet'): 1, ('internet', 'bitcoin'): 1, ('ethereum', 'solana'): 3, ('solana', 'absolutely'): 1, ('absolutely', 'skyrocketed'): 1, ('skyrocketed', 'today'): 1, ('today', 'bitcoin'): 6, ('bitcoin', 'loyalty'): 1, ('loyalty', 'programs'): 1, ('programs', 'trend'): 1, ('trend', 'future'): 1, ('future', 'attack'): 1, ('attack', 'market'): 1, ('market', 'wrap'): 1, ('wrap', 'bitcoin'): 1, ('bitcoin', 'rallies'): 1, ('rallies', 'altcoins'): 1, ('altcoins', 'take'): 1, ('take', 'lead'): 1, ('lead', 'coindesk'): 1, ('coindesk', 'bitcoin'): 2, ('jump', 'climb'): 1, ('climb', 'past'): 1, ('past', 'first'): 1, ('first', 'time'): 2, ('time', 'week'): 1, ('week', 'expect'): 1, ('expect', 'indictment'): 1, ('indictment', 'nft'): 1, ('nft', 'space'): 1, ('space', 'soon'): 1, ('soon', 'reuters'): 1, ('reuters', 'financial'): 1, ('financial', 'technology'): 1, ('technology', 'companies'): 1, ('companies', 'changing'): 1, ('changing', 'handle'): 1, ('handle', 'assets'): 1, ('assets', 'coinbase'): 1, ('coinbase', 'give'): 1, ('give', 'tax'): 1, ('tax', 'refunds'): 1, ('refunds', 'cryptocurrency'): 1, ('cryptocurrency', 'interest'): 1, ('interest', 'digital'): 1, ('digital', 'currencies'): 1, ('currencies', 'grows'): 1, ('grows', 'even'): 1, ('even', 'governments'): 1, ('governments', 'remain'): 1, ('remain', 'wary'): 1, ('wary', 'buy'): 1, ('cryptocurrency', 'dubai'): 1, ('dubai', 'leading'): 1, ('leading', 'exchange'): 1, ('exchange', 'investorfocused'): 1, ('investorfocused', 'social'): 1, ('medium', 'firm'): 1, ('firm', 'stocktwits'): 1, ('stocktwits', 'roll'): 1, ('roll', 'crypto'): 1, ('trading', 'reuters'): 2, ('reuters', 'biggest'): 1, ('biggest', 'bitcoin'): 1, ('miner', 'texas'): 1, ('texas', 'shutting'): 1, ('shutting', 'ahead'): 1, ('ahead', 'blast'): 1, ('blast', 'winter'): 1, ('winter', 'weather'): 1, ('weather', 'state'): 1, ('state', 'crypto'): 1, ('crypto', 'network'): 1, ('network', 'wormhole'): 1, ('wormhole', 'hit'): 1, ('hit', 'possible'): 1, ('possible', 'mln'): 1, ('mln', 'hack'): 1, ('reuters', 'ransomware'): 1, ('ransomware', 'wants'): 1, ('wants', 'like'): 1, ('like', 'subscribe'): 1, ('subscribe', 'else'): 1, ('else', 'metaverse'): 1, ('metaverse', 'stock'): 1, ('stock', 'nvidia'): 1, ('nvidia', 'roblox'): 1, ('roblox', 'fall'): 1, ('fall', 'facebook'): 1, ('facebook', 'parent'): 2, ('parent', 'metas'): 1, ('metas', 'web'): 1, ('web', 'business'): 1, ('business', 'report'): 2, ('report', 'massive'): 1, ('massive', 'loss'): 1, ('loss', 'analysis'): 1, ('analysis', 'us'): 1, ('us', 'ipo'): 1, ('ipo', 'slowdown'): 2, ('slowdown', 'slam'): 2, ('slam', 'door'): 2, ('door', 'tech'): 2, ('tech', 'unicorn'): 2, ('unicorn', 'looking'): 2, ('looking', 'cash'): 2, ('cash', 'reuters'): 1, ('reuters', 'analysisus'): 1, ('analysisus', 'ipo'): 1, ('cash', 'reuterscom'): 1, ('reuterscom', 'web'): 1, ('web', 'going'): 1, ('going', 'change'): 1, ('change', 'world'): 1, ('world', 'el'): 1, ('salvador', 'revamps'): 1, ('revamps', 'bitcoin'): 1, ('bitcoin', 'wallet'): 1, ('wallet', 'complaint'): 1, ('complaint', 'theft'): 1, ('theft', 'fraud'): 1, ('fraud', 'ahead'): 1, ('ahead', 'expected'): 1, ('expected', 'icy'): 1, ('icy', 'weather'): 1, ('weather', 'riot'): 1, ('riot', 'blockchain'): 3, ('blockchain', 'largest'): 1, ('largest', 'bitcoin'): 1, ('mining', 'company'): 1, ('company', 'texas'): 1, ('texas', 'reduces'): 1, ('reduces', 'power'): 1, ('power', 'consumption'): 1, ('consumption', 'whinstone'): 1, ('whinstone', 'facility'): 1, ('facility', 'michael'): 1, ('michael', 'smithbloomberg'): 1, ('smithbloomberg', 'move'): 1, ('move', 'toward'): 1, ('toward', 'digital'): 1, ('digital', 'dollar'): 2, ('dollar', 'gain'): 1, ('gain', 'steam'): 1, ('steam', 'boston'): 1, ('fed', 'say'): 1, ('say', 'prototype'): 1, ('prototype', 'handle'): 1, ('handle', 'million'): 1, ('million', 'transaction'): 1, ('transaction', 'per'): 1, ('per', 'second'): 1, ('second', 'meld'): 1, ('meld', 'launch'): 1, ('launch', 'decentralized'): 1, ('decentralized', 'lending'): 1, ('lending', 'cardano'): 1, ('cardano', 'unbanked'): 1, ('unbanked', 'bitcoin'): 1, ('using', 'lot'): 1, ('lot', 'energy'): 1, ('energy', 'actually'): 1, ('actually', 'good'): 1, ('good', 'thing'): 1, ('thing', 'could'): 1, ('could', 'bitcoin'): 1, ('hit', 'trillion'): 2, ('trillion', 'jack'): 1, ('jack', 'dorseys'): 3, ('dorseys', 'opinion'): 1, ('opinion', 'bitcoin'): 1, ('bitcoin', 'scares'): 1, ('scares', 'bitcoin'): 1, ('bitcoin', 'veteran'): 1, ('veteran', 'raises'): 1, ('raises', 'million'): 1, ('million', 'bring'): 1, ('bring', 'daos'): 1, ('daos', 'nfts'): 1, ('nfts', 'first'): 1, ('first', 'cryptocurrency'): 1, ('cryptocurrency', 'etf'): 1, ('etf', 'wrap'): 1, ('wrap', 'facebook'): 1, ('parent', 'stock'): 1, ('stock', 'plunge'): 1, ('plunge', 'spotlight'): 1, ('spotlight', 'peril'): 1, ('peril', 'etf'): 1, ('etf', 'investor'): 1, ('investor', 'big'): 1, ('big', 'singlestock'): 1, ('singlestock', 'exposure'): 1, ('exposure', 'problem'): 1, ('problem', 'nfts'): 1, ('nfts', 'crypto'): 1, ('crypto', 'expert'): 1, ('expert', 'responds'): 1, ('responds', 'viral'): 1, ('viral', 'takedown'): 1, ('takedown', 'bitcoin'): 1, ('bitcoin', 'doesnt'): 1, ('doesnt', 'offer'): 1, ('offer', 'staking'): 1, ('staking', 'still'): 1, ('still', 'buy'): 1, ('dogecoin', 'dropped'): 1, ('dropped', 'today'): 2, ('today', 'year'): 1, ('year', 'elon'): 1, ('elon', 'musks'): 1, ('musks', 'tesla'): 1, ('tesla', 'bought'): 1, ('bought', 'bitcoin'): 1, ('bitcoin', 'risk'): 1, ('risk', 'company'): 1, ('company', 'take'): 1, ('take', 'putting'): 1, ('putting', 'balance'): 1, ('sheet', 'investment'): 1, ('investment', 'strategy'): 1, ('strategy', 'say'): 1, ('say', 'microstrategy'): 1, ('microstrategy', 'reported'): 1, ('reported', 'million'): 1, ('million', 'impairment'): 1, ('impairment', 'charge'): 1, ('charge', 'related'): 1, ('related', 'bitcoin'): 1, ('bitcoin', 'holding'): 1, ('holding', 'th'): 1, ('th', 'quarter'): 1, ('quarter', 'el'): 1, ('salvador', 'angrily'): 1, ('angrily', 'rejects'): 1, ('rejects', 'imf'): 1, ('use', 'bitcoin'): 2, ('price', 'golden'): 1, ('golden', 'period'): 1, ('period', 'hit'): 1, ('hit', 'volatility'): 1, ('volatility', 'say'): 1, ('say', 'thailands'): 1, ('thailands', 'largest'): 1, ('largest', 'digital'): 1, ('digital', 'asset'): 2, ('asset', 'exchange'): 1, ('exchange', 'acquisition'): 1, ('acquisition', 'completed'): 1, ('completed', 'block'): 1, ('block', 'make'): 1, ('make', 'afterpay'): 1, ('afterpay', 'available'): 1, ('available', 'seller'): 1, ('seller', 'microstrategy'): 1, ('microstrategy', 'ceo'): 1, ('ceo', 'view'): 1, ('view', 'stock'): 1, ('stock', 'favorably'): 1, ('favorably', 'bitcoin'): 1, ('bitcoin', 'play'): 1, ('play', 'say'): 1, ('say', 'clearly'): 1, ('clearly', 'valued'): 1, ('valued', 'software'): 1, ('software', 'business'): 1, ('business', 'us'): 1, ('stock', 'continue'): 1, ('continue', 'rebound'): 1, ('rebound', 'investor'): 1, ('investor', 'cheer'): 1, ('cheer', 'strong'): 1, ('strong', 'earnings'): 1, ('earnings', 'big'): 1, ('big', 'tech'): 2, ('tech', 'name'): 1, ('name', 'us'): 1, ('stock', 'extend'): 1, ('extend', 'gain'): 1, ('gain', 'streak'): 1, ('streak', 'strong'): 1, ('strong', 'corporate'): 1, ('corporate', 'earnings'): 1, ('earnings', 'tech'): 1, ('tech', 'giant'): 1, ('giant', 'bitcoin'): 1, ('bitcoin', 'falls'): 2, ('falls', 'ahead'): 1, ('ahead', 'dire'): 1, ('dire', 'jobs'): 1, ('jobs', 'report'): 1, ('bitcoin', 'bull'): 1, ('bull', 'v'): 1, ('v', 'bear'): 1, ('bear', 'best'): 1, ('best', 'laptop'): 1, ('laptop', 'mining'): 1, ('mining', 'cryptocurrency'): 1, ('cryptocurrency', 'facebooks'): 1, ('facebooks', 'cryptocurrency'): 1, ('cryptocurrency', 'dream'): 1, ('dream', 'started'): 1, ('started', 'metas'): 1, ('metas', 'diem'): 2, ('diem', 'wa'): 1, ('wa', 'waste'): 1, ('waste', 'time'): 1, ('time', 'shouldve'): 1, ('shouldve', 'focused'): 1, ('focused', 'bitcoin'): 2, ('bitcoin', 'jack'): 1, ('dorsey', 'bitcoin'): 1, ('miners', 'like'): 1, ('like', 'riot'): 1, ('blockchain', 'fell'): 1, ('fell', 'today'): 1, ('ethereum', 'coinbase'): 1, ('coinbase', 'sinking'): 1, ('sinking', 'today'): 1, ('today', 'voltus'): 1, ('voltus', 'lines'): 1, ('lines', 'megawatt'): 1, ('megawatt', 'bitcoin'): 1, ('bitcoin', 'mine'): 1, ('mine', 'provide'): 1, ('provide', 'capacity'): 1, ('capacity', 'pjm'): 1, ('pjm', 'grid'): 1, ('grid', 'microstrategy'): 1, ('microstrategy', 'mstr'): 1, ('mstr', 'q'): 1, ('q', 'earnings'): 3, ('earnings', 'call'): 1, ('call', 'transcript'): 1, ('transcript', 'silvergate'): 1, ('silvergate', 'capital'): 1, ('capital', 'missed'): 1, ('missed', 'estimates'): 1, ('estimates', 'q'): 1, ('earnings', 'report'): 1, ('report', 'internet'): 1, ('internet', 'value'): 1, ('value', 'controversies'): 1, ('controversies', 'opportunities'): 1, ('opportunities', 'crypto'): 1, ('crypto', 'technologies'): 1, ('technologies', 'matt'): 1, ('matt', 'damon'): 1, ('damon', 'shilling'): 1, ('shilling', 'crypto'): 1, ('crypto', 'cryptoversebitcoin'): 1, ('cryptoversebitcoin', 'squeeze'): 1, ('squeeze', 'smaller'): 1, ('smaller', 'rival'): 1, ('rival', 'crown'): 1, ('crown', 'reuters'): 1, ('reuters', 'heres'): 1, ('heres', 'know'): 1, ('know', 'bitcoinlinked'): 1, ('bitcoinlinked', 'etfs'): 1, ('etfs', 'slowly'): 1, ('slowly', 'making'): 1, ('making', 'way'): 1, ('way', 'market'): 1, ('market', 'dorsey'): 1, ('dorsey', 'says'): 1, ('says', 'zuckerberg'): 1, ('zuckerberg', 'focused'): 1, ('bitcoin', 'diem'): 1, ('diem', 'india'): 1, ('india', 'launch'): 1, ('launch', 'digital'): 1, ('digital', 'rupee'): 1, ('rupee', 'next'): 1, ('next', 'year'): 1, ('year', 'plan'): 1, ('plan', 'tax'): 1, ('tax', 'cryptorelated'): 1, ('cryptorelated', 'income'): 1, ('income', 'according'): 1, ('according', 'finance'): 1, ('finance', 'minister'): 1, ('minister', 'outside'): 1, ('outside', 'box'): 1, ('box', 'sec'): 1, ('sec', 'illogical'): 1, ('illogical', 'continued'): 1, ('continued', 'refusal'): 1, ('refusal', 'ok'): 1, ('ok', 'bitcoin'): 1, ('bitcoin', 'etf'): 4, ('etf', 'reddit'): 1, ('reddit', 'cofounder'): 2, ('cofounder', 'ohanians'): 2, ('ohanians', 'venture'): 2, ('venture', 'capital'): 2, ('capital', 'firm'): 2, ('firm', 'raise'): 2, ('raise', 'mln'): 2, ('mln', 'reuters'): 1, ('reuters', 'reddit'): 1, ('mln', 'reuterscom'): 1, ('reuterscom', 'crypto'): 1, ('crypto', 'investors'): 2, ('investors', 'handling'): 1, ('handling', 'plunging'): 1, ('plunging', 'prices'): 1, ('prices', 'exxon'): 1, ('exxon', 'mobil'): 1, ('mobil', 'xometry'): 1, ('xometry', 'gannett'): 1, ('gannett', 'reuters'): 1, ('bitcoin', 'nation'): 1, ('nation', 'el'): 1, ('salvador', 'ambitious'): 1, ('ambitious', 'plans'): 1, ('plans', 'cryptocurrency'): 1, ('cryptocurrency', 'cedar'): 1, ('cedar', 'fair'): 1, ('fair', 'pge'): 1, ('pge', 'corp'): 1, ('corp', 'chevron'): 1, ('chevron', 'corp'): 1, ('corp', 'reuters'): 1, ('us', 'future'): 1, ('future', 'sink'): 1, ('sink', 'investor'): 1, ('investor', 'sell'): 1, ('sell', 'latejanuary'): 1, ('latejanuary', 'rally'): 1, ('rally', 'strong'): 1, ('strong', 'q'): 1, ('earnings', 'see'): 1, ('see', 'european'): 1, ('european', 'stock'): 1, ('stock', 'surge'): 1, ('surge', 'elon'): 1, ('musk', 'hints'): 1, ('hints', 'potential'): 1, ('potential', 'future'): 1, ('future', 'acquisition'): 1, ('acquisition', 'major'): 1, ('major', 'tv'): 1, ('tv', 'network'): 1, ('network', 'thing'): 1, ('thing', 'opening'): 4, ('opening', 'bell'): 4, ('bell', 'crypto'): 1, ('crypto', 'breakthrough'): 1, ('breakthrough', 'western'): 1, ('western', 'state'): 1, ('state', 'consider'): 1, ('consider', 'taking'): 1, ('taking', 'digital'): 1, ('digital', 'currency'): 2, ('currency', 'get'): 1, ('get', 'paid'): 1, ('paid', 'crypto'): 1, ('crypto', 'green'): 1, ('green', 'bitcoin'): 1, ('miners', 'etf'): 1, ('etf', 'coming'): 1, ('coming', 'need'): 1, ('know', 'metaverse'): 1, ('metaverse', 'affect'): 1, ('affect', 'business'): 1, ('business', 'important'): 1, ('important', 'risk'): 1, ('risk', 'bitcoin'): 1, ('bitcoin', 'investors'): 1, ('investors', 'focus'): 1, ('focus', 'project'): 1, ('project', 'syndicate'): 1, ('syndicate', 'fed'): 1, ('fed', 'cautious'): 1, ('cautious', 'digital'): 1, ('dollar', 'nonchalant'): 1, ('nonchalant', 'private'): 1, ('private', 'cryptocurrencies'): 1, ('cryptocurrencies', 'wikimedia'): 1, ('wikimedia', 'foundation'): 1, ('foundation', 'urged'): 1, ('urged', 'stop'): 1, ('stop', 'accepting'): 1, ('accepting', 'cryptocurrency'): 2, ('cryptocurrency', 'donations'): 1, ('donations', 'cryptocurrency'): 1, ('cryptocurrency', 'nfts'): 2, ('nfts', 'football'): 1, ('football', 'football'): 1, ('football', 'weekly'): 1, ('weekly', 'thai'): 1, ('thai', 'cafe'): 1, ('cafe', 'serf'): 1, ('serf', 'crypto'): 1, ('crypto', 'advice'): 1, ('advice', 'coffee'): 1, ('coffee', 'cake'): 1, ('cake', 'reuters'): 1, ('exchange', 'ftx'): 1, ('ftx', 'valued'): 1, ('valued', 'bln'): 1, ('bln', 'softbank'): 1, ('softbank', 'invests'): 1, ('invests', 'reuters'): 1, ('reuters', 'turkish'): 1, ('turkish', 'crypto'): 1, ('crypto', 'company'): 1, ('company', 'bitci'): 1, ('bitci', 'open'): 1, ('open', 'exchange'): 1, ('exchange', 'brazil'): 1, ('brazil', 'spain'): 1, ('spain', 'ceo'): 1, ('ceo', 'reuters'): 1, ('reuters', 'dollar'): 2, ('dollar', 'near'): 2, ('near', 'month'): 1, ('month', 'high'): 1, ('high', 'ahead'): 1, ('ahead', 'bumper'): 1, ('bumper', 'central'): 1, ('central', 'bank'): 1, ('bank', 'week'): 1, ('week', 'reuters'): 2, ('canadas', 'wealthsimple'): 1, ('wealthsimple', 'aim'): 1, ('aim', 'realworld'): 1, ('realworld', 'cryptocurrency'): 1, ('cryptocurrency', 'use'): 1, ('use', 'look'): 1, ('look', 'beyond'): 1, ('beyond', 'trading'): 1, ('bitcoin', 'track'): 1, ('track', 'worst'): 1, ('worst', 'january'): 1, ('january', 'since'): 1, ('since', 'crypto'): 1, ('crypto', 'winter'): 4, ('winter', 'futures'): 1, ('futures', 'movers'): 1, ('movers', 'stock'): 1, ('future', 'slip'): 1, ('slip', 'sunday'): 1, ('sunday', 'wild'): 1, ('wild', 'week'): 1, ('week', 'wall'): 1, ('street', 'reasons'): 1, ('reasons', 'bitcoin'): 1, ('solana', 'dropped'): 1, ('today', 'worried'): 1, ('worried', 'crypto'): 1, ('crypto', 'crash'): 4, ('crash', 'avoid'): 1, ('avoid', 'crypto'): 1, ('crypto', 'miners'): 2, ('miners', 'sec'): 1, ('sec', 'objects'): 1, ('objects', 'microstrategy'): 1, ('microstrategy', 'accurately'): 1, ('accurately', 'valuing'): 1, ('valuing', 'billiondollar'): 1, ('bitcoin', 'stash'): 1, ('stash', 'deepdotweb'): 1, ('deepdotweb', 'news'): 1, ('news', 'site'): 1, ('site', 'operator'): 1, ('operator', 'sentenced'): 2, ('sentenced', 'years'): 1, ('years', 'money'): 1, ('money', 'laundering'): 3, ('laundering', 'goldmans'): 1, ('goldmans', 'bitcoin'): 1, ('bitcoin', 'skepticism'): 1, ('skepticism', 'warning'): 1, ('warning', 'asian'): 1, ('asian', 'banks'): 1, ('banks', 'secs'): 1, ('secs', 'bitcoin'): 1, ('etf', 'standoff'): 1, ('standoff', 'january'): 1, ('january', 'selloff'): 1, ('selloff', 'wiped'): 3, ('wiped', 'billion'): 3, ('crypto', 'market'): 5, ('market', 'cap'): 3, ('cap', 'monero'): 1, ('monero', 'could'): 1, ('could', 'uncertainty'): 1, ('uncertainty', 'hedge'): 1, ('hedge', 'crypto'): 1, ('world', 'right'): 1, ('right', 'ftx'): 1, ('ftx', 'ha'): 1, ('ha', 'completed'): 1, ('completed', 'another'): 1, ('another', 'funding'): 1, ('funding', 'round'): 1, ('round', 'value'): 1, ('value', 'whopping'): 1, ('whopping', 'billion'): 1, ('billion', 'ceo'): 1, ('ceo', 'sam'): 1, ('sam', 'bankmanfried'): 1, ('bankmanfried', 'say'): 1, ('say', 'expects'): 1, ('expects', 'longterm'): 1, ('longterm', 'crypto'): 1, ('winter', 'plan'): 1, ('plan', 'put'): 1, ('put', 'bitcoin'): 1, ('bitcoin', 'mouse'): 1, ('mouse', 'dna'): 1, ('dna', 'genetically'): 1, ('genetically', 'engineered'): 1, ('engineered', 'virus'): 1, ('virus', 'top'): 1, ('top', 'cryptocurrency'): 4, ('cryptocurrency', 'price'): 4, ('price', 'today'): 4, ('bitcoin', 'dogecoin'): 1, ('dogecoin', 'shib'): 1, ('shib', 'terra'): 1, ('terra', 'tank'): 1, ('tank', 'odell'): 1, ('odell', 'beckham'): 3, ('beckham', 'jr'): 3, ('jr', 'leading'): 1, ('leading', 'new'): 1, ('new', 'class'): 1, ('class', 'athlete'): 1, ('athlete', 'getting'): 1, ('getting', 'paid'): 2, ('paid', 'bitcoin'): 1, ('bitcoin', 'heres'): 2, ('heres', 'highprofile'): 1, ('highprofile', 'athlete'): 1, ('athlete', 'taking'): 1, ('taking', 'highupside'): 1, ('highupside', 'risk'): 1, ('risk', 'crypto'): 1, ('crypto', 'pay'): 1, ('pay', 'china'): 1, ('china', 'selects'): 1, ('selects', 'pilot'): 1, ('pilot', 'zone'): 1, ('zone', 'application'): 1, ('application', 'area'): 1, ('area', 'blockchain'): 1, ('blockchain', 'project'): 1, ('project', 'reuters'): 1, ('reuters', 'strip'): 1, ('strip', 'club'): 1, ('club', 'crazy'): 1, ('crazy', 'horse'): 1, ('horse', 'accepting'): 1, ('accepting', 'bitcoin'): 1, ('bitcoin', 'lap'): 1, ('lap', 'dances'): 1, ('dances', 'case'): 1, ('case', 'bitcoin'): 1, ('bitcoin', 'inflation'): 1, ('inflation', 'hedge'): 1, ('hedge', 'crumbled'): 1, ('crumbled', 'thank'): 1, ('thank', 'bitcoin'): 1, ('bitcoin', 'making'): 1, ('making', 'stock'): 1, ('stock', 'cheap'): 1, ('cheap', 'bidens'): 1, ('bidens', 'bitcoin'): 1, ('bitcoin', 'regulations'): 1, ('regulations', 'threat'): 1, ('threat', 'higher'): 1, ('higher', 'taxes'): 1, ('taxes', 'crypto'): 1, ('crypto', 'matter'): 1, ('matter', 'national'): 2, ('national', 'securityreports'): 1, ('securityreports', 'reveal'): 1, ('reveal', 'joe'): 1, ('joe', 'bidens'): 1, ('bidens', 'surprise'): 1, ('ethereum', 'nft'): 1, ('nft', 'plan'): 1, ('plan', 'extreme'): 1, ('extreme', 'price'): 2, ('price', 'swings'): 2, ('swings', 'solve'): 1, ('solve', 'bitcoins'): 1, ('bitcoins', 'carbon'): 1, ('carbon', 'problem'): 1, ('problem', 'links'): 1, ('links', 'people'): 1, ('people', 'working'): 1, ('working', 'bitcoin'): 1, ('cryptocurrency', 'exchanges'): 1, ('exchanges', 'earn'): 1, ('earn', 'one'): 1, ('one', 'million'): 1, ('million', 'dollars'): 1, ('dollars', 'year'): 1, ('year', 'sports'): 1, ('sports', 'stars'): 1, ('stars', 'politicians'): 1, ('politicians', 'taking'): 1, ('taking', 'pay'): 1, ('pay', 'bitcoin'): 2, ('bitcoin', 'cryptocurrencies'): 3, ('cryptocurrencies', 'would'): 1, ('would', 'quantum'): 1, ('quantum', 'computers'): 2, ('computers', 'could'): 1, ('could', 'crack'): 1, ('crack', 'bitcoin'): 1, ('heres', 'would'): 1, ('would', 'take'): 1, ('take', 'stocks'): 1, ('stocks', 'generating'): 1, ('generating', 'sales'): 1, ('sales', 'growth'): 1, ('growth', 'bitcoin'): 1, ('bitcoin', 'different'): 1, ('different', 'types'): 1, ('types', 'uncertaintyrisk'): 1, ('uncertaintyrisk', 'bitcoin'): 1, ('bitcoin', 'tether'): 1, ('tether', 'poking'): 1, ('poking', 'financial'): 1, ('financial', 'beast'): 1, ('beast', 'bitcoin'): 1, ('bitcoin', 'adoption'): 1, ('adoption', 'could'): 1, ('could', 'bring'): 1, ('bring', 'major'): 1, ('major', 'prosperity'): 1, ('prosperity', 'puerto'): 1, ('puerto', 'rico'): 1, ('rico', 'oreilly'): 1, ('oreilly', 'reports'): 1, ('reports', 'increasing'): 1, ('increasing', 'interest'): 1, ('interest', 'cybersecurity'): 1, ('cybersecurity', 'ai'): 1, ('ai', 'go'): 1, ('go', 'rust'): 1, ('rust', 'c'): 1, ('c', 'alts'): 1, ('alts', 'underperforming'): 1, ('underperforming', 'expectations'): 1, ('expectations', 'justin'): 1, ('justin', 'bieber'): 1, ('bieber', 'enters'): 1, ('enters', 'bored'): 1, ('bored', 'ape'): 1, ('ape', 'nft'): 1, ('nft', 'chat'): 1, ('chat', 'million'): 1, ('million', 'purchase'): 1, ('purchase', 'bitcoin'): 1, ('btc', 'inches'): 1, ('inches', 'way'): 1, ('way', 'cancel'): 1, ('cancel', 'cryptocurrency'): 1, ('cryptocurrency', 'transaction'): 1, ('transaction', 'rising'): 1, ('rising', 'crypto'): 1, ('crypto', 'star'): 1, ('star', 'sec'): 1, ('sec', 'volatile'): 1, ('volatile', 'markets'): 1, ('markets', 'way'): 1, ('way', 'colorado'): 1, ('colorado', 'governor'): 1, ('governor', 'says'): 1, ('says', 'crypto'): 2, ('crypto', 'plan'): 1, ('plan', 'withstands'): 1, ('withstands', 'market'): 1, ('market', 'selloff'): 2, ('selloff', 'cryptocurrencies'): 1, ('cryptocurrencies', 'could'): 1, ('could', 'dwarf'): 1, ('dwarf', 'bitcoin'): 1, ('bitcoin', 'laugh'): 1, ('laugh', 'sarah'): 1, ('sarah', 'palin'): 1, ('palin', 'want'): 1, ('want', 'nothing'): 1, ('nothing', 'funny'): 1, ('funny', 'role'): 1, ('role', 'dividing'): 1, ('dividing', 'us'): 1, ('us', 'arwa'): 1, ('arwa', 'mahdawi'): 1, ('mahdawi', 'imf'): 1, ('imf', 'say'): 1, ('say', 'continues'): 1, ('continues', 'strong'): 1, ('strong', 'engagement'): 1, ('engagement', 'el'): 1, ('salvador', 'emboldened'): 1, ('emboldened', 'crypto'): 1, ('crypto', 'industry'): 1, ('industry', 'plot'): 1, ('plot', 'legal'): 1, ('legal', 'assault'): 1, ('assault', 'sec'): 1, ('sec', 'imf'): 1, ('imf', 'urge'): 5, ('urge', 'el'): 5, ('salvador', 'scale'): 2, ('scale', 'back'): 3, ('back', 'bitcoin'): 2, ('bitcoin', 'push'): 2, ('push', 'imf'): 1, ('push', 'crypto'): 1, ('crypto', 'slide'): 2, ('slide', 'puts'): 1, ('puts', 'outlook'): 1, ('outlook', 'billion'): 1, ('billion', 'investors'): 1, ('investors', 'test'): 1, ('test', 'goldman'): 1, ('goldman', 'sachs'): 2, ('sachs', 'suddenly'): 1, ('suddenly', 'issued'): 1, ('issued', 'surprise'): 1, ('surprise', 'crypto'): 1, ('crypto', 'price'): 3, ('price', 'warning'): 1, ('warning', 'huge'): 1, ('huge', 'bitcoin'): 2, ('xrp', 'crash'): 1, ('crash', 'better'): 1, ('better', 'buy'): 2, ('buy', 'block'): 2, ('block', 'v'): 2, ('v', 'shopify'): 1, ('shopify', 'sell'): 1, ('sell', 'shiba'): 1, ('inu', 'better'): 1, ('better', 'cryptocurrencies'): 1, ('cryptocurrencies', 'buy'): 1, ('buy', 'hold'): 1, ('hold', 'sweatcoin'): 1, ('sweatcoin', 'give'): 1, ('give', 'real'): 1, ('real', 'money'): 1, ('money', 'bitcoin'): 1, ('bitcoin', 'smallest'): 1, ('smallest', 'businesses'): 1, ('businesses', 'cantillon'): 1, ('cantillon', 'effects'): 1, ('effects', 'need'): 1, ('need', 'bitcoin'): 1, ('bitcoin', 'bitcoins'): 1, ('bitcoins', 'derivative'): 1, ('derivative', 'market'): 1, ('market', 'bulls'): 1, ('bulls', 'vanished'): 1, ('vanished', 'low'): 1, ('low', 'bitcoin'): 1, ('bitcoin', 'go'): 1, ('go', 'views'): 1, ('views', 'vary'): 1, ('vary', 'apple'): 1, ('apple', 'reports'): 1, ('reports', 'record'): 1, ('record', 'revenue'): 1, ('revenue', 'diem'): 1, ('diem', 'might'): 1, ('might', 'scale'): 1, ('back', 'weeks'): 1, ('roundup', 'us'): 1, ('us', 'state'): 1, ('state', 'may'): 1, ('may', 'make'): 1, ('make', 'bitcoin'): 2, ('bitcoin', 'legal'): 5, ('legal', 'tender'): 7, ('tender', 'embraces'): 1, ('embraces', 'bitcoin'): 1, ('bitcoin', 'nigeria'): 1, ('nigeria', 'offers'): 1, ('offers', 'lessons'): 1, ('lessons', 'developing'): 1, ('developing', 'world'): 1, ('world', 'crypto'): 2, ('crypto', 'selloff'): 3, ('billion', 'corporate'): 2, ('balance', 'sheets'): 1, ('sheets', 'opinion'): 1, ('opinion', 'cryptocurrency'): 1, ('cryptocurrency', 'financial'): 1, ('financial', 'promised'): 1, ('promised', 'land'): 1, ('land', 'one'): 1, ('one', 'year'): 1, ('year', 'gamestop'): 1, ('gamestop', 'frenzy'): 1, ('frenzy', 'robinhood'): 1, ('robinhood', 'hit'): 1, ('hit', 'new'): 1, ('new', 'low'): 1, ('low', 'people'): 1, ('people', 'arent'): 1, ('arent', 'trading'): 1, ('trading', 'stock'): 1, ('stock', 'much'): 1, ('much', 'anymore'): 1, ('anymore', 'john'): 1, ('john', 'terry'): 1, ('terry', 'remove'): 1, ('remove', 'premier'): 1, ('premier', 'league'): 2, ('league', 'trophy'): 1, ('trophy', 'nfts'): 1, ('nfts', 'legal'): 1, ('legal', 'intervention'): 1, ('intervention', 'biggest'): 1, ('biggest', 'corporate'): 1, ('corporate', 'holder'): 1, ('holder', 'bitcoin'): 1, ('bitcoin', 'square'): 1, ('square', 'tesla'): 1, ('tesla', 'passive'): 1, ('passive', 'income'): 1, ('income', 'stream'): 1, ('stream', 'help'): 1, ('help', 'yearold'): 1, ('yearold', 'doctor'): 1, ('doctor', 'entrepreneur'): 1, ('entrepreneur', 'make'): 1, ('make', 'extra'): 1, ('extra', 'per'): 1, ('per', 'year'): 1, ('year', 'crypto'): 1, ('crypto', 'lebron'): 1, ('lebron', 'james'): 1, ('james', 'partner'): 1, ('partner', 'cryptocom'): 1, ('cryptocom', 'teach'): 1, ('teach', 'kid'): 1, ('kid', 'blockchain'): 1, ('blockchain', 'technology'): 1, ('technology', 'qnap'): 1, ('qnap', 'warns'): 1, ('warns', 'deadbolt'): 1, ('deadbolt', 'ransomware'): 1, ('ransomware', 'targeting'): 1, ('targeting', 'internetfacing'): 1, ('internetfacing', 'nas'): 1, ('nas', 'devices'): 1, ('devices', 'source'): 1, ('source', 'white'): 1, ('white', 'house'): 1, ('house', 'readying'): 1, ('readying', 'executive'): 1, ('executive', 'action'): 1, ('action', 'task'): 2, ('task', 'federal'): 1, ('federal', 'agency'): 1, ('agency', 'regulating'): 1, ('regulating', 'bitcoin'): 1, ('cryptocurrencies', 'matter'): 1, ('national', 'security'): 1, ('security', 'daren'): 1, ('daren', 'fondabarrons'): 1, ('fondabarrons', 'online'): 1, ('online', 'better'): 1, ('ethereum', 'unusual'): 1, ('unusual', 'danielle'): 1, ('danielle', 'collins'): 1, ('collins', 'play'): 1, ('play', 'australian'): 1, ('australian', 'open'): 1, ('open', 'final'): 1, ('final', 'without'): 1, ('without', 'shoe'): 1, ('shoe', 'clothing'): 1, ('clothing', 'sponsorship'): 1, ('sponsorship', 'quantum'): 1, ('quantum', 'computing'): 1, ('computing', 'threatens'): 1, ('threatens', 'everything'): 1, ('everything', 'could'): 1, ('could', 'worse'): 1, ('worse', 'apocalypse'): 1, ('apocalypse', 'president'): 1, ('president', 'joe'): 1, ('joe', 'biden'): 1, ('biden', 'going'): 1, ('going', 'bitcoin'): 1, ('cryptocurrencies', 'nfts'): 1, ('nfts', 'goldman'): 1, ('goldman', 'says'): 1, ('crypto', 'mainstream'): 1, ('mainstream', 'acceptance'): 1, ('acceptance', 'may'): 1, ('may', 'boost'): 1, ('boost', 'prices'): 1, ('prices', 'retirement'): 1, ('retirement', 'weekly'): 1, ('weekly', 'news'): 1, ('news', 'analysis'): 1, ('analysis', 'planning'): 1, ('planning', 'living'): 1, ('living', 'retirement'): 1, ('retirement', 'top'): 1, ('bitcoin', 'bnb'): 1, ('bnb', 'zoom'): 1, ('zoom', 'terra'): 1, ('terra', 'bleeds'): 1, ('bleeds', 'ubisofts'): 1, ('ubisofts', 'nft'): 1, ('nft', 'boss'): 1, ('boss', 'say'): 1, ('say', 'player'): 1, ('player', 'dont'): 1, ('dont', 'get'): 1, ('get', 'tesla'): 1, ('tesla', 'major'): 1, ('major', 'public'): 1, ('public', 'company'): 1, ('company', 'sunk'): 1, ('sunk', 'billion'): 1, ('crypto', 'theyre'): 1, ('theyre', 'taking'): 1, ('taking', 'big'): 1, ('big', 'hit'): 1, ('hit', 'reminder'): 1, ('reminder', 'reject'): 1, ('reject', 'financial'): 1, ('financial', 'action'): 1, ('task', 'force'): 1, ('force', 'el'): 1, ('el', 'salvadors'): 5, ('salvadors', 'chivo'): 1, ('chivo', 'wallet'): 1, ('wallet', 'keep'): 1, ('keep', 'breaking'): 1, ('breaking', 'user'): 1, ('user', 'seeking'): 1, ('seeking', 'answer'): 1, ('answer', 'block'): 1, ('block', 'crypto'): 1, ('crypto', 'deepdotweb'): 1, ('deepdotweb', 'operator'): 1, ('sentenced', 'eight'): 1, ('eight', 'year'): 1, ('year', 'money'): 1, ('laundering', 'us'): 1, ('us', 'sec'): 2, ('sec', 'reject'): 3, ('reject', 'fidelitys'): 1, ('fidelitys', 'wise'): 1, ('wise', 'origin'): 1, ('origin', 'spot'): 1, ('spot', 'bitcoin'): 2, ('etf', 'reuterscom'): 1, ('reuterscom', 'el'): 1, ('salvador', 'bond'): 1, ('bond', 'payment'): 1, ('payment', 'peril'): 1, ('peril', 'imf'): 1, ('imf', 'relationship'): 1, ('relationship', 'sour'): 1, ('sour', 'moodys'): 1, ('moodys', 'reuterscom'): 1, ('reuterscom', 'cathie'): 1, ('cathie', 'woods'): 1, ('woods', 'ark'): 1, ('ark', 'invest'): 1, ('invest', 'expects'): 1, ('expects', 'ether'): 1, ('ether', 'soar'): 1, ('soar', 'hit'): 1, ('trillion', 'market'): 1, ('cap', 'salvadorans'): 1, ('salvadorans', 'react'): 1, ('react', 'imf'): 1, ('urge', 'country'): 1, ('country', 'stop'): 1, ('stop', 'using'): 1, ('using', 'bitcoin'): 1, ('bitcoin', 'end'): 1, ('end', 'day'): 1, ('day', 'metas'): 1, ('diem', 'cryptocurrency'): 1, ('cryptocurrency', 'need'): 1, ('know', 'cnet'): 1, ('cnet', 'quantum'): 2, ('quantum', 'apocalypse'): 1, ('apocalypse', 'scared'): 1, ('scared', 'dollar'): 1, ('dollar', 'find'): 1, ('find', 'buyer'): 1, ('buyer', 'fed'): 1, ('fed', 'flag'): 1, ('flag', 'hike'): 1, ('hike', 'reuters'): 1, ('reuters', 'facebooks'): 1, ('facebooks', 'crypto'): 1, ('crypto', 'demise'): 1, ('demise', 'missed'): 1, ('missed', 'opportunity'): 1, ('opportunity', 'reuters'): 1, ('crypto', 'giant'): 1, ('giant', 'binance'): 1, ('binance', 'hope'): 1, ('hope', 'russia'): 1, ('russia', 'help'): 1, ('help', 'regional'): 1, ('regional', 'growth'): 1, ('growth', 'reuters'): 1, ('reuters', 'brett'): 1, ('brett', 'arendss'): 1, ('arendss', 'roi'): 1, ('roi', 'easter'): 1, ('easter', 'bunny'): 1, ('bunny', 'cartoon'): 1, ('cartoon', 'cash'): 1, ('cash', 'bill'): 1, ('bill', 'maher'): 1, ('maher', 'called'): 1, ('called', 'bitcoin'): 2, ('bitcoin', 'crash'): 3, ('crash', 'wall'): 1, ('street', 'journal'): 1, ('journal', 'facebooks'): 1, ('facebooks', 'foray'): 1, ('foray', 'crypto'): 1, ('crypto', 'quietly'): 1, ('quietly', 'ending'): 1, ('ending', 'distributed'): 1, ('distributed', 'ledger'): 2, ('ledger', 'crypto'): 1, ('crash', 'mean'): 1, ('mean', 'digital'): 1, ('asset', 'portfolio'): 1, ('portfolio', 'business'): 1, ('business', 'business'): 1, ('business', 'analysis'): 1, ('analysis', 'investors'): 1, ('investors', 'look'): 1, ('look', 'prune'): 1, ('prune', 'portfolio'): 1, ('portfolio', 'risk'): 1, ('risk', 'fed'): 1, ('fed', 'hawkishness'): 1, ('hawkishness', 'rule'): 1, ('rule', 'market'): 1, ('market', 'reuters'): 3, ('reuters', 'hawkish'): 1, ('hawkish', 'fed'): 4, ('fed', 'proves'): 1, ('proves', 'bitcoin'): 1, ('bitcoin', 'backers'): 1, ('backers', 'right'): 1, ('right', 'crypto'): 1, ('sheet', 'bitcoin'): 1, ('crash', 'el'): 1, ('salvador', 'betting'): 1, ('betting', 'economy'): 1, ('economy', 'buying'): 1, ('buying', 'dip'): 2, ('dip', 'inflation'): 1, ('inflation', 'risk'): 1, ('risk', 'business'): 1, ('business', 'doesnt'): 1, ('doesnt', 'spell'): 1, ('spell', 'doom'): 1, ('doom', 'gibraltar'): 1, ('gibraltar', 'could'): 1, ('could', 'launch'): 1, ('launch', 'worlds'): 1, ('worlds', 'first'): 1, ('first', 'crypto'): 1, ('crypto', 'stock'): 2, ('stock', 'exchange'): 1, ('exchange', 'imf'): 1, ('salvador', 'remove'): 2, ('remove', 'bitcoin'): 1, ('tender', 'factbox'): 1, ('factbox', 'imf'): 1, ('imf', 'asks'): 1, ('asks', 'el'): 1, ('salvador', 'drop'): 2, ('bitcoin', 'country'): 1, ('country', 'clamp'): 1, ('clamp', 'reuters'): 1, ('reuters', 'elon'): 1, ('musk', 'joked'): 1, ('joked', 'mcdonalds'): 1, ('mcdonalds', 'accept'): 1, ('accept', 'dogecoin'): 3, ('dogecoin', 'heres'): 1, ('heres', 'doesnt'): 1, ('doesnt', 'make'): 1, ('make', 'sense'): 1, ('sense', 'brief'): 1, ('brief', 'history'): 1, ('history', 'el'): 1, ('salvadors', 'crypto'): 1, ('crypto', 'feud'): 1, ('feud', 'imf'): 1, ('imf', 'quantum'): 1, ('computers', 'million'): 1, ('million', 'times'): 1, ('times', 'small'): 1, ('small', 'hack'): 2, ('hack', 'bitcoin'): 2, ('bitcoin', 'surprises'): 1, ('surprises', 'bitcoin'): 1, ('bitcoin', 'blockchain'): 1, ('blockchain', 'stored'): 1, ('stored', 'crypto'): 1, ('bitcoin', 'trade'): 1, ('trade', 'briefly'): 1, ('briefly', 'near'): 1, ('near', 'federal'): 1, ('federal', 'reserve'): 1, ('reserve', 'keep'): 1, ('keep', 'interest'): 1, ('interest', 'rate'): 3, ('rate', 'near'): 1, ('near', 'zero'): 1, ('zero', 'expects'): 1, ('expects', 'hike'): 1, ('hike', 'soon'): 1, ('soon', 'imf'): 1, ('imf', 'urges'): 1, ('urges', 'el'): 1, ('tender', 'premier'): 1, ('league', 'uefa'): 1, ('uefa', 'taking'): 1, ('taking', 'legal'): 1, ('legal', 'advice'): 1, ('advice', 'john'): 1, ('john', 'terrys'): 1, ('terrys', 'nft'): 1, ('nft', 'ape'): 1, ('ape', 'tweet'): 1, ('tweet', 'high'): 1, ('high', 'price'): 1, ('price', 'crypto'): 1, ('crypto', 'salary'): 1, ('salary', 'imfs'): 1, ('imfs', 'board'): 1, ('board', 'urge'): 1, ('salvador', 'strip'): 2, ('strip', 'bitcoin'): 1, ('bitcoin', 'status'): 1, ('status', 'legal'): 1, ('legal', 'currency'): 1, ('currency', 'due'): 1, ('due', 'large'): 1, ('large', 'risk'): 1, ('risk', 'major'): 1, ('major', 'obstacle'): 1, ('obstacle', 'country'): 1, ('country', 'b'): 1, ('b', 'loan'): 1, ('loan', 'request'): 1, ('request', 'eric'): 1, ('eric', 'martinbloomberg'): 1, ('martinbloomberg', 'techscape'): 1, ('techscape', 'everything'): 1, ('everything', 'need'): 1, ('know', 'daos'): 1, ('daos', 'el'): 1, ('salvadors', 'bitcoin'): 1, ('bitcoin', 'embrace'): 1, ('embrace', 'criticized'): 1, ('criticized', 'imf'): 1, ('imf', 'markets'): 1, ('markets', 'cooler'): 1, ('cooler', 'heads'): 1, ('heads', 'prevailing'): 1, ('prevailing', 'whos'): 1, ('whos', 'afraid'): 1, ('afraid', 'hawkish'): 1, ('fed', 'stocks'): 1, ('stocks', 'buy'): 1, ('buy', 'sale'): 1, ('sale', 'bitcoin'): 1, ('mining', 'work'): 1, ('work', 'beatenup'): 1, ('beatenup', 'growth'): 1, ('growth', 'stocks'): 1, ('stocks', 'consider'): 1, ('consider', 'longterm'): 1, ('longterm', 'buys'): 1, ('buys', 'bit'): 1, ('bit', 'digital'): 1, ('digital', 'stock'): 1, ('stock', 'plummeting'): 1, ('plummeting', 'today'): 2, ('today', 'hacker'): 1, ('hacker', 'joe'): 1, ('joe', 'grand'): 1, ('grand', 'used'): 1, ('used', 'faultinjection'): 1, ('faultinjection', 'attack'): 1, ('attack', 'crack'): 1, ('crack', 'trezor'): 1, ('trezor', 'one'): 1, ('one', 'hardware'): 1, ('hardware', 'wallet'): 1, ('wallet', 'recover'): 1, ('recover', 'cryptocurrency'): 1, ('cryptocurrency', 'two'): 1, ('two', 'friend'): 1, ('friend', 'forgot'): 1, ('forgot', 'pin'): 1, ('pin', 'kim'): 1, ('kim', 'zetterthe'): 1, ('zetterthe', 'verge'): 1, ('verge', 'international'): 1, ('international', 'monetary'): 1, ('monetary', 'fund'): 1, ('fund', 'tell'): 1, ('tell', 'el'): 2, ('salvador', 'shouldnt'): 1, ('shouldnt', 'use'): 1, ('tender', 'cryptoverseteenage'): 1, ('cryptoverseteenage', 'bitcoin'): 1, ('bitcoin', 'throw'): 1, ('throw', 'interest'): 1, ('rate', 'tantrum'): 1, ('tantrum', 'reuters'): 1, ('reuters', 'update'): 2, ('update', 'imf'): 1, ('imf', 'urged'): 1, ('urged', 'el'): 1, ('remove', 'bitcoins'): 1, ('bitcoins', 'legal'): 2, ('tender', 'status'): 2, ('status', 'reuters'): 1, ('reuters', 'indonesia'): 1, ('indonesia', 'regulator'): 1, ('regulator', 'says'): 1, ('says', 'financial'): 1, ('financial', 'firms'): 1, ('firms', 'banned'): 1, ('banned', 'facilitating'): 1, ('facilitating', 'crypto'): 1, ('crypto', 'sales'): 1, ('sales', 'highend'): 1, ('highend', 'pc'): 1, ('pc', 'graphics'): 1, ('graphics', 'cards'): 1, ('cards', 'get'): 1, ('get', 'little'): 1, ('little', 'cheaper'): 1, ('cheaper', 'crypto'): 1, ('crypto', 'tanks'): 1, ('tanks', 'central'): 1, ('central', 'asia'): 1, ('asia', 'blackout'): 1, ('blackout', 'leaf'): 1, ('leaf', 'million'): 1, ('million', 'without'): 1, ('without', 'power'): 1, ('power', 'russia'): 1, ('russia', 'regulate'): 1, ('regulate', 'crypto'): 1, ('market', 'ban'): 1, ('ban', 'say'): 1, ('say', 'finmin'): 1, ('finmin', 'official'): 1, ('official', 'reuters'): 1, ('bitcoin', 'operation'): 1, ('operation', 'ignites'): 1, ('ignites', 'debate'): 1, ('debate', 'around'): 1, ('around', 'waste'): 1, ('waste', 'coal'): 1, ('coal', 'mining'): 1, ('mining', 'pennsylvania'): 1, ('pennsylvania', 'thing'): 1, ('bell', 'cryptos'): 1, ('cryptos', 'gold'): 1, ('gold', 'standard'): 1, ('standard', 'claim'): 1, ('claim', 'fading'): 1, ('fading', 'fast'): 1, ('fast', 'nix'): 1, ('nix', 'bitcoin'): 1, ('tender', 'imf'): 1, ('imf', 'reportedly'): 1, ('reportedly', 'tell'): 1, ('salvador', 'cnet'): 1, ('computer', 'million'): 1, ('million', 'time'): 1, ('time', 'small'): 1, ('bitcoin', 'imagine'): 1, ('imagine', 'possession'): 1, ('possession', 'beatles'): 1, ('beatles', 'memorabilia'): 1, ('memorabilia', 'virtually'): 1, ('virtually', 'auction'): 1, ('auction', 'reuters'): 1, ('near', 'twoweek'): 1, ('high', 'amid'): 1, ('amid', 'jitter'): 1, ('jitter', 'hawkish'): 1, ('fed', 'ukraine'): 2, ('ukraine', 'tension'): 1, ('tension', 'reuters'): 1, ('reuters', 'odell'): 1, ('jr', 'suffers'): 1, ('suffers', 'major'): 1, ('major', 'salary'): 1, ('salary', 'loss'): 1, ('loss', 'bitcoin'): 1, ('bitcoin', 'decline'): 1, ('decline', 'billion'): 1, ('usd', 'wiped'): 1, ('wiped', 'crypto'): 2, ('market', 'coins'): 1, ('coins', 'dip'): 1, ('dip', 'imf'): 1, ('strip', 'bitcoins'): 1, ('status', 'mcdonalds'): 1, ('mcdonalds', 'job'): 1, ('job', 'applications'): 1, ('applications', 'sold'): 1, ('sold', 'opensea'): 1, ('opensea', 'nft'): 1, ('nft', 'collection'): 1, ('collection', 'fears'): 1, ('fears', 'send'): 1, ('send', 'chills'): 1, ('chills', 'battered'): 1, ('battered', 'bitcoin'): 1, ('bitcoin', 'faithful'): 1, ('faithful', 'popular'): 1, ('popular', 'etf'): 1, ('etf', 'investment'): 1, ('investment', 'themes'): 1, ('themes', 'consider'): 1, ('consider', 'cryptocurrency'): 1, ('cryptocurrency', 'find'): 1, ('find', 'sight'): 1, ('sight', 'robust'): 1, ('robust', 'regulation'): 1, ('regulation', 'reuters'): 1, ('bitcoin', 'tumble'): 1, ('tumble', 'sixmonth'): 1, ('sixmonth', 'low'): 3, ('low', 'ukraine'): 1, ('ukraine', 'conflict'): 2, ('conflict', 'fear'): 1, ('fear', 'shake'): 1, ('shake', 'market'): 3, ('bitcoin', 'skid'): 1, ('skid', 'sixmonth'): 1, ('low', 'fear'): 2, ('fear', 'ukraine'): 2, ('ukraine', 'shake'): 1, ('reuters', 'fears'): 1, ('fears', 'feds'): 1, ('feds', 'policy'): 1, ('policy', 'changes'): 1, ('changes', 'send'): 1, ('send', 'huge'): 1, ('huge', 'losses'): 1, ('losses', 'cryptocurrency'): 1, ('cryptocurrency', 'market'): 1, ('market', 'microstrategy'): 1, ('microstrategy', 'extends'): 1, ('extends', 'day'): 1, ('day', 'decline'): 1, ('decline', 'bitcoin'): 1, ('bitcoin', 'melt'): 1, ('melt', 'sec'): 1, ('reject', 'crypto'): 1, ('crypto', 'accounting'): 1, ('accounting', 'bitcoin'): 1, ('bitcoin', 'bounce'): 2, ('bounce', 'six'): 2, ('six', 'month'): 2, ('month', 'low'): 2, ('low', 'buyer'): 2, ('buyer', 'step'): 2, ('step', 'reuters'): 1, ('update', 'bitcoin'): 1, ('step', 'reuterscom'): 1, ('reuterscom', 'cryptocurrencies'): 1, ('cryptocurrencies', 'pause'): 1, ('pause', 'weekend'): 1, ('weekend', 'battering'): 2, ('battering', 'currency'): 1, ('currency', 'wait'): 1, ('wait', 'fed'): 1, ('fed', 'reuters'): 1, ('bitcoin', 'fall'): 2, ('fall', 'sixmonth'): 1, ('conflict', 'shake'): 1, ('market', 'globe'): 1, ('mail', 'cryptoland'): 1, ('cryptoland', 'dead'): 1, ('dead', 'failing'): 1, ('failing', 'buy'): 1, ('buy', 'noncrypto'): 1, ('noncrypto', 'real'): 1, ('real', 'estate'): 1, ('estate', 'buy'): 1, ('buy', 'area'): 1, ('area', 'stock'): 1, ('stock', 'market'): 5, ('market', 'load'): 1, ('load', 'hedge'): 1, ('hedge', 'market'): 1, ('market', 'whipsaw'): 1, ('whipsaw', 'say'): 1, ('say', 'jefferies'): 1, ('jefferies', 'global'): 1, ('global', 'stock'): 1, ('stock', 'head'): 1, ('head', 'us'): 1, ('market', 'see'): 1, ('see', 'another'): 1, ('another', 'wild'): 1, ('wild', 'day'): 1, ('day', 'amid'): 1, ('amid', 'concern'): 1, ('concern', 'fed'): 1, ('ukraine', 'thing'): 1, ('bell', 'billion'): 1, ('billion', 'wiped'): 1, ('crypto', 'markets'): 1, ('markets', 'hours'): 1, ('hours', 'crypto'): 1, ('crypto', 'nfls'): 1, ('nfls', 'odell'): 1, ('jr', 'took'): 1, ('took', 'salary'): 1, ('salary', 'bitcoin'): 1, ('bitcoin', 'much'): 2, ('much', 'end'): 1, ('end', 'costing'): 1, ('costing', 'googles'): 1, ('googles', 'forming'): 1, ('forming', 'blockchain'): 1, ('blockchain', 'unit'): 1, ('unit', 'looking'): 1, ('looking', 'partner'): 1, ('partner', 'crypto'): 1, ('crypto', 'live'): 1, ('live', 'markets'): 1, ('markets', 'many'): 1, ('many', 'shade'): 1, ('shade', 'market'): 1, ('market', 'stress'): 1, ('stress', 'reuters'): 1, ('reuters', 'el'): 2, ('salvadors', 'president'): 1, ('president', 'adopts'): 1, ('adopts', 'mcdonalds'): 1, ('mcdonalds', 'uniform'): 1, ('uniform', 'twitter'): 1, ('twitter', 'profile'): 1, ('profile', 'bitcoin'): 1, ('bitcoin', 'plunge'): 1, ('plunge', 'bears'): 1, ('bears', 'gate'): 1, ('gate', 'reuters'): 1, ('investors', 'memeing'): 1, ('memeing', 'working'): 1, ('working', 'mcdonalds'): 1, ('mcdonalds', 'brutal'): 1, ('brutal', 'crash'): 1, ('crash', 'back'): 1, ('back', 'basic'): 1, ('basic', 'point'): 1, ('point', 'decentralization'): 1, ('decentralization', 'bubble'): 1, ('bubble', 'burst'): 1, ('burst', 'bitcoin'): 1, ('bitcoin', 'chart'): 1, ('chart', 'explain'): 1, ('explain', 'stock'): 1, ('market', 'meltdown'): 1, ('meltdown', 'bitcoins'): 1, ('bitcoins', 'slump'): 2, ('slump', 'correlated'): 1, ('correlated', 'crypto'): 1, ('crypto', 'safehaven'): 1, ('safehaven', 'asset'): 1, ('asset', 'like'): 1, ('like', 'gold'): 1, ('gold', 'crypto'): 1, ('miners', 'cheap'): 1, ('cheap', 'dangerous'): 1, ('dangerous', 'buy'): 1, ('buy', 'huge'): 1, ('ethereum', 'crypto'): 2, ('price', 'crash'): 2, ('crash', 'coins'): 1, ('coins', 'suddenly'): 1, ('suddenly', 'soaring'): 1, ('soaring', 'bitcoin'): 1, ('bitcoin', 'vix'): 1, ('vix', 'expected'): 1, ('expected', 'inflation'): 1, ('inflation', 'blue'): 1, ('blue', 'verification'): 1, ('verification', 'checkmark'): 1, ('checkmark', 'v'): 1, ('v', 'hexagonal'): 1, ('hexagonal', 'pfps'): 1, ('pfps', 'twitter'): 1, ('twitter', 'new'): 1, ('new', 'crypto'): 1, ('crypto', 'things'): 1, ('things', 'buy'): 1, ('buy', 'youre'): 1, ('youre', 'starting'): 1, ('starting', 'see'): 1, ('see', 'hexagonal'): 1, ('hexagonal', 'profile'): 1, ('pictures', 'twitter'): 1, ('twitter', 'nation'): 1, ('nation', 'state'): 1, ('state', 'hold'): 1, ('hold', 'bitcoin'): 1, ('crash', 'rocks'): 1, ('rocks', 'coinbase'): 1, ('coinbase', 'mainstream'): 1, ('mainstream', 'investors'): 1, ('investors', 'flee'): 1, ('flee', 'bitcoin'): 1, ('bitcoin', 'bitcoin'): 3, ('price', 'fall'): 2, ('fall', 'tandem'): 1, ('tandem', 'tech'): 1, ('tech', 'selloff'): 1, ('selloff', 'fox'): 1, ('fox', 'business'): 4, ('business', 'bitcoin'): 1, ('btc', 'heads'): 1, ('heads', 'towards'): 1, ('towards', 'sub'): 1, ('sub', 'feds'): 1, ('feds', 'january'): 1, ('january', 'policy'): 1, ('policy', 'decision'): 1, ('decision', 'nears'): 1, ('nears', 'replacing'): 1, ('replacing', 'us'): 1, ('dollar', 'bitcoin'): 1, ('bitcoin', 'dismantling'): 1, ('dismantling', 'fiat'): 1, ('fiat', 'architecture'): 1, ('architecture', 'january'): 1, ('january', 'historic'): 1, ('historic', 'month'): 1, ('month', 'bitcoin'): 1, ('bitcoin', 'new'): 1, ('new', 'orleans'): 1, ('orleans', 'man'): 1, ('man', 'sentenced'): 1, ('sentenced', 'defrauding'): 1, ('defrauding', 'customers'): 1, ('customers', 'unlicensed'): 1, ('unlicensed', 'bitcoin'): 1, ('bitcoin', 'business'): 1, ('business', 'lobservateur'): 1, ('lobservateur', 'lobservateur'): 1, ('lobservateur', 'tech'): 1, ('tech', 'stocks'): 1, ('stocks', 'arent'): 1, ('arent', 'driving'): 1, ('driving', 'crypto'): 1, ('crypto', 'prices'): 1, ('prices', 'coindesk'): 1, ('coindesk', 'mayors'): 1, ('mayors', 'see'): 1, ('see', 'cryptocurrency'): 1, ('cryptocurrency', 'way'): 1, ('way', 'address'): 1, ('address', 'income'): 1, ('income', 'inequality'): 1, ('inequality', 'first'): 1, ('first', 'mover'): 1, ('mover', 'asia'): 1, ('asia', 'bitcoin'): 1, ('ether', 'regain'): 1, ('regain', 'ground'): 1, ('ground', 'sunday'): 1, ('sunday', 'early'): 1, ('early', 'weekend'): 1, ('battering', 'coindesk'): 1, ('bitcoin', 'opsec'): 1, ('opsec', 'tips'): 1, ('tips', 'casa'): 1, ('casa', 'keyfest'): 1, ('keyfest', 'james'): 1, ('james', 'bond'): 1, ('bond', 'bitcoin'): 1, ('bitcoin', 'extends'): 2, ('extends', 'slide'): 2, ('slide', 'fallen'): 2, ('fallen', 'record'): 2, ('record', 'high'): 4, ('high', 'bitcoin'): 2, ('bitcoin', 'value'): 1, ('value', 'tumble'): 1, ('tumble', 'almost'): 1, ('almost', 'per'): 1, ('per', 'cent'): 2, ('cent', 'since'): 1, ('since', 'record'): 1, ('record', 'november'): 1, ('november', 'ctv'): 1, ('ctv', 'news'): 1, ('news', 'bitcoin'): 1, ('bitcoin', 'pyramid'): 2, ('pyramid', 'scheme'): 2, ('scheme', 'wreak'): 2, ('wreak', 'havoc'): 2, ('havoc', 'brazils'): 2, ('brazils', 'new'): 2, ('new', 'egypt'): 2, ('egypt', 'bitcoin'): 1, ('bitcoin', 'lost'): 1, ('lost', 'half'): 1, ('half', 'value'): 1, ('value', 'since'): 1, ('since', 'hitting'): 1, ('hitting', 'record'): 1, ('high', 'crypto'): 1, ('slump', 'stock'): 1, ('stock', 'time'): 1, ('time', 'high'): 1, ('egypt', 'dangerous'): 1, ('dangerous', 'game'): 1, ('game', 'football'): 1, ('football', 'club'): 1, ('club', 'look'): 1, ('look', 'mine'): 1, ('mine', 'fan'): 1, ('fan', 'cash'): 1, ('cash', 'crypto'): 1, ('crypto', 'offering'): 1, ('offering', 'bitcoin'): 1, ('ethereum', 'coins'): 1, ('coins', 'fall'): 1, ('fall', 'sharply'): 1, ('sharply', 'husband'): 1, ('husband', 'told'): 1, ('told', 'put'): 1, ('put', 'money'): 1, ('money', 'crypto'): 1, ('crypto', 'high'): 1, ('high', 'interest'): 1, ('interest', 'account'): 1, ('account', 'im'): 1, ('im', 'glad'): 1, ('glad', 'ignored'): 1, ('ignored', 'advice'): 1, ('advice', 'reason'): 1, ('reason', 'bitcoin'): 1, ('high', 'heres'): 1, ('heres', 'bitcoin'): 2, ('bitcoin', 'better'): 1, ('better', 'gold'): 1, ('gold', 'heres'): 1, ('bitcoin', 'risky'): 1, ('risky', 'bitcoin'): 1, ('fall', 'amid'): 1, ('amid', 'market'): 1, ('selloff', 'fed'): 1, ('fed', 'digital'): 1, ('currency', 'report'): 1, ('report', 'washington'): 1, ('washington', 'post'): 1, ('post', 'crypto'): 1, ('crash', 'cripples'): 1, ('cripples', 'bitcoin'): 1, ('dogecoin', 'weekend'): 1, ('weekend', 'ether'): 1, ('ether', 'solana'): 1, ('solana', 'memecoins'): 1, ('memecoins', 'get'): 1, ('get', 'crushed'): 1, ('crushed', 'crypto'): 1, ('market', 'rout'): 1, ('rout', 'bloomberg'): 1, ('bloomberg', 'bitcoin'): 1, ('falls', 'selloff'): 1, ('selloff', 'nears'): 1, ('nears', 'record'): 1, ('high', 'invest'): 1, ('invest', 'el'): 1, ('salvador', 'buys'): 1, ('buys', 'million'): 1, ('million', 'worth'): 2, ('worth', 'bitcoin'): 1, ('bitcoin', 'really'): 1, ('really', 'cheap'): 1, ('cheap', 'president'): 1, ('president', 'crows'): 1, ('crows', 'selloff'): 1, ('selloff', 'continues'): 1, ('continues', 'crypto'): 1, ('crypto', 'collapse'): 1, ('collapse', 'tests'): 1, ('tests', 'faithfuls'): 1, ('faithfuls', 'infinite'): 1, ('infinite', 'supply'): 1, ('supply', 'optimism'): 1, ('optimism', 'like'): 1, ('like', 'crashnew'): 1, ('crashnew', 'crypto'): 1, ('winter', 'warning'): 1, ('warning', 'selloff'): 1, ('selloff', 'wipes'): 1, ('wipes', 'trillion'): 1, ('trillion', 'combined'): 1, ('combined', 'bitcoin'): 1, ('solana', 'bnb'): 1, ('bnb', 'cardano'): 1, ('xrp', 'price'): 1, ('price', 'robinhood'): 1, ('robinhood', 'open'): 1, ('open', 'cryptocurrency'): 1, ('wallet', 'beta'): 1, ('beta', 'tester'): 1, ('tester', 'bitcoin'): 1, ('fall', 'reuters'): 1, ('salvador', 'partnering'): 1, ('partnering', 'solanabased'): 1, ('solanabased', 'lending'): 1, ('lending', 'company'): 1, ('company', 'offer'): 1, ('offer', 'crypto'): 1, ('crypto', 'loan'): 1, ('loan', 'business'): 1, ('report', 'say'): 1, ('say', 'us'): 2, ('bet', 'slide'): 1, ('slide', 'lowest'): 1, ('since', 'midsept'): 1, ('midsept', 'cftc'): 1, ('reuters', 'data'): 1, ('reuters', 'new'): 1, ('york', 'city'): 2, ('city', 'mayor'): 2, ('mayor', 'eric'): 2, ('eric', 'adams'): 3, ('adams', 'convert'): 2, ('convert', 'first'): 1, ('first', 'paycheck'): 5, ('paycheck', 'cryptocurrency'): 5, ('cryptocurrency', 'netflix'): 1, ('netflix', 'streaming'): 1, ('streaming', 'co'): 2, ('co', 'oceanpal'): 1, ('oceanpal', 'crypto'): 1, ('stock', 'reuters'): 1, ('stock', 'fall'): 1, ('fall', 'earnings'): 1, ('earnings', 'slump'): 1, ('slump', 'riskoff'): 1, ('riskoff', 'pivot'): 1, ('pivot', 'intensifies'): 1, ('intensifies', 'ahead'): 1, ('ahead', 'rate'): 1, ('rate', 'hike'): 1, ('hike', 'peloton'): 1, ('peloton', 'energy'): 1, ('energy', 'stock'): 1, ('stock', 'streaming'): 1, ('co', 'reuters'): 1, ('twitter', 'debut'): 1, ('debut', 'hexagonshaped'): 1, ('hexagonshaped', 'nft'): 1, ('profile', 'picture'): 1, ('picture', 'reuters'): 1, ('reuters', 'brazilian'): 1, ('brazilian', 'fintech'): 1, ('fintech', 'dock'): 1, ('dock', 'use'): 1, ('use', 'crypto'): 1, ('crypto', 'international'): 1, ('international', 'remittance'): 1, ('remittance', 'reuters'): 1, ('bitcoin', 'drop'): 1, ('drop', 'amid'): 1, ('amid', 'crypto'): 1, ('slide', 'russia'): 1, ('russia', 'proposes'): 1, ('proposes', 'ban'): 1, ('ban', 'new'): 1, ('york', 'citys'): 1, ('citys', 'mayor'): 1, ('mayor', 'getting'): 1, ('paid', 'cryptocurrency'): 1, ('cryptocurrency', 'bill'): 1, ('bill', 'cant'): 1, ('cant', 'pay'): 1, ('pay', 'coingecko'): 1, ('coingecko', 'total'): 1, ('total', 'market'): 1, ('cap', 'cryptocurrency'): 1, ('cryptocurrency', 'industry'): 1, ('industry', 'fell'): 1, ('fell', 'amidst'): 1, ('amidst', 'selloff'): 1, ('selloff', 'bitcoin'): 1, ('bitcoin', 'fell'): 1, ('fell', 'k'): 2, ('k', 'ethereum'): 1, ('ethereum', 'fell'): 1, ('k', 'tracy'): 1, ('tracy', 'wangcoindesk'): 1, ('wangcoindesk', 'normal'): 1, ('normal', 'price'): 1, ('price', 'correction'): 1, ('correction', 'gold'): 1, ('gold', 'silver'): 1, ('silver', 'bull'): 1, ('bull', 'remain'): 1, ('remain', 'strong'): 1, ('strong', 'kitco'): 1, ('kitco', 'news'): 1, ('news', 'new'): 1, ('mayor', 'receive'): 1, ('receive', 'first'): 2, ('cryptocurrency', 'better'): 1, ('better', 'blockchain'): 1, ('blockchain', 'stock'): 1, ('stock', 'block'): 1, ('v', 'riot'): 1, ('blockchain', 'rise'): 1, ('rise', 'numismatist'): 1, ('numismatist', 'coin'): 1, ('coin', 'collecting'): 1, ('collecting', 'versus'): 1, ('versus', 'bitcoin'): 1, ('bitcoin', 'money'): 1, ('laundering', 'dirty'): 1, ('dirty', 'money'): 1, ('money', 'enters'): 1, ('enters', 'financial'): 1, ('financial', 'system'): 1, ('system', 'godfather'): 1, ('godfather', 'technical'): 1, ('analyst', 'say'): 1, ('say', 'stock'): 1, ('market', 'could'): 1, ('could', 'fall'): 1, ('fall', 'dont'): 1, ('dont', 'panic'): 1, ('panic', 'market'): 1, ('market', 'really'): 1, ('really', 'unbelievable'): 1, ('unbelievable', 'month'): 1, ('month', 'could'): 1, ('could', 'nft'): 1, ('nft', 'market'): 2, ('market', 'become'): 1, ('become', 'bigger'): 1, ('bigger', 'bitcoin'): 1, ('bitcoin', 'cryptocom'): 1, ('cryptocom', 'admits'): 1, ('admits', 'million'): 1, ('million', 'stolen'): 3, ('stolen', 'hacker'): 1, ('hacker', 'eric'): 1, ('adams', 'taking'): 1, ('taking', 'first'): 1, ('paycheck', 'crypto'): 1, ('crypto', 'russian'): 1, ('russian', 'cbank'): 2, ('cbank', 'proposes'): 2, ('proposes', 'banning'): 2, ('banning', 'cryptocurrencies'): 2, ('cryptocurrencies', 'crypto'): 2, ('crypto', 'mining'): 4, ('mining', 'cryptocom'): 1, ('cryptocom', 'finally'): 1, ('finally', 'acknowledges'): 1, ('acknowledges', 'million'): 1, ('stolen', 'hackers'): 1, ('hackers', 'us'): 1, ('reject', 'skybridge'): 1, ('skybridge', 'spot'): 1, ('etf', 'latest'): 1, ('latest', 'veto'): 1, ('veto', 'reuters'): 1, ('reuters', 'nyc'): 1, ('nyc', 'mayor'): 2, ('adams', 'receive'): 1, ('cryptocurrency', 'via'): 2, ('via', 'coinbase'): 2, ('coinbase', 'reuters'): 1, ('reuters', 'russian'): 1, ('mining', 'reuters'): 1, ('reuters', 'cryptocom'): 1, ('cryptocom', 'loses'): 1, ('loses', 'million'): 1, ('million', 'hack'): 1, ('hack', 'affected'): 1, ('affected', 'account'): 1, ('account', 'mayor'): 1, ('mayor', 'adams'): 2, ('adams', 'promotes'): 1, ('promotes', 'radically'): 1, ('radically', 'practical'): 1, ('practical', 'agenda'): 1, ('agenda', 'washington'): 1, ('washington', 'weird'): 1, ('weird', 'thing'): 1, ('thing', 'people'): 1, ('people', 'transformed'): 1, ('transformed', 'crypto'): 1, ('crypto', 'miner'): 1, ('miner', 'nyc'): 1, ('convert', 'city'): 1, ('city', 'paycheck'): 1, ('coinbase', 'google'): 1, ('google', 'pay'): 2, ('pay', 'might'): 1, ('might', 'bring'): 1, ('bring', 'bitcoin'): 1, ('bitcoin', 'android'): 1, ('android', 'phone'): 1, ('phone', 'intel'): 1, ('intel', 'bitcoin'): 1, ('bitcoin', 'bonanza'): 1, ('bonanza', 'latest'): 1, ('latest', 'reported'): 1, ('reported', 'chip'): 1, ('chip', 'deal'): 1, ('deal', 'race'): 1, ('race', 'dominate'): 1, ('dominate', 'defi'): 1, ('defi', 'ecosystem'): 3, ('ecosystem', 'nycs'): 1, ('nycs', 'mayor'): 1, ('mayor', 'invests'): 1, ('invests', 'first'): 1, ('cryptocurrency', 'sec'): 1, ('sec', 'block'): 1, ('block', 'anthony'): 1, ('anthony', 'scaramuccis'): 1, ('scaramuccis', 'bitcoin'): 1, ('fund', 'jan'): 1, ('jan', 'committee'): 1, ('committee', 'subpoenas'): 1, ('subpoenas', 'white'): 1, ('white', 'nationalists'): 2, ('nationalists', 'wanted'): 1, ('wanted', 'trump'): 1, ('trump', 'rule'): 1, ('rule', 'life'): 1, ('life', 'distributed'): 1, ('ledger', 'nft'): 1, ('market', 'boom'): 1, ('boom', 'crypto'): 1, ('market', 'remains'): 1, ('remains', 'sluggish'): 1, ('sluggish', 'heres'): 1, ('heres', 'white'): 1, ('nationalists', 'marched'): 1, ('marched', 'charlottesville'): 1, ('charlottesville', 'hit'): 1, ('hit', 'jan'): 1, ('jan', 'subpoenas'): 1, ('subpoenas', 'crypto'): 1, ('selloff', 'things'): 1, ('things', 'theres'): 1, ('theres', 'pain'): 1, ('pain', 'store'): 1, ('store', 'eu'): 1, ('eu', 'regulator'): 2, ('regulator', 'wants'): 1, ('wants', 'ban'): 1, ('ban', 'proof'): 1, ('proof', 'work'): 1, ('work', 'crypto'): 1, ('mining', 'avoid'): 1, ('avoid', 'climate'): 1, ('climate', 'disaster'): 1, ('disaster', 'stablecoin'): 1, ('stablecoin', 'payment'): 1, ('payment', 'pick'): 1, ('pick', 'challenging'): 1, ('challenging', 'bitcoin'): 1, ('bitcoin', 'dominant'): 1, ('dominant', 'payment'): 1, ('payment', 'coin'): 1, ('coin', 'hackers'): 1, ('hackers', 'launder'): 1, ('launder', 'million'): 1, ('stolen', 'cryptocom'): 1, ('cryptocom', 'using'): 1, ('using', 'ethereum'): 1, ('ethereum', 'mixer'): 1, ('mixer', 'crypto'): 1, ('exchange', 'shuts'): 1, ('shuts', 'withdrawals'): 1, ('withdrawals', 'hackers'): 1, ('hackers', 'reportedly'): 1, ('reportedly', 'steal'): 1, ('steal', 'million'): 1, ('million', 'bitcoin'): 1, ('ethereum', 'top'): 1, ('top', 'eu'): 1, ('regulator', 'urge'): 1, ('urge', 'ban'): 1, ('ban', 'crypto'): 1, ('mining', 'claim'): 1, ('claim', 'sucking'): 1, ('sucking', 'renewable'): 1, ('renewable', 'energy'): 1, ('pay', 'may'): 1, ('may', 'add'): 1, ('add', 'crypto'): 1, ('crypto', 'card'): 1, ('card', 'attract'): 1, ('attract', 'next'): 1, ('next', 'billion'): 1, ('billion', 'users'): 1, ('users', 'francis'): 1, ('francis', 'ngannou'): 1, ('ngannou', 'take'): 1, ('take', 'half'): 1, ('half', 'ufc'): 1, ('ufc', 'purse'): 1, ('purse', 'bitcoin'): 1, ('bitcoin', 'opera'): 1, ('opera', 'launches'): 1, ('launches', 'dedicated'): 1, ('dedicated', 'crypto'): 1, ('crypto', 'browser'): 1, ('browser', 'penny'): 1, ('penny', 'stocks'): 1, ('stocks', 'watch'): 1, ('watch', 'dwac'): 1, ('dwac', 'stock'): 1, ('stock', 'wakes'): 1, ('wakes', 'small'): 1, ('small', 'caps'): 1, ('caps', 'fastestscaling'): 1, ('fastestscaling', 'cryptocurrencies'): 1, ('cryptocurrencies', 'bitcoin'): 1, ('bitcoin', 'defi'): 1, ('defi', 'short'): 1, ('short', 'years'): 1, ('years', 'jamaica'): 1, ('jamaica', 'qualifying'): 1, ('qualifying', 'fourman'): 1, ('fourman', 'bobsled'): 1, ('bobsled', 'team'): 1, ('team', 'first'): 1, ('time', 'years'): 1, ('years', 'bitcoin'): 1, ('mining', 'startup'): 1, ('startup', 'griid'): 1, ('griid', 'ink'): 1, ('ink', 'major'): 1, ('major', 'deal'): 1, ('deal', 'intel'): 1, ('intel', 'fox'): 1, ('business', 'bitcoins'): 2, ('bitcoins', 'tough'): 1, ('tough', 'radio'): 1, ('radio', 'fifa'): 1, ('fifa', 'fifpro'): 1, ('fifpro', 'announce'): 1, ('announce', 'world'): 1, ('crypto', 'atms'): 1, ('atms', 'halted'): 1, ('halted', 'singapore'): 1, ('singapore', 'marketing'): 1, ('marketing', 'clampdown'): 1, ('clampdown', 'el'): 1, ('salvadors', 'plan'): 1, ('plan', 'create'): 1, ('create', 'first'): 1, ('first', 'bitcoinpowered'): 1, ('bitcoinpowered', 'nation'): 1, ('nation', 'tanking'): 1, ('tanking', 'economyand'): 1, ('economyand', 'mess'): 1, ('mess', 'every'): 1, ('every', 'measure'): 1, ('measure', 'fortune'): 1, ('fortune', 'bitcoin'): 1, ('bitcoin', 'check'): 1, ('check', 'crypto'): 1, ('crypto', 'stocks'): 1, ('stocks', 'quickly'): 1, ('quickly', 'set'): 1, ('set', 'blockchaincom'): 1, ('blockchaincom', 'wallet'): 1, ('wallet', 'crypto'): 1, ('crypto', 'related'): 1, ('related', 'job'): 1, ('job', 'posting'): 1, ('posting', 'surged'): 1, ('surged', 'per'): 1, ('cent', 'say'): 1, ('say', 'linkedin'): 1, ('linkedin', 'spain'): 1, ('spain', 'set'): 1, ('set', 'new'): 1, ('new', 'rule'): 1, ('rule', 'influencers'): 1, ('influencers', 'promote'): 1, ('promote', 'cryptocurrency'): 1, ('cryptocurrency', 'intel'): 1, ('intel', 'unveil'): 1, ('unveil', 'ultra'): 1, ('ultra', 'lowvoltage'): 1, ('lowvoltage', 'bitcoin'): 1, ('mining', 'asic'): 1, ('asic', 'february'): 1, ('february', 'warren'): 1, ('warren', 'buffetts'): 1, ('buffetts', 'righthand'): 1, ('righthand', 'man'): 1, ('man', 'called'): 1, ('bitcoin', 'rat'): 1, ('rat', 'poison'): 1, ('poison', 'protect'): 1, ('protect', 'casual'): 1, ('casual', 'investor'): 1, ('investor', 'crypto'): 1, ('crypto', 'loss'): 1, ('loss', 'veteran'): 1, ('veteran', 'investor'): 1, ('investor', 'guy'): 1, ('guy', 'spier'): 1, ('spier', 'say'): 1, ('say', 'el'): 1, ('salvador', 'president'): 1, ('president', 'meet'): 1, ('meet', 'erdogan'): 1, ('erdogan', 'turkey'): 1, ('turkey', 'week'): 1, ('reuters', 'treasury'): 1, ('treasury', 'plan'): 1, ('plan', 'crackdown'): 1, ('crackdown', 'misleading'): 1, ('misleading', 'cryptocurrency'): 1, ('cryptocurrency', 'ad'): 2, ('ad', 'mozilla'): 1, ('mozilla', 'stops'): 1, ('stops', 'accepting'): 1, ('cryptocurrency', 'wikipedia'): 1, ('wikipedia', 'may'): 1, ('may', 'next'): 1, ('next', 'dollar'): 1, ('dollar', 'fails'): 1, ('fails', 'catch'): 1, ('catch', 'lift'): 1, ('lift', 'higher'): 1, ('higher', 'yield'): 1, ('yield', 'bank'): 1, ('bank', 'japan'): 1, ('japan', 'focus'): 1, ('focus', 'reuters'): 1, ('us', 'tech'): 1, ('future', 'plunge'): 1, ('plunge', 'bond'): 1, ('bond', 'yield'): 3, ('yield', 'shoot'): 1, ('shoot', 'higher'): 1, ('higher', 'oil'): 1, ('oil', 'hit'): 1, ('hit', 'year'): 1, ('year', 'high'): 1, ('high', 'nasdaq'): 1, ('nasdaq', 'fall'): 1, ('fall', 'nearly'): 1, ('nearly', 'us'): 1, ('stock', 'plummet'): 1, ('plummet', 'interest'): 1, ('rate', 'worry'): 1, ('worry', 'mine'): 1, ('mine', 'ethereum'): 1, ('ethereum', 'stepbystep'): 1, ('stepbystep', 'guide'): 1, ('guide', 'holographic'): 1, ('holographic', 'display'): 1, ('display', 'concept'): 1, ('concept', 'make'): 1, ('make', 'nft'): 1, ('nft', 'art'): 1, ('art', 'buy'): 1, ('buy', 'look'): 1, ('look', 'interesting'): 1, ('interesting', 'blocks'): 1, ('blocks', 'cash'): 1, ('cash', 'app'): 1, ('app', 'adopts'): 1, ('adopts', 'lightning'): 1, ('lightning', 'network'): 1, ('network', 'free'): 1, ('free', 'bitcoin'): 1, ('payment', 'intel'): 1, ('intel', 'tip'): 1, ('tip', 'plan'): 1, ('plan', 'bitcoin'): 1, ('mining', 'bonanza'): 1, ('bonanza', 'chip'): 1, ('chip', 'thing'): 1, ('bell', 'bitcoin'): 1, ('dogecoin', 'today'): 1, ('today', 'reasons'): 1, ('reasons', 'buy'): 1, ('block', 'reason'): 1, ('reason', 'sell'): 1, ('sell', 'stocks'): 1, ('stocks', 'drop'): 1, ('drop', 'treasury'): 1, ('treasury', 'bond'): 1, ('yield', 'push'): 1, ('push', 'higher'): 1, ('higher', 'new'): 1, ('new', 'law'): 1, ('law', 'tackle'): 1, ('tackle', 'misleading'): 1, ('misleading', 'cryptoasset'): 1, ('cryptoasset', 'advert'): 1, ('advert', 'top'): 1, ('ethereum', 'slip'): 1, ('slip', 'cardano'): 1, ('cardano', 'zoom'): 2, ('zoom', 'ethereum'): 1, ('ethereum', 'losing'): 1, ('losing', 'steam'): 1, ('steam', 'bitcoin'): 1, ('bitcoin', 'investor'): 1, ('investor', 'dig'): 1, ('dig', 'long'): 1, ('long', 'haul'): 1, ('haul', 'staggering'): 1, ('staggering', 'shift'): 1, ('shift', 'reuters'): 1, ('reuters', 'bitcoins'): 1, ('slump', 'could'): 1, ('could', 'start'): 1, ('start', 'crypto'): 1, ('winter', 'see'): 1, ('see', 'price'): 1, ('crash', 'ubs'): 1, ('ubs', 'say'): 1, ('say', 'three'): 1, ('three', 'reason'): 1, ('reason', 'anatomy'): 1, ('anatomy', 'bitcoin'): 1, ('price', 'manipulation'): 1, ('manipulation', 'spain'): 1, ('spain', 'move'): 1, ('move', 'rein'): 1, ('rein', 'cryptoasset'): 1, ('cryptoasset', 'advertising'): 1, ('advertising', 'reuters'): 1, ('reuters', 'metaverse'): 1, ('metaverse', 'hooked'): 1, ('hooked', 'onto'): 1, ('onto', 'blockchain'): 1, ('blockchain', 'kosovo'): 1, ('kosovo', 'suspends'): 1, ('suspends', 'cryptocurrency'): 1, ('cryptocurrency', 'mining'): 1, ('mining', 'miners'): 1, ('miners', 'scramble'): 1, ('scramble', 'sell'): 1, ('sell', 'equipment'): 1, ('equipment', 'walmart'): 1, ('walmart', 'might'): 1, ('might', 'soon'): 1, ('soon', 'rolling'): 1, ('rolling', 'cryptocurrency'): 1, ('cryptocurrency', 'bitpay'): 1, ('bitpay', 'bitcoin'): 1, ('use', 'bitpay'): 1, ('bitpay', 'merchant'): 1, ('merchant', 'dropped'): 1, ('dropped', 'crypto'): 1, ('payment', 'ether'): 1, ('ether', 'purchase'): 1, ('purchase', 'rose'): 1, ('rose', 'stablecoins'): 1, ('stablecoins', 'olga'): 1, ('olga', 'kharifbloomberg'): 1, ('kharifbloomberg', 'cardano'): 1, ('cardano', 'outperforming'): 1, ('outperforming', 'rival'): 1, ('rival', 'bitcoin'): 1, ('ether', 'dark'): 1, ('dark', 'webs'): 1, ('webs', 'largest'): 1, ('largest', 'marketplace'): 1, ('marketplace', 'stolen'): 1, ('stolen', 'credit'): 1, ('credit', 'cards'): 1, ('cards', 'shutting'): 1, ('shutting', 'unstoppable'): 1, ('unstoppable', 'stocks'): 1, ('stocks', 'beat'): 1, ('beat', 'bitcoin'): 1, ('bitcoin', 'moment'): 1, ('moment', 'reckoning'): 1, ('reckoning', 'financial'): 1, ('financial', 'literacy'): 1, ('literacy', 'top'): 1, ('ethereum', 'gain'): 1, ('gain', 'cardano'): 1, ('zoom', 'kazakhstans'): 1, ('kazakhstans', 'bitcoin'): 2, ('paradise', 'may'): 2, ('may', 'losing'): 2, ('losing', 'lustre'): 2, ('lustre', 'new'): 1, ('new', 'apple'): 1, ('apple', 'ipad'): 1, ('ipad', 'pro'): 1, ('pro', 'rumored'): 1, ('rumored', 'feature'): 1, ('feature', 'magsafe'): 1, ('magsafe', 'charging'): 1, ('charging', 'bitcoin'): 1, ('bonds', 'bividends'): 1, ('bividends', 'crypto'): 1, ('crypto', 'gone'): 1, ('gone', 'mainstream'): 1, ('mainstream', 'ukraine'): 1, ('ukraine', 'blame'): 1, ('blame', 'belarus'): 1, ('belarus', 'pcwiping'): 1, ('pcwiping', 'ransomware'): 1, ('ransomware', 'ha'): 1, ('ha', 'recovery'): 1, ('recovery', 'method'): 1, ('method', 'nuke'): 1, ('nuke', 'target'): 1, ('target', 'boxen'): 1, ('boxen', 'bitcoin'): 1, ('dogecoin', 'continue'): 2, ('continue', 'slide'): 2, ('slide', 'economic'): 1, ('economic', 'indicator'): 1, ('indicator', 'weigh'): 1, ('weigh', 'heavily'): 1, ('heavily', 'cryptocurrency'): 1, ('cryptocurrency', 'fox'): 1, ('business', 'cryptoland'): 1, ('cryptoland', 'quick'): 1, ('quick', 'dive'): 1, ('dive', 'crypto'): 1, ('crypto', 'enthusiasts'): 2, ('enthusiasts', 'idea'): 1, ('idea', 'utopia'): 1, ('utopia', 'bitcoin'): 1, ('slide', 'fox'): 1, ('bitcoins', 'dominance'): 2, ('dominance', 'crypto'): 2, ('crypto', 'payments'): 2, ('payments', 'starting'): 2, ('starting', 'erode'): 2, ('erode', 'destructive'): 1, ('destructive', 'hacks'): 1, ('hacks', 'ukraine'): 1, ('ukraine', 'echo'): 1, ('echo', 'last'): 1, ('last', 'cyberwar'): 1, ('cyberwar', 'controversial'): 1, ('controversial', 'investment'): 1, ('investment', 'guru'): 1, ('guru', 'cathie'): 1, ('wood', 'wants'): 1, ('wants', 'help'): 1, ('help', 'trust'): 1, ('trust', 'stock'): 1, ('market', 'k'): 1, ('k', 'stolen'): 1, ('stolen', 'hour'): 1, ('hour', 'youtube'): 1, ('youtube', 'crypto'): 1, ('crypto', 'giveaway'): 1, ('giveaway', 'scam'): 1, ('scam', 'control'): 1, ('control', 'bitcoin'): 1, ('crash', 'midterm'): 1, ('midterm', 'glitch'): 1, ('glitch', 'way'): 1, ('way', 'reverseengineering'): 1, ('reverseengineering', 'glory'): 1, ('glory', 'picoemp'): 1, ('picoemp', 'race'): 1, ('race', 'power'): 2, ('power', 'defi'): 2, ('ecosystem', 'walmart'): 1, ('walmart', 'filings'): 1, ('filings', 'reveal'): 1, ('reveal', 'plans'): 1, ('plans', 'create'): 1, ('create', 'cryptocurrency'): 1, ('nfts', 'bitcoins'): 1, ('erode', 'bitcoin'): 1, ('bitcoin', 'almost'): 1, ('almost', 'high'): 1, ('high', 'laptop'): 1, ('laptop', 'mine'): 1, ('bitcoin', 'definitely'): 1, ('definitely', 'wont'): 1, ('wont', 'make'): 1, ('make', 'rich'): 1, ('rich', 'undertheradar'): 1, ('undertheradar', 'cryptocurrency'): 1, ('cryptocurrency', 'stock'): 1, ('stock', 'could'): 1, ('could', 'outpace'): 1, ('outpace', 'bitcoin'): 1, ('crypto', 'nfts'): 1, ('nfts', 'braced'): 1, ('braced', 'big'): 1, ('big', 'week'): 1, ('week', 'extreme'): 1, ('swings', 'hit'): 1, ('hit', 'ethereum'): 1, ('xrp', 'north'): 1, ('north', 'korea'): 1, ('korea', 'pulled'): 1, ('pulled', 'cryptocurrency'): 1, ('cryptocurrency', 'heist'): 1, ('heist', 'last'): 1, ('last', 'year'): 1, ('year', 'report'): 1, ('bitcoin', 'monetary'): 1, ('monetary', 'chakras'): 1, ('chakras', 'crypto'): 1, ('crypto', 'crashing'): 1, ('crashing', 'invest'): 1, ('invest', 'dogecoin'): 1, ('dogecoin', 'plummeting'): 1, ('today', 'habits'): 1, ('habits', 'highly'): 1, ('highly', 'effective'): 1, ('effective', 'hodlers'): 1, ('hodlers', 'ukraine'): 1, ('ukraine', 'demonstrates'): 1, ('demonstrates', 'bitcoin'): 1, ('bitcoin', 'transform'): 1, ('transform', 'developing'): 1, ('developing', 'countries'): 1, ('countries', 'value'): 1, ('value', 'dont'): 1, ('dont', 'web'): 1, ('web', 'coinbase'): 1, ('coinbase', 'curse'): 1, ('curse', 'vcs'): 1, ('vcs', 'sell'): 1, ('sell', 'crypto'): 1, ('crypto', 'retail'): 1, ('retail', 'race'): 1, ('ecosystem', 'blockchain'): 1, ('blockchain', 'fulfil'): 1, ('fulfil', 'democratic'): 1, ('democratic', 'promise'): 1, ('promise', 'become'): 1, ('become', 'tool'): 1, ('tool', 'big'): 1, ('tech', 'john'): 1, ('john', 'naughton'): 1, ('naughton', 'rio'): 1, ('rio', 'de'): 1, ('de', 'janeiro'): 1, ('janeiro', 'set'): 1, ('set', 'allocate'): 1, ('allocate', 'one'): 1, ('one', 'percent'): 1, ('percent', 'treasury'): 1, ('treasury', 'bitcoin'): 1, ('miners', 'study'): 1, ('study', 'volatility'): 1, ('volatility', 'india'): 1, ('india', 'soon'): 1, ('soon', 'get'): 1, ('get', 'exchangetraded'): 1, ('exchangetraded', 'funds'): 1, ('funds', 'bitcoin'): 1, ('ethereum', 'report'): 1, ('report', 'paypal'): 1, ('paypal', 'exploring'): 1, ('exploring', 'crypto'): 1, ('crypto', 'dogecoin'): 1, ('dogecoin', 'buy'): 1, ('buy', 'tesla'): 1, ('tesla', 'merch'): 1, ('merch', 'weeks'): 1, ('roundup', 'moneymaking'): 1, ('moneymaking', 'strategy'): 1, ('strategy', 'right'): 1, ('right', 'bitcoin'): 1, ('ethereum', 'cardano'): 1, ('cardano', 'continue'): 1, ('continue', 'positive'): 1, ('positive', 'push'): 1, ('push', 'weekend'): 1, ('weekend', 'crypto'): 1, ('enthusiasts', 'meet'): 1, ('meet', 'match'): 1, ('match', 'angry'): 1, ('angry', 'gamers'): 1, ('gamers', 'astonishingan'): 1, ('astonishingan', 'investment'): 1, ('investment', 'giant'): 1, ('giant', 'advised'): 1, ('advised', 'countries'): 1, ('countries', 'central'): 1, ('central', 'banks'): 1, ('banks', 'buy'): 1, ('price', 'low'): 1, ('low', 'breakout'): 1, ('breakout', 'growth'): 1, ('growth', 'stock'): 1, ('stock', 'outpaced'): 1, ('outpaced', 'bitcoin'): 1, ('bitcoin', 'surefire'): 1, ('surefire', 'buy'): 1, ('buy', 'right'): 1, ('right', 'explained'): 1, ('explained', 'live'): 1, ('live', 'bitcoin'): 1, ('much', 'political'): 1, ('political', 'movement'): 1, ('movement', 'technological'): 1, ('technological', 'one'): 1, ('one', 'trading'): 1, ('trading', 'gambling'): 1, ('gambling', 'doubt'): 1, ('doubt', 'cryptocurrency'): 1, ('cryptocurrency', 'dealing'): 1, ('dealing', 'fuel'): 1, ('fuel', 'addiction'): 1, ('addiction', 'still'): 1, ('still', 'early'): 1, ('early', 'day'): 1, ('day', 'blockchain'): 1, ('price', 'outlook'): 1, ('outlook', 'goldman'): 1, ('sachs', 'jpmorgan'): 1, ('jpmorgan', 'crypto'): 1, ('crypto', 'investing'): 1, ('investing', 'analysis'): 1, ('analysis', 'business'): 1, ('business', 'insider'): 1, ('insider', 'ransomware'): 1, ('ransomware', 'group'): 1, ('group', 'revil'): 1, ('revil', 'dismantled'): 1, ('dismantled', 'raids'): 1, ('raids', 'russia'): 1, ('russia', 'says'): 1, ('says', 'bitcoin'): 1, ('bitcoin', 'hunter'): 1, ('hunter', 'begins'): 1, ('begins', 'freeofcharge'): 1, ('freeofcharge', 'cellular'): 1, ('cellular', 'phone'): 1, ('phone', 'bitcoin'): 1, ('mining', 'service'): 1, ('service', 'race'): 1, ('race', 'fund'): 1, ('fund', 'cryptos'): 1, ('cryptos', 'future'): 1, ('future', 'sure'): 1, ('sure', 'expensive'): 1, ('expensive', 'gamefi'): 1, ('gamefi', 'cryptos'): 1, ('cryptos', 'hot'): 1, ('hot', 'new'): 1, ('new', 'thing'): 1, ('thing', 'jack'): 1, ('dorseys', 'block'): 2, ('block', 'working'): 1, ('working', 'make'): 1, ('mining', 'easier'): 1, ('easier', 'block'): 1, ('block', 'officially'): 1, ('officially', 'building'): 1, ('building', 'open'): 1, ('open', 'bitcoin'): 1, ('mining', 'system'): 2, ('system', 'say'): 1, ('say', 'founder'): 1, ('founder', 'jack'): 1, ('dorsey', 'musk'): 1, ('musk', 'say'): 3, ('say', 'tesla'): 1, ('tesla', 'accept'): 3, ('dogecoin', 'merchandise'): 2, ('merchandise', 'jack'): 1, ('dorsey', 'say'): 1, ('say', 'block'): 1, ('block', 'building'): 1, ('building', 'bitcoin'): 1, ('system', 'anyone'): 1, ('anyone', 'easily'): 1, ('easily', 'buy'): 1, ('buy', 'rig'): 1, ('rig', 'anthony'): 1, ('anthony', 'scaramucci'): 1, ('scaramucci', 'say'): 1, ('say', 'buying'): 1, ('dip', 'bitcoin'): 1, ('bitcoin', 'expects'): 1, ('expects', 'sloppiness'): 1, ('sloppiness', 'volatility'): 1, ('volatility', 'kazakhstans'): 1, ('lustre', 'reuters'): 1, ('reuters', 'global'): 1, ('global', 'crypto'): 1, ('crypto', 'fund'): 1, ('fund', 'post'): 1, ('post', 'sharp'): 1, ('sharp', 'gain'): 1, ('gain', 'barclayhedge'): 1, ('barclayhedge', 'reuters'): 1, ('reuters', 'dogecoin'): 1, ('dogecoin', 'jumps'): 1, ('jumps', 'elon'): 1, ('musk', 'says'): 1, ('says', 'tesla'): 1, ('accept', 'meme'): 1, ('coin', 'merchandise'): 1, ('merchandise', 'northwest'): 1, ('northwest', 'arkansas'): 1, ('arkansas', 'pay'): 1, ('bitcoin', 'move'): 1, ('move', 'help'): 1, ('help', 'turn'): 1, ('turn', 'crypto'): 1, ('crypto', 'hub'): 1, ('hub', 'etfs'): 1, ('etfs', 'win'): 1, ('win', 'lose'): 1, ('lose', 'hawkish'): 1, ('fed', 'minutes'): 1, ('minutes', 'revised'): 1, ('revised', 'cryptocurrency'): 1, ('ad', 'reach'): 1, ('reach', 'record'): 1, ('record', 'level'): 1, ('level', 'london'): 1, ('london', 'transport'): 1, ('transport', 'consider'): 1, ('consider', 'etf'): 1, ('etf', 'strategies'): 1, ('strategies', 'tackle'): 1, ('tackle', 'hot'): 1, ('hot', 'inflation'): 1, ('data', 'dogecoin'): 1, ('dogecoin', 'value'): 1, ('value', 'soar'): 1, ('soar', 'elon'): 1, ('say', 'accepted'): 1, ('accepted', 'tesla'): 1, ('tesla', 'good'): 1, ('good', 'tesla'): 1, ('merchandise', 'musk'): 1, ('stock', 'whiplashed'): 1, ('whiplashed', 'bank'): 1, ('bank', 'drop'): 1, ('drop', 'earnings'): 1, ('earnings', 'result'): 1, ('result', 'bond'): 1, ('yield', 'surge'): 1, ('surge', 'uk'): 1, ('us', 'stuck'): 1, ('stuck', 'cbdc'): 1, ('cbdc', 'hypothetical'): 1, ('hypothetical', 'developing'): 1, ('developing', 'nation'): 1, ('nation', 'plow'): 1, ('plow', 'ahead'): 1, ('ahead', 'testing'): 1, ('testing', 'etf'): 1, ('etf', 'market'): 1, ('market', 'outlook'): 1, ('outlook', 'picks'): 1, ('picks', 'jack'): 1, ('block', 'getting'): 1, ('getting', 'bitcoin'): 1, ('mining', 'north'): 1, ('north', 'korean'): 1, ('korean', 'hacker'): 1, ('hacker', 'stole'): 1, ('stole', 'million'): 1, ('worth', 'crypto'): 1, ('crypto', 'tesla'): 1, ('tesla', 'take'): 1, ('take', 'dogecoin'): 1, ('dogecoin', 'payment'): 1, ('payment', 'merch'): 1, ('merch', 'car'): 1}\n"
     ]
    }
   ],
   "source": [
    "def bigram_counter(corpus): \n",
    "    # Combine all articles in corpus into one large string\n",
    "    big_string = ' '.join(corpus)\n",
    "    processed = process_text(big_string)\n",
    "    bigrams = ngrams(processed, n=2)\n",
    "    top_10 = dict(Counter(bigrams).most_common(10))\n",
    "    return pd.DataFrame(list(top_10.items()), columns=['bigram', 'count'])\n",
    "\n",
    "# Generate the Bitcoin N-grams where N=2\n",
    "bigram_counts = Counter(ngrams(btc_tokens, n=2))\n",
    "print(dict(bigram_counts))"
   ]
  },
  {
   "cell_type": "code",
   "execution_count": null,
   "metadata": {},
   "outputs": [],
   "source": [
    "# Generate the Ethereum N-grams where N=2\n",
    "# YOUR CODE HERE!"
   ]
  },
  {
   "cell_type": "code",
   "execution_count": null,
   "metadata": {},
   "outputs": [],
   "source": [
    "# Function token_count generates the top 10 words for a given coin\n",
    "def token_count(tokens, N=3):\n",
    "    \"\"\"Returns the top N tokens from the frequency count\"\"\"\n",
    "    return Counter(tokens).most_common(N)"
   ]
  },
  {
   "cell_type": "code",
   "execution_count": null,
   "metadata": {},
   "outputs": [],
   "source": [
    "# Use token_count to get the top 10 words for Bitcoin\n",
    "# YOUR CODE HERE!"
   ]
  },
  {
   "cell_type": "code",
   "execution_count": null,
   "metadata": {},
   "outputs": [],
   "source": [
    "# Use token_count to get the top 10 words for Ethereum\n",
    "# YOUR CODE HERE!"
   ]
  },
  {
   "cell_type": "markdown",
   "metadata": {},
   "source": []
  },
  {
   "cell_type": "markdown",
   "metadata": {},
   "source": [
    "---"
   ]
  },
  {
   "cell_type": "markdown",
   "metadata": {},
   "source": [
    "### Word Clouds\n",
    "\n",
    "In this section, you will generate word clouds for each coin to summarize the news for each coin"
   ]
  },
  {
   "cell_type": "markdown",
   "metadata": {},
   "source": []
  },
  {
   "cell_type": "code",
   "execution_count": null,
   "metadata": {},
   "outputs": [],
   "source": [
    "from wordcloud import WordCloud\n",
    "import matplotlib.pyplot as plt\n",
    "plt.style.use('seaborn-whitegrid')\n",
    "import matplotlib as mpl\n",
    "mpl.rcParams['figure.figsize'] = [20.0, 10.0]"
   ]
  },
  {
   "cell_type": "code",
   "execution_count": null,
   "metadata": {},
   "outputs": [],
   "source": [
    "# Generate the Bitcoin word cloud\n",
    "# YOUR CODE HERE!"
   ]
  },
  {
   "cell_type": "code",
   "execution_count": null,
   "metadata": {},
   "outputs": [],
   "source": [
    "# Generate the Ethereum word cloud\n",
    "# YOUR CODE HERE!"
   ]
  },
  {
   "cell_type": "markdown",
   "metadata": {},
   "source": [
    "---\n",
    "## 3. Named Entity Recognition\n",
    "\n",
    "In this section, you will build a named entity recognition model for both Bitcoin and Ethereum, then visualize the tags using SpaCy."
   ]
  },
  {
   "cell_type": "code",
   "execution_count": null,
   "metadata": {},
   "outputs": [],
   "source": [
    "import spacy\n",
    "from spacy import displacy"
   ]
  },
  {
   "cell_type": "code",
   "execution_count": null,
   "metadata": {},
   "outputs": [],
   "source": [
    "# Download the language model for SpaCy\n",
    "# !python -m spacy download en_core_web_sm"
   ]
  },
  {
   "cell_type": "code",
   "execution_count": null,
   "metadata": {},
   "outputs": [],
   "source": [
    "# Load the spaCy model\n",
    "nlp = spacy.load('en_core_web_sm')"
   ]
  },
  {
   "cell_type": "markdown",
   "metadata": {},
   "source": [
    "---\n",
    "### Bitcoin NER"
   ]
  },
  {
   "cell_type": "code",
   "execution_count": null,
   "metadata": {},
   "outputs": [],
   "source": [
    "# Concatenate all of the Bitcoin text together\n",
    "# YOUR CODE HERE!"
   ]
  },
  {
   "cell_type": "code",
   "execution_count": null,
   "metadata": {},
   "outputs": [],
   "source": [
    "# Run the NER processor on all of the text\n",
    "# YOUR CODE HERE!\n",
    "\n",
    "# Add a title to the document\n",
    "# YOUR CODE HERE!"
   ]
  },
  {
   "cell_type": "code",
   "execution_count": null,
   "metadata": {},
   "outputs": [],
   "source": [
    "# Render the visualization\n",
    "# YOUR CODE HERE!"
   ]
  },
  {
   "cell_type": "code",
   "execution_count": null,
   "metadata": {},
   "outputs": [],
   "source": [
    "# List all Entities\n",
    "# YOUR CODE HERE!"
   ]
  },
  {
   "cell_type": "markdown",
   "metadata": {},
   "source": [
    "---"
   ]
  },
  {
   "cell_type": "markdown",
   "metadata": {},
   "source": [
    "### Ethereum NER"
   ]
  },
  {
   "cell_type": "code",
   "execution_count": null,
   "metadata": {},
   "outputs": [],
   "source": [
    "# Concatenate all of the Ethereum text together\n",
    "# YOUR CODE HERE!"
   ]
  },
  {
   "cell_type": "code",
   "execution_count": null,
   "metadata": {},
   "outputs": [],
   "source": [
    "# Run the NER processor on all of the text\n",
    "# YOUR CODE HERE!\n",
    "\n",
    "# Add a title to the document\n",
    "# YOUR CODE HERE!"
   ]
  },
  {
   "cell_type": "code",
   "execution_count": null,
   "metadata": {},
   "outputs": [],
   "source": [
    "# Render the visualization\n",
    "# YOUR CODE HERE!"
   ]
  },
  {
   "cell_type": "code",
   "execution_count": null,
   "metadata": {},
   "outputs": [],
   "source": [
    "# List all Entities\n",
    "# YOUR CODE HERE!"
   ]
  },
  {
   "cell_type": "markdown",
   "metadata": {},
   "source": [
    "---"
   ]
  }
 ],
 "metadata": {
  "file_extension": ".py",
  "kernelspec": {
   "display_name": "Python 3",
   "language": "python",
   "name": "python3"
  },
  "language_info": {
   "codemirror_mode": {
    "name": "ipython",
    "version": 3
   },
   "file_extension": ".py",
   "mimetype": "text/x-python",
   "name": "python",
   "nbconvert_exporter": "python",
   "pygments_lexer": "ipython3",
   "version": "3.8.8"
  },
  "mimetype": "text/x-python",
  "name": "python",
  "npconvert_exporter": "python",
  "pygments_lexer": "ipython3",
  "version": 3
 },
 "nbformat": 4,
 "nbformat_minor": 4
}
